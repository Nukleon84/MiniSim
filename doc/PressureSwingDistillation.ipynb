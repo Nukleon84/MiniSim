{
 "cells": [
  {
   "cell_type": "markdown",
   "metadata": {},
   "source": [
    "# Introduction\n",
    "<div style=\"width:100%;height:6px;background-color:Black;\"></div>"
   ]
  },
  {
   "cell_type": "markdown",
   "metadata": {},
   "source": [
    "### Pressure Swing Distillation\n",
    "\n",
    "Separation of the Methanol and Acetone minimum temperature azeotrope by using the pressure sensitivity of the azeotropic composition of this mixture by operating two columns at different pressures, adapted from [Luyben et al. Ind.Eng.Chem.Res. (2008) 47 pp. 2696-2707.](http://pubs.acs.org/doi/pdf/10.1021/ie701695u).\n",
    "\n",
    "The number of stages in this flowsheet differs from the specifications used in the ChemSep example.\n",
    "\n",
    "[Link to the flowsheet drawing](http://www.chemsep.org/downloads/data/Pressure_Swing_MA_iecr47p2696.png)"
   ]
  },
  {
   "cell_type": "markdown",
   "metadata": {},
   "source": [
    "# .NET Initialization\n",
    "<div style=\"width:100%;height:6px;background-color:Black;\"></div>"
   ]
  },
  {
   "cell_type": "code",
   "execution_count": 1,
   "metadata": {
    "ExecuteTime": {
     "end_time": "2020-01-10T22:57:10.724517Z",
     "start_time": "2020-01-10T22:57:10.518040Z"
    }
   },
   "outputs": [],
   "source": [
    "import clr\n",
    "clr.AddReference(r\"..\\bin\\MiniSim.Core\")\n",
    "\n",
    "import MiniSim.Core.Expressions as expr\n",
    "from  MiniSim.Core.Flowsheeting import MaterialStream, Flowsheet\n",
    "import MiniSim.Core.Numerics as num\n",
    "from MiniSim.Core.UnitsOfMeasure import Unit, SI, METRIC, PhysicalDimension\n",
    "from MiniSim.Core.ModelLibrary import Flash, Heater, Mixer, Splitter, EquilibriumStageSection\n",
    "import MiniSim.Core.PropertyDatabase as chemsep\n",
    "from MiniSim.Core.Reporting import Generator, StringBuilderLogger\n",
    "from MiniSim.Core.Thermodynamics import ThermodynamicSystem"
   ]
  },
  {
   "cell_type": "code",
   "execution_count": 2,
   "metadata": {
    "ExecuteTime": {
     "end_time": "2020-01-10T22:57:10.983824Z",
     "start_time": "2020-01-10T22:57:10.725484Z"
    }
   },
   "outputs": [],
   "source": [
    "%matplotlib inline"
   ]
  },
  {
   "cell_type": "code",
   "execution_count": 3,
   "metadata": {
    "ExecuteTime": {
     "end_time": "2020-01-10T22:57:11.276115Z",
     "start_time": "2020-01-10T22:57:10.985788Z"
    }
   },
   "outputs": [],
   "source": [
    "import numpy as np\n",
    "import pandas as pd\n",
    "import matplotlib.pyplot as plt\n",
    "\n",
    "plt.rcParams[\"figure.figsize\"] = (16,8)\n",
    "plt.rcParams['grid.color'] = 'k'"
   ]
  },
  {
   "cell_type": "markdown",
   "metadata": {},
   "source": [
    "# General Objects Instantiation\n",
    "<div style=\"width:100%;height:6px;background-color:Black;\"></div>"
   ]
  },
  {
   "cell_type": "code",
   "execution_count": 4,
   "metadata": {
    "ExecuteTime": {
     "end_time": "2020-01-10T22:57:11.283991Z",
     "start_time": "2020-01-10T22:57:11.277008Z"
    }
   },
   "outputs": [],
   "source": [
    "Database = chemsep.ChemSepAdapter()\n",
    "logger = StringBuilderLogger();\n",
    "reporter = Generator(logger)"
   ]
  },
  {
   "cell_type": "markdown",
   "metadata": {},
   "source": [
    "# Set up Thermodynamics"
   ]
  },
  {
   "cell_type": "code",
   "execution_count": 5,
   "metadata": {
    "ExecuteTime": {
     "end_time": "2020-01-10T22:57:11.402699Z",
     "start_time": "2020-01-10T22:57:11.284988Z"
    }
   },
   "outputs": [],
   "source": [
    "sys= ThermodynamicSystem(\"Test2\",\"NRTL\", \"default\")\n",
    "\n",
    "sys.AddComponent(Database.FindComponent(\"Acetone\"))\n",
    "sys.AddComponent(Database.FindComponent(\"Methanol\"))\n",
    "Database.FillBIPs(sys)\n",
    "\n",
    "kmolh=Unit.Make([SI.kmol],[SI.h])\n",
    "tonh=Unit.Make([METRIC.ton],[SI.h])\n",
    "\n",
    "sys.VariableFactory.SetOutputDimension(PhysicalDimension.HeatFlow, SI.MW)\n",
    "sys.VariableFactory.SetOutputDimension(PhysicalDimension.Pressure, METRIC.bar)\n",
    "sys.VariableFactory.SetOutputDimension(PhysicalDimension.MassFlow, tonh)"
   ]
  },
  {
   "cell_type": "markdown",
   "metadata": {},
   "source": [
    "# Analysis of the Thermo System"
   ]
  },
  {
   "cell_type": "code",
   "execution_count": 6,
   "metadata": {
    "ExecuteTime": {
     "end_time": "2020-01-10T22:57:11.415643Z",
     "start_time": "2020-01-10T22:57:11.404667Z"
    }
   },
   "outputs": [],
   "source": [
    "def thermoAnalysis(psys):\n",
    "    numComps=len(sys.Components)\n",
    "    names=sys.GetComponentIds()\n",
    "\n",
    "    numSteps=20    \n",
    "    mixture= MaterialStream(\"Mix\", sys)\n",
    "    mixture.Specify(\"VF\",0.0)\n",
    "    mixture.Specify(\"P\",psys, METRIC.mbar)\n",
    "    for c in names:\n",
    "        mixture.Specify(\"n[\"+c+\"]\",1.0)\n",
    "    mixture.InitializeFromMolarFlows()\n",
    "    mixture.FlashPZ()\n",
    "\n",
    "    test= Flowsheet(\"test\")\n",
    "    test.AddMaterialStream(mixture)\n",
    "\n",
    "    solver= num.DecompositionSolver(logger)\n",
    "    result=solver.Solve(test)\n",
    "\n",
    "    fig,axs=plt.subplots(numComps,numComps,figsize=(8,8))\n",
    "    for i in range(numComps):\n",
    "        for j in range(numComps):       \n",
    "            if j!=i:\n",
    "                xvec=[]\n",
    "                yvec=[]\n",
    "                for c in range(numSteps):\n",
    "                    for k in range(numComps):                    \n",
    "                        mixture.Specify(\"n[\"+names[k]+\"]\",0.0)\n",
    "                    mixture.Specify(\"n[\"+names[i]+\"]\",c/(numSteps-1))\n",
    "                    mixture.Specify(\"n[\"+names[j]+\"]\",1.0-c/(numSteps-1))\n",
    "                    mixture.InitializeFromMolarFlows()\n",
    "                    mixture.FlashPZ()\n",
    "                    solver.Solve(test)                               \n",
    "                    xvec.append(mixture.GetVariable('xL['+names[j]+']').Val())               \n",
    "                    yvec.append(mixture.GetVariable('xV['+names[j]+']').Val())               \n",
    "                axs[i,j].plot(xvec, yvec)\n",
    "                axs[i,j].plot(xvec, xvec)              \n",
    "                axs[i,j].set_title(names[j] +' in '+names[i])\n",
    "                axs[i,j].set_xlabel('$x_{'+names[j]+'}$')       \n",
    "                axs[i,j].set_ylabel('$y_{'+names[j]+'}$')\n",
    "                axs[i, j].set_aspect('equal', 'box')\n",
    "            else:\n",
    "                axs[i, j].axis('off')        \n",
    "\n",
    "    plt.tight_layout()\n",
    "    logger.Flush()\n",
    "    plt.suptitle('(x,y)-Diagram at '+str(round(psys,2))+' mbar', y=1.05);"
   ]
  },
  {
   "cell_type": "code",
   "execution_count": 7,
   "metadata": {
    "ExecuteTime": {
     "end_time": "2020-01-10T22:57:12.091829Z",
     "start_time": "2020-01-10T22:57:11.417633Z"
    }
   },
   "outputs": [
    {
     "data": {
      "image/png": "[encoded data removed]",
      "text/plain": [
       "<Figure size 576x576 with 4 Axes>"
      ]
     },
     "metadata": {
      "needs_background": "light"
     },
     "output_type": "display_data"
    }
   ],
   "source": [
    "thermoAnalysis(1000)"
   ]
  },
  {
   "cell_type": "code",
   "execution_count": 8,
   "metadata": {
    "ExecuteTime": {
     "end_time": "2020-01-10T22:57:12.447877Z",
     "start_time": "2020-01-10T22:57:12.094822Z"
    }
   },
   "outputs": [
    {
     "data": {
      "image/png": "[encoded data removed]",
      "text/plain": [
       "<Figure size 576x576 with 4 Axes>"
      ]
     },
     "metadata": {
      "needs_background": "light"
     },
     "output_type": "display_data"
    }
   ],
   "source": [
    "thermoAnalysis(10000)"
   ]
  },
  {
   "cell_type": "markdown",
   "metadata": {},
   "source": [
    "# Low pressure column"
   ]
  },
  {
   "cell_type": "code",
   "execution_count": 9,
   "metadata": {
    "ExecuteTime": {
     "end_time": "2020-01-10T22:57:12.464837Z",
     "start_time": "2020-01-10T22:57:12.449873Z"
    }
   },
   "outputs": [],
   "source": [
    "Feed = (MaterialStream(\"Feed\", sys)\n",
    "    .Specify(\"T\",43, METRIC.C)\n",
    "    .Specify(\"P\",1, METRIC.bar)\n",
    "    .Specify(\"n[Acetone]\", 270, kmolh)\n",
    "    .Specify(\"n[Methanol]\", 270, kmolh)\n",
    "    .InitializeFromMolarFlows()\n",
    "    .FlashPT())\n",
    "\n",
    "Recycle = (MaterialStream(\"Recycle\", sys)\n",
    "    .Specify(\"T\",54, METRIC.C)\n",
    "    .Specify(\"P\",10, METRIC.bar)\n",
    "    .Specify(\"n[Acetone]\",10, kmolh)\n",
    "    .Specify(\"n[Methanol]\", 170, kmolh)\n",
    "    .InitializeFromMolarFlows()\n",
    "    .FlashPZ())\n",
    "\n",
    "S01 = MaterialStream(\"S01\", sys)\n",
    "S02 = MaterialStream(\"S02\", sys)\n",
    "S03 =(MaterialStream(\"S03\", sys)\n",
    "    .Init(\"T\", 51, METRIC.C)\n",
    "    .Init(\"P\", 1, METRIC.bar)\n",
    "    .Init(\"n[Acetone]\",50, kmolh)\n",
    "    .Init(\"n[Methanol]\", 50, kmolh))\n",
    "\n",
    "S04 = MaterialStream(\"S04\", sys)\n",
    "S05 = (MaterialStream(\"S05\", sys)\n",
    "    .Init(\"T\", 61, METRIC.C)\n",
    "    .Init(\"P\", 1, METRIC.bar)\n",
    "    .Init(\"n[Acetone]\",2, kmolh)\n",
    "    .Init(\"n[Methanol]\", 100, kmolh))\n",
    "\n",
    "Methanol = MaterialStream(\"Methanol\", sys)\n",
    "D1 = MaterialStream(\"D1\", sys)"
   ]
  },
  {
   "cell_type": "code",
   "execution_count": 10,
   "metadata": {
    "ExecuteTime": {
     "end_time": "2020-01-10T22:57:12.615458Z",
     "start_time": "2020-01-10T22:57:12.466827Z"
    }
   },
   "outputs": [],
   "source": [
    "C1 = (EquilibriumStageSection(\"C1\",sys,52)\n",
    "        .Connect(\"VIn\", S05)\n",
    "        .Connect(\"LIn\", S03)\n",
    "        .Connect(\"VOut\", S01)\n",
    "        .Connect(\"LOut\", S04)\n",
    "        .ConnectFeed(Feed,37)\n",
    "        .ConnectFeed(Recycle,41)\n",
    "        .MakeAdiabatic()\n",
    "        .MakeIsobaric()\n",
    "        .FixStageEfficiency(1.0)\n",
    "        .Initialize(2.3,0.25,logger))\n",
    "\n",
    "REB1 =(Flash(\"REB1\",sys)\n",
    "        .Connect(\"In\", S04)\n",
    "        .Connect(\"Vap\", S05)\n",
    "        .Connect(\"Liq\", Methanol)\n",
    "        .Specify(\"P\", 1, METRIC.bar)\n",
    "        .Specify(\"VF\",0.7)\n",
    "        .Initialize())\n",
    "\n",
    "COND1 = (Heater(\"COND1\",sys)\n",
    "        .Connect(\"In\", S01)\n",
    "        .Connect(\"Out\", S02)\n",
    "        .Specify(\"P\",1, METRIC.bar)\n",
    "        .Specify(\"VF\",0)\n",
    "        .Initialize())\n",
    "\n",
    "RefluxRatio1=2.36\n",
    "REFSPL1 = (Splitter(\"REFSPL1\",sys)\n",
    "        .Connect(\"In\", S02)\n",
    "        .Connect(\"Out1\", S03)\n",
    "        .Connect(\"Out2\", D1)\n",
    "        .Specify(\"DP\",0, METRIC.bar)\n",
    "        .Specify(\"K\",RefluxRatio1/(1.0+RefluxRatio1))\n",
    "        .Initialize())\n",
    "\n",
    "C1.Initialize(1.0,0.25,logger)\n",
    "logger.Flush();"
   ]
  },
  {
   "cell_type": "code",
   "execution_count": 11,
   "metadata": {
    "ExecuteTime": {
     "end_time": "2020-01-10T22:57:12.622927Z",
     "start_time": "2020-01-10T22:57:12.616919Z"
    }
   },
   "outputs": [],
   "source": [
    "flowsheet= (Flowsheet(\"Flow\")\n",
    "            .AddMaterialStreams(Feed, Recycle, S01,S02,S03,D1,S04,S05, Methanol)\n",
    "            .AddUnits(C1, REB1, COND1, REFSPL1))"
   ]
  },
  {
   "cell_type": "code",
   "execution_count": 12,
   "metadata": {
    "ExecuteTime": {
     "end_time": "2020-01-10T22:57:13.050782Z",
     "start_time": "2020-01-10T22:57:12.624894Z"
    }
   },
   "outputs": [
    {
     "name": "stdout",
     "output_type": "stream",
     "text": [
      "Decomposition Result: V=846, E=846, Blocks=238, Singletons=230\r\n",
      "Block Statistics:\r\n",
      "   # Var # Blocks % Blocks\r\n",
      "       1      230  96,64 %\r\n",
      "       5        4   1,68 %\r\n",
      "       6        3   1,26 %\r\n",
      "     578        1   0,42 %\r\n",
      "Problem Flow was successfully solved (0,345 seconds)\r\n",
      "\n"
     ]
    }
   ],
   "source": [
    "solver= num.DecompositionSolver(logger)\n",
    "\n",
    "solver.Solve(flowsheet)\n",
    "print (logger.Flush())"
   ]
  },
  {
   "cell_type": "code",
   "execution_count": 13,
   "metadata": {
    "ExecuteTime": {
     "end_time": "2020-01-10T22:57:13.082697Z",
     "start_time": "2020-01-10T22:57:13.052751Z"
    }
   },
   "outputs": [
    {
     "name": "stdout",
     "output_type": "stream",
     "text": [
      "\r\n",
      "Report for flowsheet Flow\r\n",
      "================================================\r\n",
      "\r\n",
      "Material Streams\r\n",
      "\r\n",
      "System                    Test2      \r\n",
      "\r\n",
      "Property                  Unit               Feed      Recycle          S01          S02          S03\r\n",
      "\r\n",
      "Temperature               °C              43.0000     136.0140      55.0442      55.0345      55.0345\r\n",
      "Pressure                  bar              1.0000      10.0000       1.0000       1.0000       1.0000\r\n",
      "Vapor Fraction            mol/mol          0.0000       0.0000       1.0000       0.0000       0.0000\r\n",
      "Specific Enthalpy         kJ/kmol     -32510.3979  -23755.2480    2085.9629  -29148.4951  -29148.4951\r\n",
      "Phase                                      Liquid  LiquidVapor        Vapor  BubblePoint  LiquidVapor\r\n",
      "Density                   kmol/cum        17.0475      19.8074       0.0366      14.5417      14.5417\r\n",
      "Mass Density              kg/cum         768.1702     663.3175       1.8978     753.0426     753.0426\r\n",
      "Volume Flow               cum/h           31.6761       9.0875   29135.9738      73.4260      51.5730\r\n",
      "Molar Weight              kg/kmol         45.0605      33.4884      51.7851      51.7851      51.7851\r\n",
      "\r\n",
      "Total Molar Flow          kmol/h         540.0000     180.0000    1067.7376    1067.7376     749.9585\r\n",
      "                  Acetone kmol/h         270.0000      10.0000     809.6313     809.6313     568.6696\r\n",
      "                 Methanol kmol/h         270.0000     170.0000     258.1063     258.1063     181.2890\r\n",
      "Molar Composition                    \r\n",
      "                  Acetone mol/mol          0.5000       0.0556       0.7583       0.7583       0.7583\r\n",
      "                 Methanol mol/mol          0.5000       0.9444       0.2417       0.2417       0.2417\r\n",
      "\r\n",
      "Total Mass Flow           t/h             24.3327       6.0279      55.2929      55.2929      38.8367\r\n",
      "                  Acetone t/h             15.6814       0.5808      47.0227      47.0227      33.0278\r\n",
      "                 Methanol t/h              8.6513       5.4471       8.2702       8.2702       5.8088\r\n",
      "Mass Composition                     \r\n",
      "                  Acetone kg/kg            0.6445       0.0964       0.8504       0.8504       0.8504\r\n",
      "                 Methanol kg/kg            0.3555       0.9036       0.1496       0.1496       0.1496\r\n",
      "\r\n",
      "\r\n",
      "\r\n",
      "Property                  Unit                 D1          S04          S05     Methanol\r\n",
      "\r\n",
      "Temperature               °C              55.0345      59.9555      61.3894      61.3894\r\n",
      "Pressure                  bar              1.0000       1.0000       1.0000       1.0000\r\n",
      "Vapor Fraction            mol/mol          0.0000       0.0000       1.0000       0.0000\r\n",
      "Specific Enthalpy         kJ/kmol     -29148.4951  -32935.2671    1876.8663  -33256.3550\r\n",
      "Phase                                 LiquidVapor  LiquidVapor  LiquidVapor  LiquidVapor\r\n",
      "Density                   kmol/cum        14.5417      20.7511       0.0360      21.5825\r\n",
      "Mass Density              kg/cum         753.0426     752.5849       1.3300     746.0845\r\n",
      "Volume Flow               cum/h           21.8530      64.6102   26104.9489      18.6364\r\n",
      "Molar Weight              kg/kmol         51.7851      36.2671      36.9949      34.5690\r\n",
      "\r\n",
      "Total Molar Flow          kmol/h         317.7790    1340.7365     938.5156     402.2210\r\n",
      "                  Acetone kmol/h         240.9617     217.5723     178.5340      39.0383\r\n",
      "                 Methanol kmol/h          76.8174    1123.1642     759.9815     363.1826\r\n",
      "Molar Composition                    \r\n",
      "                  Acetone mol/mol          0.7583       0.1623       0.1902       0.0971\r\n",
      "                 Methanol mol/mol          0.2417       0.8377       0.8098       0.9029\r\n",
      "\r\n",
      "Total Mass Flow           t/h             16.4562      48.6247      34.7203      13.9044\r\n",
      "                  Acetone t/h             13.9948      12.6364      10.3691       2.2673\r\n",
      "                 Methanol t/h              2.4614      35.9883      24.3512      11.6370\r\n",
      "Mass Composition                     \r\n",
      "                  Acetone kg/kg            0.8504       0.2599       0.2986       0.1631\r\n",
      "                 Methanol kg/kg            0.1496       0.7401       0.7014       0.8369\r\n",
      "\r\n",
      "\r\n",
      "\r\n",
      "\r\n",
      "Design Specifications\r\n",
      "\r\n",
      "Name            Model                          Class           Group                       Residual Equation\r\n",
      "\r\n",
      "\n"
     ]
    }
   ],
   "source": [
    "reporter.Report(flowsheet, 5, False)\n",
    "print (logger.Flush())"
   ]
  },
  {
   "cell_type": "markdown",
   "metadata": {},
   "source": [
    "# Add High pressure column"
   ]
  },
  {
   "cell_type": "code",
   "execution_count": 14,
   "metadata": {
    "ExecuteTime": {
     "end_time": "2020-01-10T22:57:14.554229Z",
     "start_time": "2020-01-10T22:57:13.084665Z"
    }
   },
   "outputs": [],
   "source": [
    "S06 = MaterialStream(\"S06\", sys)\n",
    "S07 = MaterialStream(\"S07\", sys)\n",
    "S08 = (MaterialStream(\"S08\", sys)\n",
    "        .Init(\"T\", 54, METRIC.C)\n",
    "        .Init(\"P\", 10, METRIC.bar)\n",
    "        .Init(\"n[Acetone]\",50, kmolh)\n",
    "        .Init(\"n[Methanol]\", 50, kmolh))\n",
    "\n",
    "S09 = MaterialStream(\"S09\", sys)\n",
    "\n",
    "S10 = (MaterialStream(\"S10\", sys)\n",
    "        .Init(\"T\", 140, METRIC.C)\n",
    "        .Init(\"P\", 10, METRIC.bar)\n",
    "        .Init(\"n[Acetone]\",100, kmolh)\n",
    "        .Init(\"n[Methanol]\", 2, kmolh))\n",
    "\n",
    "Acetone = MaterialStream(\"Acetone\", sys)\n",
    "D2 = MaterialStream(\"D2\", sys)\n",
    "\n",
    "C2 = (EquilibriumStageSection(\"C2\",sys,61)\n",
    "        .Connect(\"VIn\", S10)\n",
    "        .Connect(\"LIn\", S08)\n",
    "        .Connect(\"VOut\", S06)\n",
    "        .Connect(\"LOut\", S09)\n",
    "        .ConnectFeed(D1,41)\n",
    "        .MakeAdiabatic()\n",
    "        .MakeIsobaric()\n",
    "        .FixStageEfficiency(1.0)\n",
    "        .Initialize(3.11,0.1,logger))\n",
    "\n",
    "REB2 = (Flash(\"REB2\",sys)\n",
    "        .Connect(\"In\", S09)\n",
    "        .Connect(\"Vap\", S10)\n",
    "        .Connect(\"Liq\", Acetone)\n",
    "        .Specify(\"P\",10, METRIC.bar)\n",
    "        .Specify(\"VF\",0.7)\n",
    "        .Initialize())\n",
    "\n",
    "COND2 = (Heater(\"COND2\",sys)\n",
    "        .Connect(\"In\", S06)\n",
    "        .Connect(\"Out\", S07)\n",
    "        .Specify(\"P\",10, METRIC.bar)\n",
    "        .Specify(\"VF\",0)\n",
    "        .Initialize())\n",
    "\n",
    "RefluxRatio2=3.11\n",
    "REFSPL2 = (Splitter(\"REFSPL2\",sys)\n",
    "        .Connect(\"In\", S07)\n",
    "        .Connect(\"Out1\", D2)\n",
    "        .Connect(\"Out2\", S08)\n",
    "        .Specify(\"DP\",0, METRIC.bar)\n",
    "        .Specify(\"K\",1-RefluxRatio2/(1.0+RefluxRatio2))\n",
    "        .Initialize())\n",
    "\n",
    "C2.Solve()\n",
    "REB2.Solve()\n",
    "COND2.Solve()\n",
    "REFSPL2.Solve()\n",
    "C2.Initialize(3.11,0.1,logger)\n",
    "logger.Flush();"
   ]
  },
  {
   "cell_type": "code",
   "execution_count": 15,
   "metadata": {
    "ExecuteTime": {
     "end_time": "2020-01-10T22:57:14.560243Z",
     "start_time": "2020-01-10T22:57:14.555231Z"
    }
   },
   "outputs": [],
   "source": [
    "flowsheet.AddMaterialStreams(S06,S07,S08,D2,S09,S10,Acetone)\n",
    "flowsheet.AddUnits(C2, REB2, COND2, REFSPL2);"
   ]
  },
  {
   "cell_type": "code",
   "execution_count": 16,
   "metadata": {
    "ExecuteTime": {
     "end_time": "2020-01-10T22:57:14.994055Z",
     "start_time": "2020-01-10T22:57:14.562214Z"
    }
   },
   "outputs": [
    {
     "name": "stdout",
     "output_type": "stream",
     "text": [
      "Decomposition Result: V=1743, E=1743, Blocks=445, Singletons=431\r\n",
      "Block Statistics:\r\n",
      "   # Var # Blocks % Blocks\r\n",
      "       1      431  96,85 %\r\n",
      "       5        6   1,35 %\r\n",
      "       6        6   1,35 %\r\n",
      "     578        1   0,22 %\r\n",
      "     668        1   0,22 %\r\n",
      "Problem Flow was successfully solved (0,334 seconds)\r\n",
      "\n"
     ]
    }
   ],
   "source": [
    "solver.Solve(flowsheet)\n",
    "print (logger.Flush())"
   ]
  },
  {
   "cell_type": "markdown",
   "metadata": {},
   "source": [
    "# Close Recycle"
   ]
  },
  {
   "cell_type": "markdown",
   "metadata": {},
   "source": [
    "The stream recycle was fixed while we performed the startup calculations. Now we connect the recycle stream with the distillate stream of C2 to close the loop. We use a simple adiabatic heater to close the mass and energy balance."
   ]
  },
  {
   "cell_type": "code",
   "execution_count": 17,
   "metadata": {
    "ExecuteTime": {
     "end_time": "2020-01-10T22:57:15.004029Z",
     "start_time": "2020-01-10T22:57:14.995052Z"
    }
   },
   "outputs": [],
   "source": [
    "Recycle.Unfix()\n",
    "\n",
    "RECY01 = (Heater(\"RECY01\",sys)\n",
    "    .Connect(\"In\", D2)\n",
    "    .Connect(\"Out\", Recycle)\n",
    "    .Specify(\"DP\",9, METRIC.bar)\n",
    "    .Specify(\"Q\",0, SI.kW)\n",
    "    .Initialize()\n",
    "    .Solve())\n",
    "\n",
    "flowsheet.AddUnit(RECY01);"
   ]
  },
  {
   "cell_type": "code",
   "execution_count": 18,
   "metadata": {
    "ExecuteTime": {
     "end_time": "2020-01-10T22:57:15.528625Z",
     "start_time": "2020-01-10T22:57:15.005026Z"
    }
   },
   "outputs": [
    {
     "name": "stdout",
     "output_type": "stream",
     "text": [
      "Decomposition Result: V=1750, E=1750, Blocks=426, Singletons=413\r\n",
      "Block Statistics:\r\n",
      "   # Var # Blocks % Blocks\r\n",
      "       1      413  96,95 %\r\n",
      "       5        5   1,17 %\r\n",
      "       6        7   1,64 %\r\n",
      "    1270        1   0,23 %\r\n",
      "Problem Flow was successfully solved (0,428 seconds)\r\n",
      "\n"
     ]
    }
   ],
   "source": [
    "solver.Solve(flowsheet)\n",
    "print (logger.Flush())"
   ]
  },
  {
   "cell_type": "markdown",
   "metadata": {},
   "source": [
    "# Reach Specifications"
   ]
  },
  {
   "cell_type": "code",
   "execution_count": 19,
   "metadata": {
    "ExecuteTime": {
     "end_time": "2020-01-10T22:57:15.535607Z",
     "start_time": "2020-01-10T22:57:15.530622Z"
    }
   },
   "outputs": [],
   "source": [
    "REB1.Unspecify(\"VF\")\n",
    "REB2.Unspecify(\"VF\")\n",
    "Methanol.GetVariable(\"x[Methanol]\").Fix(0.99)\n",
    "Acetone.GetVariable(\"x[Acetone]\").Fix(0.99)"
   ]
  },
  {
   "cell_type": "code",
   "execution_count": 20,
   "metadata": {
    "ExecuteTime": {
     "end_time": "2020-01-10T22:57:16.757361Z",
     "start_time": "2020-01-10T22:57:15.537602Z"
    }
   },
   "outputs": [
    {
     "name": "stdout",
     "output_type": "stream",
     "text": [
      "Decomposition Result: V=1750, E=1750, Blocks=422, Singletons=409\r\n",
      "Block Statistics:\r\n",
      "   # Var # Blocks % Blocks\r\n",
      "       1      409  96,92 %\r\n",
      "       5        5   1,18 %\r\n",
      "       6        7   1,66 %\r\n",
      "    1274        1   0,24 %\r\n",
      "Problem Flow was successfully solved (1,088 seconds)\r\n",
      "\n"
     ]
    }
   ],
   "source": [
    "solver.Solve(flowsheet)\n",
    "print (logger.Flush())"
   ]
  },
  {
   "cell_type": "code",
   "execution_count": 21,
   "metadata": {
    "ExecuteTime": {
     "end_time": "2020-01-10T22:57:16.767307Z",
     "start_time": "2020-01-10T22:57:16.758331Z"
    }
   },
   "outputs": [
    {
     "name": "stdout",
     "output_type": "stream",
     "text": [
      "\r\n",
      "Report for flowsheet Flow\r\n",
      "================================================\r\n",
      "\r\n",
      "Material Streams\r\n",
      "\r\n",
      "System                    Test2      \r\n",
      "\r\n",
      "Property                  Unit               Feed      Recycle          S01          S02          S03           D1\r\n",
      "\r\n",
      "Temperature               °C              43.0000      57.0173      55.0433      55.0340      55.0339      55.0340\r\n",
      "Pressure                  bar              1.0000       1.0000       1.0000       1.0000       1.0000       1.0000\r\n",
      "Vapor Fraction            mol/mol          0.0000       0.3319       1.0000       0.0000       0.0000       0.0000\r\n",
      "Specific Enthalpy         kJ/kmol     -32510.3979  -20556.3183    2086.4863  -29144.0899  -29144.0899  -29144.0899\r\n",
      "Phase                                      Liquid  LiquidVapor  LiquidVapor  BubblePoint       Liquid  LiquidVapor\r\n",
      "Density                   kmol/cum        17.0475       0.1093       0.0366      14.5372      14.5369      14.5372\r\n",
      "Mass Density              kg/cum         768.1702       4.6723       1.8983     753.0398     753.0261     753.0397\r\n",
      "Volume Flow               cum/h           31.6761    1639.6348   41190.4312     103.8372      72.9346      30.9039\r\n",
      "Molar Weight              kg/kmol         45.0605      42.7370      51.8010      51.8010      51.8010      51.8010\r\n",
      "\r\n",
      "Total Molar Flow          kmol/h         540.0000     179.2553    1509.4979    1509.4979    1060.2426     449.2553\r\n",
      "                  Acetone kmol/h         270.0000      73.6310    1145.5283    1145.5283     804.5973     340.9310\r\n",
      "                 Methanol kmol/h         270.0000     105.6243     363.9696     363.9696     255.6453     108.3243\r\n",
      "Molar Composition                    \r\n",
      "                  Acetone mol/mol          0.5000       0.4108       0.7589       0.7589       0.7589       0.7589\r\n",
      "                 Methanol mol/mol          0.5000       0.5892       0.2411       0.2411       0.2411       0.2411\r\n",
      "\r\n",
      "Total Mass Flow           t/h             24.3327       7.6608      78.1936      78.1936      54.9217      23.2719\r\n",
      "                  Acetone t/h             15.6814       4.2764      66.5313      66.5313      46.7303      19.8010\r\n",
      "                 Methanol t/h              8.6513       3.3844      11.6623      11.6623       8.1914       3.4709\r\n",
      "Mass Composition                     \r\n",
      "                  Acetone kg/kg            0.6445       0.5582       0.8509       0.8509       0.8509       0.8509\r\n",
      "                 Methanol kg/kg            0.3555       0.4418       0.1491       0.1491       0.1491       0.1491\r\n",
      "\r\n",
      "\r\n",
      "\r\n",
      "Property                  Unit                S04          S05     Methanol          S06          S07          S08\r\n",
      "\r\n",
      "Temperature               °C              63.5495      63.9217      63.9217     134.0835     134.0742     134.0742\r\n",
      "Pressure                  bar              1.0000       1.0000       1.0000      10.0000      10.0000      10.0000\r\n",
      "Vapor Fraction            mol/mol          0.0000       1.0000       0.0000       1.0000       0.0000       0.0000\r\n",
      "Specific Enthalpy         kJ/kmol     -33581.4670    1801.8821  -33623.7393    6839.4868  -20556.3183  -20556.3183\r\n",
      "Phase                                 LiquidVapor  LiquidVapor  LiquidVapor  LiquidVapor  BubblePoint       Liquid\r\n",
      "Density                   kmol/cum        22.9735       0.0357      23.2411       0.2953      15.3166      15.3166\r\n",
      "Mass Density              kg/cum         748.7585       1.1651     750.7391      12.6219     654.5844     654.5844\r\n",
      "Volume Flow               cum/h           68.6154   36610.9805      11.6174    2494.5465      48.1007      36.3974\r\n",
      "Molar Weight              kg/kmol         32.5923      32.6522      32.3022      42.7370      42.7370      42.7370\r\n",
      "\r\n",
      "Total Molar Flow          kmol/h        1576.3362    1306.3362     270.0000     736.7394     736.7394     557.4841\r\n",
      "                  Acetone kmol/h          33.3229      30.6229       2.7000     302.6236     302.6236     228.9925\r\n",
      "                 Methanol kmol/h        1543.0133    1275.7133     267.3000     434.1158     434.1158     328.4915\r\n",
      "Molar Composition                    \r\n",
      "                  Acetone mol/mol          0.0211       0.0234       0.0100       0.4108       0.4108       0.4108\r\n",
      "                 Methanol mol/mol          0.9789       0.9766       0.9900       0.5892       0.5892       0.5892\r\n",
      "\r\n",
      "Total Mass Flow           t/h             51.3764      42.6548       8.7216      31.4860      31.4860      23.8252\r\n",
      "                  Acetone t/h              1.9354       1.7785       0.1568      17.5761      17.5761      13.2997\r\n",
      "                 Methanol t/h             49.4410      40.8762       8.5648      13.9099      13.9099      10.5255\r\n",
      "Mass Composition                     \r\n",
      "                  Acetone kg/kg            0.0377       0.0417       0.0180       0.5582       0.5582       0.5582\r\n",
      "                 Methanol kg/kg            0.9623       0.9583       0.9820       0.4418       0.4418       0.4418\r\n",
      "\r\n",
      "\r\n",
      "\r\n",
      "Property                  Unit                 D2          S09          S10      Acetone\r\n",
      "\r\n",
      "Temperature               °C             134.0742     142.2405     142.5115     142.5115\r\n",
      "Pressure                  bar             10.0000      10.0000      10.0000      10.0000\r\n",
      "Vapor Fraction            mol/mol          0.0000       0.0000       1.0000       0.0000\r\n",
      "Specific Enthalpy         kJ/kmol     -20556.3183  -13424.2155    9836.1864  -13305.9429\r\n",
      "Phase                                 LiquidVapor  LiquidVapor        Vapor  LiquidVapor\r\n",
      "Density                   kmol/cum        15.3166      10.9484       0.2894      10.9058\r\n",
      "Mass Density              kg/cum         654.5844     631.1004      16.6669     630.5612\r\n",
      "Volume Flow               cum/h           11.7033     126.6279    3858.1887      24.7574\r\n",
      "Molar Weight              kg/kmol         42.7370      57.6431      57.6006      57.8188\r\n",
      "\r\n",
      "Total Molar Flow          kmol/h         179.2553    1386.3753    1116.3753     270.0000\r\n",
      "                  Acetone kmol/h          73.6310    1363.1572    1095.8572     267.3000\r\n",
      "                 Methanol kmol/h         105.6243      23.2181      20.5181       2.7000\r\n",
      "Molar Composition                    \r\n",
      "                  Acetone mol/mol          0.4108       0.9833       0.9816       0.9900\r\n",
      "                 Methanol mol/mol          0.5892       0.0167       0.0184       0.0100\r\n",
      "\r\n",
      "Total Mass Flow           t/h              7.6608      79.9149      64.3039      15.6111\r\n",
      "                  Acetone t/h              4.2764      79.1710      63.6464      15.5246\r\n",
      "                 Methanol t/h              3.3844       0.7440       0.6574       0.0865\r\n",
      "Mass Composition                     \r\n",
      "                  Acetone kg/kg            0.5582       0.9907       0.9898       0.9945\r\n",
      "                 Methanol kg/kg            0.4418       0.0093       0.0102       0.0055\r\n",
      "\r\n",
      "\r\n",
      "\r\n",
      "\r\n",
      "Design Specifications\r\n",
      "\r\n",
      "Name            Model                          Class           Group                       Residual Equation\r\n",
      "\r\n",
      "\n"
     ]
    }
   ],
   "source": [
    "reporter.Report(flowsheet, 6, False)\n",
    "print (logger.Flush())"
   ]
  },
  {
   "cell_type": "markdown",
   "metadata": {},
   "source": [
    "# Overall Mass Balance"
   ]
  },
  {
   "cell_type": "markdown",
   "metadata": {},
   "source": [
    "For reporting purposes, we create a temporary flowsheet that collects the main process streams. This flowsheet will not be solved, but is used by the reporter object."
   ]
  },
  {
   "cell_type": "code",
   "execution_count": 22,
   "metadata": {
    "ExecuteTime": {
     "end_time": "2020-01-10T22:57:16.774292Z",
     "start_time": "2020-01-10T22:57:16.769302Z"
    }
   },
   "outputs": [
    {
     "name": "stdout",
     "output_type": "stream",
     "text": [
      "\r\n",
      "Report for flowsheet Summary\r\n",
      "================================================\r\n",
      "\r\n",
      "Material Streams\r\n",
      "\r\n",
      "System                    Test2      \r\n",
      "\r\n",
      "Property                  Unit               Feed      Recycle      Acetone     Methanol\r\n",
      "\r\n",
      "Temperature               °C              43.0000      57.0173     142.5115      63.9217\r\n",
      "Pressure                  bar              1.0000       1.0000      10.0000       1.0000\r\n",
      "Vapor Fraction            mol/mol          0.0000       0.3319       0.0000       0.0000\r\n",
      "Specific Enthalpy         kJ/kmol     -32510.3979  -20556.3183  -13305.9429  -33623.7393\r\n",
      "Phase                                      Liquid  LiquidVapor  LiquidVapor  LiquidVapor\r\n",
      "Density                   kmol/cum        17.0475       0.1093      10.9058      23.2411\r\n",
      "Mass Density              kg/cum         768.1702       4.6723     630.5612     750.7391\r\n",
      "Volume Flow               cum/h           31.6761    1639.6348      24.7574      11.6174\r\n",
      "Molar Weight              kg/kmol         45.0605      42.7370      57.8188      32.3022\r\n",
      "\r\n",
      "Total Molar Flow          kmol/h         540.0000     179.2553     270.0000     270.0000\r\n",
      "                  Acetone kmol/h         270.0000      73.6310     267.3000       2.7000\r\n",
      "                 Methanol kmol/h         270.0000     105.6243       2.7000     267.3000\r\n",
      "Molar Composition                    \r\n",
      "                  Acetone mol/mol          0.5000       0.4108       0.9900       0.0100\r\n",
      "                 Methanol mol/mol          0.5000       0.5892       0.0100       0.9900\r\n",
      "\r\n",
      "Total Mass Flow           t/h             24.3327       7.6608      15.6111       8.7216\r\n",
      "                  Acetone t/h             15.6814       4.2764      15.5246       0.1568\r\n",
      "                 Methanol t/h              8.6513       3.3844       0.0865       8.5648\r\n",
      "Mass Composition                     \r\n",
      "                  Acetone kg/kg            0.6445       0.5582       0.9945       0.0180\r\n",
      "                 Methanol kg/kg            0.3555       0.4418       0.0055       0.9820\r\n",
      "\r\n",
      "\r\n",
      "\r\n",
      "\r\n",
      "Design Specifications\r\n",
      "\r\n",
      "Name            Model                          Class           Group                       Residual Equation\r\n",
      "\r\n",
      "\n"
     ]
    }
   ],
   "source": [
    "summary= Flowsheet(\"Summary\").AddMaterialStreams(Feed, Recycle, Acetone, Methanol)\n",
    "\n",
    "reporter.Report(summary, 4, False)\n",
    "print (logger.Flush())            "
   ]
  },
  {
   "cell_type": "markdown",
   "metadata": {},
   "source": [
    "# Temperature Profiles"
   ]
  },
  {
   "cell_type": "code",
   "execution_count": 23,
   "metadata": {
    "ExecuteTime": {
     "end_time": "2020-01-10T22:57:16.945697Z",
     "start_time": "2020-01-10T22:57:16.779276Z"
    }
   },
   "outputs": [
    {
     "data": {
      "image/png": "[encoded data removed]",
      "text/plain": [
       "<Figure size 1152x576 with 1 Axes>"
      ]
     },
     "metadata": {
      "needs_background": "light"
     },
     "output_type": "display_data"
    }
   ],
   "source": [
    "tprof=C1.GetProfile(\"T\")\n",
    "stages= range(1, C1.NumberOfTrays+1)\n",
    "df_temp= pd.DataFrame(tprof, index=stages, columns=[\"T\"])\n",
    "plt.plot( df_temp['T'], stages,  linestyle='-', marker='o')\n",
    "plt.gca().invert_yaxis()\n",
    "plt.xlabel(\"Temperature [\"+str(sys.VariableFactory.Output.UnitDictionary[PhysicalDimension.Temperature])+\"]\");\n",
    "plt.ylabel(\"Stage\");\n",
    "plt.title(\"Temperature Profile C1\");\n"
   ]
  },
  {
   "cell_type": "code",
   "execution_count": 24,
   "metadata": {
    "ExecuteTime": {
     "end_time": "2020-01-10T22:57:16.975643Z",
     "start_time": "2020-01-10T22:57:16.948688Z"
    }
   },
   "outputs": [
    {
     "name": "stdout",
     "output_type": "stream",
     "text": [
      "     Stage          T         TV          P          Q          L          V          F          W         RL        EPS\r\n",
      "                   °C         °C        bar         MW     kmol/h     kmol/h     kmol/h     kmol/h                   [-]\r\n",
      "1              55,043     55,043      1,000      0,000   1058,203   1509,498   1060,243      0,000      0,000      1,000\r\n",
      "2              55,054     55,054      1,000      0,000   1056,317   1507,459      0,000      0,000      0,000      1,000\r\n",
      "3              55,065     55,065      1,000      0,000   1054,555   1505,572      0,000      0,000      0,000      1,000\r\n",
      "4              55,078     55,078      1,000      0,000   1052,896   1503,810      0,000      0,000      0,000      1,000\r\n",
      "5              55,091     55,091      1,000      0,000   1051,322   1502,151      0,000      0,000      0,000      1,000\r\n",
      "6              55,105     55,105      1,000      0,000   1049,819   1500,577      0,000      0,000      0,000      1,000\r\n",
      "7              55,119     55,119      1,000      0,000   1048,375   1499,074      0,000      0,000      0,000      1,000\r\n",
      "8              55,134     55,134      1,000      0,000   1046,979   1497,630      0,000      0,000      0,000      1,000\r\n",
      "9              55,149     55,149      1,000      0,000   1045,624   1496,234      0,000      0,000      0,000      1,000\r\n",
      "10             55,165     55,165      1,000      0,000   1044,302   1494,879      0,000      0,000      0,000      1,000\r\n",
      "11             55,182     55,182      1,000      0,000   1043,006   1493,557      0,000      0,000      0,000      1,000\r\n",
      "12             55,199     55,199      1,000      0,000   1041,731   1492,261      0,000      0,000      0,000      1,000\r\n",
      "13             55,217     55,217      1,000      0,000   1040,473   1490,987      0,000      0,000      0,000      1,000\r\n",
      "14             55,235     55,235      1,000      0,000   1039,227   1489,729      0,000      0,000      0,000      1,000\r\n",
      "15             55,254     55,254      1,000      0,000   1037,989   1488,483      0,000      0,000      0,000      1,000\r\n",
      "16             55,274     55,274      1,000      0,000   1036,756   1487,245      0,000      0,000      0,000      1,000\r\n",
      "17             55,295     55,295      1,000      0,000   1035,525   1486,011      0,000      0,000      0,000      1,000\r\n",
      "18             55,316     55,316      1,000      0,000   1034,292   1484,780      0,000      0,000      0,000      1,000\r\n",
      "19             55,339     55,339      1,000      0,000   1033,056   1483,548      0,000      0,000      0,000      1,000\r\n",
      "20             55,362     55,362      1,000      0,000   1031,815   1482,312      0,000      0,000      0,000      1,000\r\n",
      "21             55,386     55,386      1,000      0,000   1030,566   1481,070      0,000      0,000      0,000      1,000\r\n",
      "22             55,412     55,412      1,000      0,000   1029,309   1479,822      0,000      0,000      0,000      1,000\r\n",
      "23             55,438     55,438      1,000      0,000   1028,041   1478,564      0,000      0,000      0,000      1,000\r\n",
      "24             55,466     55,466      1,000      0,000   1026,762   1477,296      0,000      0,000      0,000      1,000\r\n",
      "25             55,495     55,495      1,000      0,000   1025,472   1476,018      0,000      0,000      0,000      1,000\r\n",
      "26             55,525     55,525      1,000      0,000   1024,171   1474,728      0,000      0,000      0,000      1,000\r\n",
      "27             55,556     55,556      1,000      0,000   1022,858   1473,426      0,000      0,000      0,000      1,000\r\n",
      "28             55,588     55,588      1,000      0,000   1021,534   1472,113      0,000      0,000      0,000      1,000\r\n",
      "29             55,622     55,622      1,000      0,000   1020,202   1470,790      0,000      0,000      0,000      1,000\r\n",
      "30             55,657     55,657      1,000      0,000   1018,861   1469,457      0,000      0,000      0,000      1,000\r\n",
      "31             55,694     55,694      1,000      0,000   1017,515   1468,117      0,000      0,000      0,000      1,000\r\n",
      "32             55,731     55,731      1,000      0,000   1016,167   1466,771      0,000      0,000      0,000      1,000\r\n",
      "33             55,770     55,770      1,000      0,000   1014,819   1465,422      0,000      0,000      0,000      1,000\r\n",
      "34             55,810     55,810      1,000      0,000   1013,475   1464,074      0,000      0,000      0,000      1,000\r\n",
      "35             55,851     55,851      1,000      0,000   1012,139   1462,730      0,000      0,000      0,000      1,000\r\n",
      "36             55,893     55,893      1,000      0,000   1010,816   1461,394      0,000      0,000      0,000      1,000\r\n",
      "37             55,935     55,935      1,000      0,000   1576,530   1460,071    540,000      0,000      0,000      1,000\r\n",
      "38             55,964     55,964      1,000      0,000   1575,164   1485,786      0,000      0,000      0,000      1,000\r\n",
      "39             56,008     56,008      1,000      0,000   1573,110   1484,420      0,000      0,000      0,000      1,000\r\n",
      "40             56,078     56,078      1,000      0,000   1570,039   1482,365      0,000      0,000      0,000      1,000\r\n",
      "41             56,185     56,185      1,000      0,000   1687,415   1479,294    179,255      0,000      0,000      1,000\r\n",
      "42             56,242     56,242      1,000      0,000   1684,948   1417,415      0,000      0,000      0,000      1,000\r\n",
      "43             56,339     56,339      1,000      0,000   1680,925   1414,948      0,000      0,000      0,000      1,000\r\n",
      "44             56,503     56,503      1,000      0,000   1674,491   1410,925      0,000      0,000      0,000      1,000\r\n",
      "45             56,786     56,786      1,000      0,000   1664,562   1404,491      0,000      0,000      0,000      1,000\r\n",
      "46             57,266     57,266      1,000      0,000   1650,244   1394,562      0,000      0,000      0,000      1,000\r\n",
      "47             58,045     58,045      1,000      0,000   1631,947   1380,244      0,000      0,000      0,000      1,000\r\n",
      "48             59,182     59,182      1,000      0,000   1612,577   1361,947      0,000      0,000      0,000      1,000\r\n",
      "49             60,563     60,563      1,000      0,000   1596,391   1342,577      0,000      0,000      0,000      1,000\r\n",
      "50             61,888     61,888      1,000      0,000   1585,613   1326,391      0,000      0,000      0,000      1,000\r\n",
      "51             62,900     62,900      1,000      0,000   1579,511   1315,613      0,000      0,000      0,000      1,000\r\n",
      "52             63,549     63,549      1,000      0,000   1576,336   1309,511   1306,336      0,000      0,000      1,000\r\n",
      "\n"
     ]
    }
   ],
   "source": [
    "reporter.Report(C1,True)\n",
    "print(logger.Flush())"
   ]
  },
  {
   "cell_type": "code",
   "execution_count": 25,
   "metadata": {
    "ExecuteTime": {
     "end_time": "2020-01-10T22:57:17.152176Z",
     "start_time": "2020-01-10T22:57:16.976614Z"
    }
   },
   "outputs": [
    {
     "data": {
      "image/png": "[encoded data removed]",
      "text/plain": [
       "<Figure size 1152x576 with 1 Axes>"
      ]
     },
     "metadata": {
      "needs_background": "light"
     },
     "output_type": "display_data"
    }
   ],
   "source": [
    "tprof=C2.GetProfile(\"T\")\n",
    "stages= range(1, C2.NumberOfTrays+1)\n",
    "df_temp= pd.DataFrame(tprof, index=stages, columns=[\"T\"])\n",
    "plt.plot( df_temp['T'], stages,  linestyle='-', marker='o')\n",
    "plt.gca().invert_yaxis()\n",
    "plt.xlabel(\"Temperature [\"+str(sys.VariableFactory.Output.UnitDictionary[PhysicalDimension.Temperature])+\"]\");\n",
    "plt.ylabel(\"Stage\");\n",
    "plt.title(\"Temperature Profile C2\");"
   ]
  },
  {
   "cell_type": "code",
   "execution_count": 26,
   "metadata": {
    "ExecuteTime": {
     "end_time": "2020-01-10T22:57:17.177077Z",
     "start_time": "2020-01-10T22:57:17.154140Z"
    }
   },
   "outputs": [
    {
     "name": "stdout",
     "output_type": "stream",
     "text": [
      "     Stage          T         TV          P          Q          L          V          F          W         RL        EPS\r\n",
      "                   °C         °C        bar         MW     kmol/h     kmol/h     kmol/h     kmol/h                   [-]\r\n",
      "1             134,084    134,084     10,000      0,000    558,585    736,739    557,484      0,000      0,000      1,000\r\n",
      "2             134,095    134,095     10,000      0,000    559,698    737,841      0,000      0,000      0,000      1,000\r\n",
      "3             134,110    134,110     10,000      0,000    560,827    738,954      0,000      0,000      0,000      1,000\r\n",
      "4             134,127    134,127     10,000      0,000    561,976    740,083      0,000      0,000      0,000      1,000\r\n",
      "5             134,148    134,148     10,000      0,000    563,148    741,231      0,000      0,000      0,000      1,000\r\n",
      "6             134,171    134,171     10,000      0,000    564,346    742,403      0,000      0,000      0,000      1,000\r\n",
      "7             134,197    134,197     10,000      0,000    565,573    743,601      0,000      0,000      0,000      1,000\r\n",
      "8             134,228    134,228     10,000      0,000    566,831    744,828      0,000      0,000      0,000      1,000\r\n",
      "9             134,261    134,261     10,000      0,000    568,122    746,086      0,000      0,000      0,000      1,000\r\n",
      "10            134,299    134,299     10,000      0,000    569,448    747,378      0,000      0,000      0,000      1,000\r\n",
      "11            134,341    134,341     10,000      0,000    570,808    748,703      0,000      0,000      0,000      1,000\r\n",
      "12            134,387    134,387     10,000      0,000    572,202    750,063      0,000      0,000      0,000      1,000\r\n",
      "13            134,438    134,438     10,000      0,000    573,628    751,457      0,000      0,000      0,000      1,000\r\n",
      "14            134,493    134,493     10,000      0,000    575,084    752,883      0,000      0,000      0,000      1,000\r\n",
      "15            134,552    134,552     10,000      0,000    576,564    754,339      0,000      0,000      0,000      1,000\r\n",
      "16            134,617    134,617     10,000      0,000    578,065    755,820      0,000      0,000      0,000      1,000\r\n",
      "17            134,685    134,685     10,000      0,000    579,579    757,320      0,000      0,000      0,000      1,000\r\n",
      "18            134,757    134,757     10,000      0,000    581,098    758,834      0,000      0,000      0,000      1,000\r\n",
      "19            134,832    134,832     10,000      0,000    582,613    760,353      0,000      0,000      0,000      1,000\r\n",
      "20            134,911    134,911     10,000      0,000    584,114    761,868      0,000      0,000      0,000      1,000\r\n",
      "21            134,991    134,991     10,000      0,000    585,590    763,369      0,000      0,000      0,000      1,000\r\n",
      "22            135,073    135,073     10,000      0,000    587,031    764,845      0,000      0,000      0,000      1,000\r\n",
      "23            135,155    135,155     10,000      0,000    588,426    766,286      0,000      0,000      0,000      1,000\r\n",
      "24            135,236    135,236     10,000      0,000    589,766    767,681      0,000      0,000      0,000      1,000\r\n",
      "25            135,316    135,316     10,000      0,000    591,041    769,021      0,000      0,000      0,000      1,000\r\n",
      "26            135,394    135,394     10,000      0,000    592,246    770,296      0,000      0,000      0,000      1,000\r\n",
      "27            135,469    135,469     10,000      0,000    593,373    771,501      0,000      0,000      0,000      1,000\r\n",
      "28            135,540    135,540     10,000      0,000    594,421    772,629      0,000      0,000      0,000      1,000\r\n",
      "29            135,606    135,606     10,000      0,000    595,387    773,676      0,000      0,000      0,000      1,000\r\n",
      "30            135,669    135,669     10,000      0,000    596,270    774,642      0,000      0,000      0,000      1,000\r\n",
      "31            135,726    135,726     10,000      0,000    597,073    775,526      0,000      0,000      0,000      1,000\r\n",
      "32            135,779    135,779     10,000      0,000    597,798    776,328      0,000      0,000      0,000      1,000\r\n",
      "33            135,827    135,827     10,000      0,000    598,448    777,053      0,000      0,000      0,000      1,000\r\n",
      "34            135,870    135,870     10,000      0,000    599,028    777,703      0,000      0,000      0,000      1,000\r\n",
      "35            135,909    135,909     10,000      0,000    599,544    778,284      0,000      0,000      0,000      1,000\r\n",
      "36            135,943    135,943     10,000      0,000    600,000    778,799      0,000      0,000      0,000      1,000\r\n",
      "37            135,974    135,974     10,000      0,000    600,401    779,255      0,000      0,000      0,000      1,000\r\n",
      "38            136,001    136,001     10,000      0,000    600,753    779,656      0,000      0,000      0,000      1,000\r\n",
      "39            136,025    136,025     10,000      0,000    601,061    780,009      0,000      0,000      0,000      1,000\r\n",
      "40            136,045    136,045     10,000      0,000    601,330    780,317      0,000      0,000      0,000      1,000\r\n",
      "41            136,064    136,064     10,000      0,000   1266,246    780,586    449,255      0,000      0,000      1,000\r\n",
      "42            136,073    136,073     10,000      0,000   1266,494    996,246      0,000      0,000      0,000      1,000\r\n",
      "43            136,086    136,086     10,000      0,000   1266,848    996,494      0,000      0,000      0,000      1,000\r\n",
      "44            136,105    136,105     10,000      0,000   1267,354    996,848      0,000      0,000      0,000      1,000\r\n",
      "45            136,132    136,132     10,000      0,000   1268,075    997,354      0,000      0,000      0,000      1,000\r\n",
      "46            136,171    136,171     10,000      0,000   1269,098    998,075      0,000      0,000      0,000      1,000\r\n",
      "47            136,226    136,226     10,000      0,000   1270,545    999,098      0,000      0,000      0,000      1,000\r\n",
      "48            136,305    136,305     10,000      0,000   1272,577   1000,545      0,000      0,000      0,000      1,000\r\n",
      "49            136,417    136,417     10,000      0,000   1275,403   1002,577      0,000      0,000      0,000      1,000\r\n",
      "50            136,574    136,574     10,000      0,000   1279,284   1005,403      0,000      0,000      0,000      1,000\r\n",
      "51            136,794    136,794     10,000      0,000   1284,514   1009,284      0,000      0,000      0,000      1,000\r\n",
      "52            137,095    137,095     10,000      0,000   1291,391   1014,514      0,000      0,000      0,000      1,000\r\n",
      "53            137,497    137,497     10,000      0,000   1300,131   1021,391      0,000      0,000      0,000      1,000\r\n",
      "54            138,012    138,012     10,000      0,000   1310,761   1030,131      0,000      0,000      0,000      1,000\r\n",
      "55            138,636    138,636     10,000      0,000   1322,994   1040,761      0,000      0,000      0,000      1,000\r\n",
      "56            139,341    139,341     10,000      0,000   1336,166   1052,994      0,000      0,000      0,000      1,000\r\n",
      "57            140,073    140,073     10,000      0,000   1349,321   1066,166      0,000      0,000      0,000      1,000\r\n",
      "58            140,769    140,769     10,000      0,000   1361,462   1079,321      0,000      0,000      0,000      1,000\r\n",
      "59            141,376    141,376     10,000      0,000   1371,841   1091,462      0,000      0,000      0,000      1,000\r\n",
      "60            141,867    141,867     10,000      0,000   1380,126   1101,841      0,000      0,000      0,000      1,000\r\n",
      "61            142,240    142,240     10,000      0,000   1386,375   1110,126   1116,375      0,000      0,000      1,000\r\n",
      "\n"
     ]
    }
   ],
   "source": [
    "reporter.Report(C2,True)\n",
    "print(logger.Flush())"
   ]
  },
  {
   "cell_type": "code",
   "execution_count": null,
   "metadata": {},
   "outputs": [],
   "source": []
  }
 ],
 "metadata": {
  "kernelspec": {
   "display_name": "Python 3",
   "language": "python",
   "name": "python3"
  },
  "language_info": {
   "codemirror_mode": {
    "name": "ipython",
    "version": 3
   },
   "file_extension": ".py",
   "mimetype": "text/x-python",
   "name": "python",
   "nbconvert_exporter": "python",
   "pygments_lexer": "ipython3",
   "version": "3.7.6"
  },
  "toc": {
   "base_numbering": 1,
   "nav_menu": {},
   "number_sections": true,
   "sideBar": true,
   "skip_h1_title": false,
   "title_cell": "Table of Contents",
   "title_sidebar": "Contents",
   "toc_cell": false,
   "toc_position": {},
   "toc_section_display": true,
   "toc_window_display": false
  },
  "varInspector": {
   "cols": {
    "lenName": 16,
    "lenType": 16,
    "lenVar": 40
   },
   "kernels_config": {
    "python": {
     "delete_cmd_postfix": "",
     "delete_cmd_prefix": "del ",
     "library": "var_list.py",
     "varRefreshCmd": "print(var_dic_list())"
    },
    "r": {
     "delete_cmd_postfix": ") ",
     "delete_cmd_prefix": "rm(",
     "library": "var_list.r",
     "varRefreshCmd": "cat(var_dic_list()) "
    }
   },
   "types_to_exclude": [
    "module",
    "function",
    "builtin_function_or_method",
    "instance",
    "_Feature"
   ],
   "window_display": false
  }
 },
 "nbformat": 4,
 "nbformat_minor": 2
}
