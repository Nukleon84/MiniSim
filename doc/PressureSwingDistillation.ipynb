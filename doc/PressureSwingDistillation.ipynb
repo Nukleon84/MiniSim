{
 "cells": [
  {
   "cell_type": "markdown",
   "metadata": {},
   "source": [
    "# Introduction\n",
    "<div style=\"width:100%;height:6px;background-color:Black;\"></div>"
   ]
  },
  {
   "cell_type": "markdown",
   "metadata": {},
   "source": [
    "### Pressure Swing Distillation\n",
    "\n",
    "Separation of the Methanol and Acetone minimum temperature azeotrope by using the pressure sensitivity of the azeotropic composition of this mixture by operating two columns at different pressures, adapted from [Luyben et al. Ind.Eng.Chem.Res. (2008) 47 pp. 2696-2707.](http://pubs.acs.org/doi/pdf/10.1021/ie701695u).\n",
    "\n",
    "The number of stages in this flowsheet differs from the specifications used in the ChemSep example.\n",
    "\n",
    "[Link to the flowsheet drawing](http://www.chemsep.org/downloads/data/Pressure_Swing_MA_iecr47p2696.png)"
   ]
  },
  {
   "cell_type": "markdown",
   "metadata": {},
   "source": [
    "# .NET Initialization\n",
    "<div style=\"width:100%;height:6px;background-color:Black;\"></div>"
   ]
  },
  {
   "cell_type": "code",
   "execution_count": 1,
   "metadata": {
    "ExecuteTime": {
     "end_time": "2019-12-03T20:20:08.730840Z",
     "start_time": "2019-12-03T20:20:08.521434Z"
    }
   },
   "outputs": [],
   "source": [
    "import clr\n",
    "clr.AddReference(r\"..\\bin\\MiniSim.Core\")\n",
    "\n",
    "import MiniSim.Core.Expressions as expr\n",
    "from  MiniSim.Core.Flowsheeting import MaterialStream, Flowsheet\n",
    "import MiniSim.Core.Numerics as num\n",
    "from MiniSim.Core.UnitsOfMeasure import Unit, SI, METRIC, PhysicalDimension\n",
    "from MiniSim.Core.ModelLibrary import Flash, Heater, Mixer, Splitter, EquilibriumStageSection\n",
    "import MiniSim.Core.PropertyDatabase as chemsep\n",
    "from MiniSim.Core.Reporting import Generator, StringBuilderLogger\n",
    "from MiniSim.Core.Thermodynamics import ThermodynamicSystem"
   ]
  },
  {
   "cell_type": "code",
   "execution_count": 2,
   "metadata": {
    "ExecuteTime": {
     "end_time": "2019-12-03T20:20:08.999123Z",
     "start_time": "2019-12-03T20:20:08.731838Z"
    }
   },
   "outputs": [],
   "source": [
    "%matplotlib inline"
   ]
  },
  {
   "cell_type": "code",
   "execution_count": 3,
   "metadata": {
    "ExecuteTime": {
     "end_time": "2019-12-03T20:20:09.336252Z",
     "start_time": "2019-12-03T20:20:09.001118Z"
    }
   },
   "outputs": [],
   "source": [
    "import numpy as np\n",
    "import pandas as pd\n",
    "import matplotlib.pyplot as plt\n",
    "\n",
    "plt.rcParams[\"figure.figsize\"] = (16,8)\n",
    "plt.rcParams['grid.color'] = 'k'"
   ]
  },
  {
   "cell_type": "markdown",
   "metadata": {},
   "source": [
    "# General Objects Instantiation\n",
    "<div style=\"width:100%;height:6px;background-color:Black;\"></div>"
   ]
  },
  {
   "cell_type": "code",
   "execution_count": 4,
   "metadata": {
    "ExecuteTime": {
     "end_time": "2019-12-03T20:20:09.344200Z",
     "start_time": "2019-12-03T20:20:09.338217Z"
    }
   },
   "outputs": [],
   "source": [
    "Database = chemsep.ChemSepAdapter()\n",
    "logger = StringBuilderLogger();\n",
    "reporter = Generator(logger)"
   ]
  },
  {
   "cell_type": "markdown",
   "metadata": {},
   "source": [
    "# Set up Thermodynamics"
   ]
  },
  {
   "cell_type": "code",
   "execution_count": 5,
   "metadata": {
    "ExecuteTime": {
     "end_time": "2019-12-03T20:20:09.466019Z",
     "start_time": "2019-12-03T20:20:09.346196Z"
    }
   },
   "outputs": [],
   "source": [
    "sys= ThermodynamicSystem(\"Test2\",\"NRTL\", \"default\")\n",
    "\n",
    "sys.AddComponent(Database.FindComponent(\"Acetone\"))\n",
    "sys.AddComponent(Database.FindComponent(\"Methanol\"))\n",
    "Database.FillBIPs(sys)\n",
    "\n",
    "kmolh=Unit.Make([SI.kmol],[SI.h])\n",
    "tonh=Unit.Make([METRIC.ton],[SI.h])\n",
    "\n",
    "sys.VariableFactory.SetOutputDimension(PhysicalDimension.HeatFlow, SI.MW)\n",
    "sys.VariableFactory.SetOutputDimension(PhysicalDimension.Pressure, METRIC.bar)\n",
    "sys.VariableFactory.SetOutputDimension(PhysicalDimension.MassFlow, tonh)"
   ]
  },
  {
   "cell_type": "markdown",
   "metadata": {},
   "source": [
    "# Analysis of the Thermo System"
   ]
  },
  {
   "cell_type": "code",
   "execution_count": 6,
   "metadata": {
    "ExecuteTime": {
     "end_time": "2019-12-03T20:20:09.479020Z",
     "start_time": "2019-12-03T20:20:09.467018Z"
    }
   },
   "outputs": [],
   "source": [
    "def thermoAnalysis(psys):\n",
    "    numComps=len(sys.Components)\n",
    "    names=sys.GetComponentIds()\n",
    "\n",
    "    numSteps=20    \n",
    "    mixture= MaterialStream(\"Mix\", sys)\n",
    "    mixture.Specify(\"VF\",0.0)\n",
    "    mixture.Specify(\"P\",psys, METRIC.mbar)\n",
    "    for c in names:\n",
    "        mixture.Specify(\"n[\"+c+\"]\",1.0)\n",
    "    mixture.InitializeFromMolarFlows()\n",
    "    mixture.FlashPZ()\n",
    "\n",
    "    test= Flowsheet(\"test\")\n",
    "    test.AddMaterialStream(mixture)\n",
    "\n",
    "    solver= num.DecompositionSolver(logger)\n",
    "    result=solver.Solve(test)\n",
    "\n",
    "    fig,axs=plt.subplots(numComps,numComps,figsize=(8,8))\n",
    "    for i in range(numComps):\n",
    "        for j in range(numComps):       \n",
    "            if j!=i:\n",
    "                xvec=[]\n",
    "                yvec=[]\n",
    "                for c in range(numSteps):\n",
    "                    for k in range(numComps):                    \n",
    "                        mixture.Specify(\"n[\"+names[k]+\"]\",0.0)\n",
    "                    mixture.Specify(\"n[\"+names[i]+\"]\",c/(numSteps-1))\n",
    "                    mixture.Specify(\"n[\"+names[j]+\"]\",1.0-c/(numSteps-1))\n",
    "                    mixture.InitializeFromMolarFlows()\n",
    "                    mixture.FlashPZ()\n",
    "                    solver.Solve(test)                               \n",
    "                    xvec.append(mixture.GetVariable('xL['+names[j]+']').Val())               \n",
    "                    yvec.append(mixture.GetVariable('xV['+names[j]+']').Val())               \n",
    "                axs[i,j].plot(xvec, yvec)\n",
    "                axs[i,j].plot(xvec, xvec)              \n",
    "                axs[i,j].set_title(names[j] +' in '+names[i])\n",
    "                axs[i,j].set_xlabel('$x_{'+names[j]+'}$')       \n",
    "                axs[i,j].set_ylabel('$y_{'+names[j]+'}$')\n",
    "                axs[i, j].set_aspect('equal', 'box')\n",
    "            else:\n",
    "                axs[i, j].axis('off')        \n",
    "\n",
    "    plt.tight_layout()\n",
    "    logger.Flush()\n",
    "    plt.suptitle('(x,y)-Diagram at '+str(round(psys,2))+' mbar', y=1.05);"
   ]
  },
  {
   "cell_type": "code",
   "execution_count": 7,
   "metadata": {
    "ExecuteTime": {
     "end_time": "2019-12-03T20:20:10.169974Z",
     "start_time": "2019-12-03T20:20:09.480982Z"
    }
   },
   "outputs": [
    {
     "data": {
      "image/png": "[encoded data removed]",
      "text/plain": [
       "<Figure size 576x576 with 4 Axes>"
      ]
     },
     "metadata": {
      "needs_background": "light"
     },
     "output_type": "display_data"
    }
   ],
   "source": [
    "thermoAnalysis(1000)"
   ]
  },
  {
   "cell_type": "code",
   "execution_count": 8,
   "metadata": {
    "ExecuteTime": {
     "end_time": "2019-12-03T20:20:10.529965Z",
     "start_time": "2019-12-03T20:20:10.172009Z"
    }
   },
   "outputs": [
    {
     "data": {
      "image/png": "[encoded data removed]",
      "text/plain": [
       "<Figure size 576x576 with 4 Axes>"
      ]
     },
     "metadata": {
      "needs_background": "light"
     },
     "output_type": "display_data"
    }
   ],
   "source": [
    "thermoAnalysis(10000)"
   ]
  },
  {
   "cell_type": "markdown",
   "metadata": {},
   "source": [
    "# Low pressure column"
   ]
  },
  {
   "cell_type": "code",
   "execution_count": 9,
   "metadata": {
    "ExecuteTime": {
     "end_time": "2019-12-03T20:20:10.550210Z",
     "start_time": "2019-12-03T20:20:10.529965Z"
    }
   },
   "outputs": [],
   "source": [
    "Feed = (MaterialStream(\"Feed\", sys)\n",
    "    .Specify(\"T\",43, METRIC.C)\n",
    "    .Specify(\"P\",1, METRIC.bar)\n",
    "    .Specify(\"n[Acetone]\", 270, kmolh)\n",
    "    .Specify(\"n[Methanol]\", 270, kmolh)\n",
    "    .InitializeFromMolarFlows()\n",
    "    .FlashPT())\n",
    "\n",
    "Recycle = (MaterialStream(\"Recycle\", sys)\n",
    "    .Specify(\"T\",54, METRIC.C)\n",
    "    .Specify(\"P\",10, METRIC.bar)\n",
    "    .Specify(\"n[Acetone]\",10, kmolh)\n",
    "    .Specify(\"n[Methanol]\", 170, kmolh)\n",
    "    .InitializeFromMolarFlows()\n",
    "    .FlashPZ())\n",
    "\n",
    "S01 = MaterialStream(\"S01\", sys)\n",
    "S02 = MaterialStream(\"S02\", sys)\n",
    "S03 =(MaterialStream(\"S03\", sys)\n",
    "    .Init(\"T\", 51, METRIC.C)\n",
    "    .Init(\"P\", 1, METRIC.bar)\n",
    "    .Init(\"n[Acetone]\",50, kmolh)\n",
    "    .Init(\"n[Methanol]\", 50, kmolh))\n",
    "\n",
    "S04 = MaterialStream(\"S04\", sys)\n",
    "S05 = (MaterialStream(\"S05\", sys)\n",
    "    .Init(\"T\", 61, METRIC.C)\n",
    "    .Init(\"P\", 1, METRIC.bar)\n",
    "    .Init(\"n[Acetone]\",2, kmolh)\n",
    "    .Init(\"n[Methanol]\", 100, kmolh))\n",
    "\n",
    "Methanol = MaterialStream(\"Methanol\", sys)\n",
    "D1 = MaterialStream(\"D1\", sys)"
   ]
  },
  {
   "cell_type": "code",
   "execution_count": 10,
   "metadata": {
    "ExecuteTime": {
     "end_time": "2019-12-03T20:20:10.700328Z",
     "start_time": "2019-12-03T20:20:10.550210Z"
    }
   },
   "outputs": [],
   "source": [
    "C1 = (EquilibriumStageSection(\"C1\",sys,52)\n",
    "        .Connect(\"VIn\", S05)\n",
    "        .Connect(\"LIn\", S03)\n",
    "        .Connect(\"VOut\", S01)\n",
    "        .Connect(\"LOut\", S04)\n",
    "        .ConnectFeed(Feed,37)\n",
    "        .ConnectFeed(Recycle,41)\n",
    "        .MakeAdiabatic()\n",
    "        .MakeIsobaric()\n",
    "        .FixStageEfficiency(1.0)\n",
    "        .Initialize(2.3,0.25,logger))\n",
    "\n",
    "REB1 =(Flash(\"REB1\",sys)\n",
    "        .Connect(\"In\", S04)\n",
    "        .Connect(\"Vap\", S05)\n",
    "        .Connect(\"Liq\", Methanol)\n",
    "        .Specify(\"P\", 1, METRIC.bar)\n",
    "        .Specify(\"VF\",0.7)\n",
    "        .Initialize())\n",
    "\n",
    "COND1 = (Heater(\"COND1\",sys)\n",
    "        .Connect(\"In\", S01)\n",
    "        .Connect(\"Out\", S02)\n",
    "        .Specify(\"P\",1, METRIC.bar)\n",
    "        .Specify(\"VF\",0)\n",
    "        .Initialize())\n",
    "\n",
    "RefluxRatio1=2.36\n",
    "REFSPL1 = (Splitter(\"REFSPL1\",sys)\n",
    "        .Connect(\"In\", S02)\n",
    "        .Connect(\"Out1\", S03)\n",
    "        .Connect(\"Out2\", D1)\n",
    "        .Specify(\"DP\",0, METRIC.bar)\n",
    "        .Specify(\"K\",RefluxRatio1/(1.0+RefluxRatio1))\n",
    "        .Initialize())\n",
    "\n",
    "C1.Initialize(1.0,0.25,logger)\n",
    "logger.Flush();"
   ]
  },
  {
   "cell_type": "code",
   "execution_count": 11,
   "metadata": {
    "ExecuteTime": {
     "end_time": "2019-12-03T20:20:10.719993Z",
     "start_time": "2019-12-03T20:20:10.700328Z"
    }
   },
   "outputs": [],
   "source": [
    "flowsheet= (Flowsheet(\"Flow\")\n",
    "            .AddMaterialStreams(Feed, Recycle, S01,S02,S03,D1,S04,S05, Methanol)\n",
    "            .AddUnits(C1, REB1, COND1, REFSPL1))"
   ]
  },
  {
   "cell_type": "code",
   "execution_count": 12,
   "metadata": {
    "ExecuteTime": {
     "end_time": "2019-12-03T20:20:11.179962Z",
     "start_time": "2019-12-03T20:20:10.719993Z"
    }
   },
   "outputs": [
    {
     "name": "stdout",
     "output_type": "stream",
     "text": [
      "Decomposition Result: V=768, E=768, Blocks=168, Singletons=160\r\n",
      "Block Statistics:\r\n",
      "   # Var # Blocks % Blocks\r\n",
      "       1      160  95,24 %\r\n",
      "       5        4   2,38 %\r\n",
      "       6        3   1,79 %\r\n",
      "     570        1   0,60 %\r\n",
      "Problem NLAES was successfully solved (0,37 seconds)\r\n",
      "\n"
     ]
    }
   ],
   "source": [
    "solver= num.DecompositionSolver(logger)\n",
    "\n",
    "solver.Solve(flowsheet)\n",
    "print (logger.Flush())"
   ]
  },
  {
   "cell_type": "code",
   "execution_count": 13,
   "metadata": {
    "ExecuteTime": {
     "end_time": "2019-12-03T20:20:11.220007Z",
     "start_time": "2019-12-03T20:20:11.179962Z"
    }
   },
   "outputs": [
    {
     "name": "stdout",
     "output_type": "stream",
     "text": [
      "\r\n",
      "Report for flowsheet Flow\r\n",
      "================================================\r\n",
      "\r\n",
      "Material Streams\r\n",
      "\r\n",
      "System                    Test2      \r\n",
      "\r\n",
      "Property                  Unit               Feed      Recycle          S01          S02          S03\r\n",
      "\r\n",
      "Temperature               °C              43.0000     136.0140      55.0442      55.0345      55.0345\r\n",
      "Pressure                  bar              1.0000      10.0000       1.0000       1.0000       1.0000\r\n",
      "Vapor Fraction            mol/mol          0.0000       0.0000       1.0000       0.0000       0.0000\r\n",
      "Specific Enthalpy         kJ/kmol     -32510.3979  -23755.2480    2085.9629  -29148.4951  -29148.4951\r\n",
      "Phase                                      Liquid  LiquidVapor  LiquidVapor  BubblePoint  LiquidVapor\r\n",
      "\r\n",
      "Total Molar Flow          kmol/h         540.0000     180.0000    1067.7376    1067.7376     749.9585\r\n",
      "                  Acetone kmol/h         270.0000      10.0000     809.6313     809.6313     568.6696\r\n",
      "                 Methanol kmol/h         270.0000     170.0000     258.1063     258.1063     181.2890\r\n",
      "Molar Composition                    \r\n",
      "                  Acetone mol/mol          0.5000       0.0556       0.7583       0.7583       0.7583\r\n",
      "                 Methanol mol/mol          0.5000       0.9444       0.2417       0.2417       0.2417\r\n",
      "\r\n",
      "Total Mass Flow           t/h             24.3327       6.0279      55.2929      55.2929      38.8367\r\n",
      "                  Acetone t/h             15.6814       0.5808      47.0227      47.0227      33.0278\r\n",
      "                 Methanol t/h              8.6513       5.4471       8.2702       8.2702       5.8088\r\n",
      "Mass Composition                     \r\n",
      "                  Acetone kg/kg            0.6445       0.0964       0.8504       0.8504       0.8504\r\n",
      "                 Methanol kg/kg            0.3555       0.9036       0.1496       0.1496       0.1496\r\n",
      "\r\n",
      "\r\n",
      "\r\n",
      "Property                  Unit                 D1          S04          S05     Methanol\r\n",
      "\r\n",
      "Temperature               °C              55.0345      59.9555      61.3894      61.3894\r\n",
      "Pressure                  bar              1.0000       1.0000       1.0000       1.0000\r\n",
      "Vapor Fraction            mol/mol          0.0000       0.0000       1.0000       0.0000\r\n",
      "Specific Enthalpy         kJ/kmol     -29148.4951  -32935.2671    1876.8663  -33256.3550\r\n",
      "Phase                                 LiquidVapor  LiquidVapor  LiquidVapor  LiquidVapor\r\n",
      "\r\n",
      "Total Molar Flow          kmol/h         317.7790    1340.7365     938.5156     402.2210\r\n",
      "                  Acetone kmol/h         240.9617     217.5723     178.5340      39.0383\r\n",
      "                 Methanol kmol/h          76.8174    1123.1642     759.9815     363.1826\r\n",
      "Molar Composition                    \r\n",
      "                  Acetone mol/mol          0.7583       0.1623       0.1902       0.0971\r\n",
      "                 Methanol mol/mol          0.2417       0.8377       0.8098       0.9029\r\n",
      "\r\n",
      "Total Mass Flow           t/h             16.4562      48.6247      34.7203      13.9044\r\n",
      "                  Acetone t/h             13.9948      12.6364      10.3691       2.2673\r\n",
      "                 Methanol t/h              2.4614      35.9883      24.3512      11.6370\r\n",
      "Mass Composition                     \r\n",
      "                  Acetone kg/kg            0.8504       0.2599       0.2986       0.1631\r\n",
      "                 Methanol kg/kg            0.1496       0.7401       0.7014       0.8369\r\n",
      "\r\n",
      "\r\n",
      "\r\n",
      "\r\n",
      "Design Specifications\r\n",
      "\r\n",
      "Name            Model                          Class           Group                       Residual Equation\r\n",
      "\r\n",
      "\n"
     ]
    }
   ],
   "source": [
    "reporter.Report(flowsheet, 5, False)\n",
    "print (logger.Flush())"
   ]
  },
  {
   "cell_type": "markdown",
   "metadata": {},
   "source": [
    "# Add High pressure column"
   ]
  },
  {
   "cell_type": "code",
   "execution_count": 14,
   "metadata": {
    "ExecuteTime": {
     "end_time": "2019-12-03T20:20:12.700068Z",
     "start_time": "2019-12-03T20:20:11.220007Z"
    }
   },
   "outputs": [],
   "source": [
    "S06 = MaterialStream(\"S06\", sys)\n",
    "S07 = MaterialStream(\"S07\", sys)\n",
    "S08 = (MaterialStream(\"S08\", sys)\n",
    "        .Init(\"T\", 54, METRIC.C)\n",
    "        .Init(\"P\", 10, METRIC.bar)\n",
    "        .Init(\"n[Acetone]\",50, kmolh)\n",
    "        .Init(\"n[Methanol]\", 50, kmolh))\n",
    "\n",
    "S09 = MaterialStream(\"S09\", sys)\n",
    "\n",
    "S10 = (MaterialStream(\"S10\", sys)\n",
    "        .Init(\"T\", 140, METRIC.C)\n",
    "        .Init(\"P\", 10, METRIC.bar)\n",
    "        .Init(\"n[Acetone]\",100, kmolh)\n",
    "        .Init(\"n[Methanol]\", 2, kmolh))\n",
    "\n",
    "Acetone = MaterialStream(\"Acetone\", sys)\n",
    "D2 = MaterialStream(\"D2\", sys)\n",
    "\n",
    "C2 = (EquilibriumStageSection(\"C2\",sys,61)\n",
    "        .Connect(\"VIn\", S10)\n",
    "        .Connect(\"LIn\", S08)\n",
    "        .Connect(\"VOut\", S06)\n",
    "        .Connect(\"LOut\", S09)\n",
    "        .ConnectFeed(D1,41)\n",
    "        .MakeAdiabatic()\n",
    "        .MakeIsobaric()\n",
    "        .FixStageEfficiency(1.0)\n",
    "        .Initialize(3.11,0.1,logger))\n",
    "\n",
    "REB2 = (Flash(\"REB2\",sys)\n",
    "        .Connect(\"In\", S09)\n",
    "        .Connect(\"Vap\", S10)\n",
    "        .Connect(\"Liq\", Acetone)\n",
    "        .Specify(\"P\",10, METRIC.bar)\n",
    "        .Specify(\"VF\",0.7)\n",
    "        .Initialize())\n",
    "\n",
    "COND2 = (Heater(\"COND2\",sys)\n",
    "        .Connect(\"In\", S06)\n",
    "        .Connect(\"Out\", S07)\n",
    "        .Specify(\"P\",10, METRIC.bar)\n",
    "        .Specify(\"VF\",0)\n",
    "        .Initialize())\n",
    "\n",
    "RefluxRatio2=3.11\n",
    "REFSPL2 = (Splitter(\"REFSPL2\",sys)\n",
    "        .Connect(\"In\", S07)\n",
    "        .Connect(\"Out1\", D2)\n",
    "        .Connect(\"Out2\", S08)\n",
    "        .Specify(\"DP\",0, METRIC.bar)\n",
    "        .Specify(\"K\",1-RefluxRatio2/(1.0+RefluxRatio2))\n",
    "        .Initialize())\n",
    "\n",
    "C2.Solve()\n",
    "REB2.Solve()\n",
    "COND2.Solve()\n",
    "REFSPL2.Solve()\n",
    "C2.Initialize(3.11,0.1,logger)\n",
    "logger.Flush();"
   ]
  },
  {
   "cell_type": "code",
   "execution_count": 15,
   "metadata": {
    "ExecuteTime": {
     "end_time": "2019-12-03T20:20:12.720399Z",
     "start_time": "2019-12-03T20:20:12.700068Z"
    }
   },
   "outputs": [],
   "source": [
    "flowsheet.AddMaterialStreams(S06,S07,S08,D2,S09,S10,Acetone)\n",
    "flowsheet.AddUnits(C2, REB2, COND2, REFSPL2);"
   ]
  },
  {
   "cell_type": "code",
   "execution_count": 16,
   "metadata": {
    "ExecuteTime": {
     "end_time": "2019-12-03T20:20:13.115150Z",
     "start_time": "2019-12-03T20:20:12.720399Z"
    }
   },
   "outputs": [
    {
     "name": "stdout",
     "output_type": "stream",
     "text": [
      "Decomposition Result: V=1601, E=1601, Blocks=319, Singletons=305\r\n",
      "Block Statistics:\r\n",
      "   # Var # Blocks % Blocks\r\n",
      "       1      305  95,61 %\r\n",
      "       5        6   1,88 %\r\n",
      "       6        6   1,88 %\r\n",
      "     570        1   0,31 %\r\n",
      "     660        1   0,31 %\r\n",
      "Problem NLAES was successfully solved (0,30 seconds)\r\n",
      "\n"
     ]
    }
   ],
   "source": [
    "solver.Solve(flowsheet)\n",
    "print (logger.Flush())"
   ]
  },
  {
   "cell_type": "markdown",
   "metadata": {},
   "source": [
    "# Close Recycle"
   ]
  },
  {
   "cell_type": "markdown",
   "metadata": {},
   "source": [
    "The stream recycle was fixed while we performed the startup calculations. Now we connect the recycle stream with the distillate stream of C2 to close the loop. We use a simple adiabatic heater to close the mass and energy balance."
   ]
  },
  {
   "cell_type": "code",
   "execution_count": 17,
   "metadata": {
    "ExecuteTime": {
     "end_time": "2019-12-03T20:20:13.140033Z",
     "start_time": "2019-12-03T20:20:13.115150Z"
    }
   },
   "outputs": [],
   "source": [
    "Recycle.Unfix()\n",
    "\n",
    "RECY01 = (Heater(\"RECY01\",sys)\n",
    "    .Connect(\"In\", D2)\n",
    "    .Connect(\"Out\", Recycle)\n",
    "    .Specify(\"DP\",9, METRIC.bar)\n",
    "    .Specify(\"Q\",0, SI.kW)\n",
    "    .Initialize()\n",
    "    .Solve())\n",
    "\n",
    "flowsheet.AddUnit(RECY01);"
   ]
  },
  {
   "cell_type": "code",
   "execution_count": 18,
   "metadata": {
    "ExecuteTime": {
     "end_time": "2019-12-03T20:20:13.740007Z",
     "start_time": "2019-12-03T20:20:13.140033Z"
    }
   },
   "outputs": [
    {
     "name": "stdout",
     "output_type": "stream",
     "text": [
      "Decomposition Result: V=1608, E=1608, Blocks=300, Singletons=287\r\n",
      "Block Statistics:\r\n",
      "   # Var # Blocks % Blocks\r\n",
      "       1      287  95,67 %\r\n",
      "       5        5   1,67 %\r\n",
      "       6        7   2,33 %\r\n",
      "    1254        1   0,33 %\r\n",
      "Problem NLAES was successfully solved (0,46 seconds)\r\n",
      "\n"
     ]
    }
   ],
   "source": [
    "solver.Solve(flowsheet)\n",
    "print (logger.Flush())"
   ]
  },
  {
   "cell_type": "markdown",
   "metadata": {},
   "source": [
    "# Reach Specifications"
   ]
  },
  {
   "cell_type": "code",
   "execution_count": 19,
   "metadata": {
    "ExecuteTime": {
     "end_time": "2019-12-03T20:20:13.759883Z",
     "start_time": "2019-12-03T20:20:13.740007Z"
    }
   },
   "outputs": [],
   "source": [
    "REB1.Unspecify(\"VF\")\n",
    "REB2.Unspecify(\"VF\")\n",
    "Methanol.GetVariable(\"x[Methanol]\").Fix(0.995)\n",
    "Acetone.GetVariable(\"x[Acetone]\").Fix(0.995)"
   ]
  },
  {
   "cell_type": "code",
   "execution_count": 20,
   "metadata": {
    "ExecuteTime": {
     "end_time": "2019-12-03T20:20:14.539943Z",
     "start_time": "2019-12-03T20:20:13.759883Z"
    }
   },
   "outputs": [
    {
     "name": "stdout",
     "output_type": "stream",
     "text": [
      "Decomposition Result: V=1608, E=1608, Blocks=296, Singletons=283\r\n",
      "Block Statistics:\r\n",
      "   # Var # Blocks % Blocks\r\n",
      "       1      283  95,61 %\r\n",
      "       5        5   1,69 %\r\n",
      "       6        7   2,36 %\r\n",
      "    1258        1   0,34 %\r\n",
      "Problem NLAES was successfully solved (0,69 seconds)\r\n",
      "\n"
     ]
    }
   ],
   "source": [
    "solver.Solve(flowsheet)\n",
    "print (logger.Flush())"
   ]
  },
  {
   "cell_type": "code",
   "execution_count": 21,
   "metadata": {
    "ExecuteTime": {
     "end_time": "2019-12-03T20:20:14.555096Z",
     "start_time": "2019-12-03T20:20:14.539943Z"
    }
   },
   "outputs": [
    {
     "name": "stdout",
     "output_type": "stream",
     "text": [
      "\r\n",
      "Report for flowsheet Flow\r\n",
      "================================================\r\n",
      "\r\n",
      "Material Streams\r\n",
      "\r\n",
      "System                    Test2      \r\n",
      "\r\n",
      "Property                  Unit               Feed      Recycle          S01          S02          S03           D1\r\n",
      "\r\n",
      "Temperature               °C              43.0000      57.0129      55.0434      55.0341      55.0341      55.0340\r\n",
      "Pressure                  bar              1.0000       1.0000       1.0000       1.0000       1.0000       1.0000\r\n",
      "Vapor Fraction            mol/mol          0.0000       0.3319       1.0000       0.0000       0.0000       0.0000\r\n",
      "Specific Enthalpy         kJ/kmol     -32510.3979  -20552.0239    2086.4014  -29144.8041  -29144.8041  -29144.8041\r\n",
      "Phase                                      Liquid  LiquidVapor  LiquidVapor  BubblePoint  LiquidVapor       Liquid\r\n",
      "\r\n",
      "Total Molar Flow          kmol/h         540.0000     183.4890    1523.7231    1523.7231    1070.2341     453.4890\r\n",
      "                  Acetone kmol/h         270.0000      75.4489    1156.1723    1156.1723     812.0734     344.0989\r\n",
      "                 Methanol kmol/h         270.0000     108.0401     367.5508     367.5508     258.1607     109.3901\r\n",
      "Molar Composition                    \r\n",
      "                  Acetone mol/mol          0.5000       0.4112       0.7588       0.7588       0.7588       0.7588\r\n",
      "                 Methanol mol/mol          0.5000       0.5888       0.2412       0.2412       0.2412       0.2412\r\n",
      "\r\n",
      "Total Mass Flow           t/h             24.3327       7.8438      78.9265      78.9265      55.4365      23.4900\r\n",
      "                  Acetone t/h             15.6814       4.3820      67.1495      67.1495      47.1645      19.9850\r\n",
      "                 Methanol t/h              8.6513       3.4618      11.7770      11.7770       8.2719       3.5051\r\n",
      "Mass Composition                     \r\n",
      "                  Acetone kg/kg            0.6445       0.5587       0.8508       0.8508       0.8508       0.8508\r\n",
      "                 Methanol kg/kg            0.3555       0.4413       0.1492       0.1492       0.1492       0.1492\r\n",
      "\r\n",
      "\r\n",
      "\r\n",
      "Property                  Unit                S04          S05     Methanol          S06          S07          S08\r\n",
      "\r\n",
      "Temperature               °C              63.8982      64.0940      64.0940     134.0842     134.0746     134.0746\r\n",
      "Pressure                  bar              1.0000       1.0000       1.0000      10.0000      10.0000      10.0000\r\n",
      "Vapor Fraction            mol/mol          0.0000       1.0000       0.0000       1.0000       0.0000       0.0000\r\n",
      "Specific Enthalpy         kJ/kmol     -33621.1442    1795.4281  -33642.1155    6841.2007  -20552.0239  -20552.0239\r\n",
      "Phase                                 LiquidVapor  LiquidVapor  LiquidVapor  LiquidVapor  BubblePoint       Liquid\r\n",
      "\r\n",
      "Total Molar Flow          kmol/h        1586.3264    1316.3264     270.0000     754.1398     754.1398     570.6508\r\n",
      "                  Acetone kmol/h          16.9543      15.6043       1.3500     310.0949     310.0949     234.6460\r\n",
      "                 Methanol kmol/h        1569.3722    1300.7222     268.6500     444.0449     444.0449     336.0048\r\n",
      "Molar Composition                    \r\n",
      "                  Acetone mol/mol          0.0107       0.0119       0.0050       0.4112       0.4112       0.4112\r\n",
      "                 Methanol mol/mol          0.9893       0.9881       0.9950       0.5888       0.5888       0.5888\r\n",
      "\r\n",
      "Total Mass Flow           t/h             51.2703      42.5838       8.6865      32.2381      32.2381      24.3943\r\n",
      "                  Acetone t/h              0.9847       0.9063       0.0784      18.0100      18.0100      13.6280\r\n",
      "                 Methanol t/h             50.2856      41.6776       8.6080      14.2280      14.2280      10.7662\r\n",
      "Mass Composition                     \r\n",
      "                  Acetone kg/kg            0.0192       0.0213       0.0090       0.5587       0.5587       0.5587\r\n",
      "                 Methanol kg/kg            0.9808       0.9787       0.9910       0.4413       0.4413       0.4413\r\n",
      "\r\n",
      "\r\n",
      "\r\n",
      "Property                  Unit                 D2          S09          S10      Acetone\r\n",
      "\r\n",
      "Temperature               °C             134.0746     142.5744     142.7177     142.7177\r\n",
      "Pressure                  bar             10.0000      10.0000      10.0000      10.0000\r\n",
      "Vapor Fraction            mol/mol          0.0000       0.0000       1.0000       0.0000\r\n",
      "Specific Enthalpy         kJ/kmol     -20552.0239  -13278.7332    9894.0219  -13217.1897\r\n",
      "Phase                                      Liquid  LiquidVapor        Vapor  LiquidVapor\r\n",
      "\r\n",
      "Total Molar Flow          kmol/h         183.4890    1414.3975    1144.3975     270.0000\r\n",
      "                  Acetone kmol/h          75.4489    1402.4297    1133.7797     268.6500\r\n",
      "                 Methanol kmol/h         108.0401      11.9677      10.6177       1.3500\r\n",
      "Molar Composition                    \r\n",
      "                  Acetone mol/mol          0.4112       0.9915       0.9907       0.9950\r\n",
      "                 Methanol mol/mol          0.5888       0.0085       0.0093       0.0050\r\n",
      "\r\n",
      "Total Mass Flow           t/h              7.8438      81.8354      66.1892      15.6462\r\n",
      "                  Acetone t/h              4.3820      81.4519      65.8490      15.6030\r\n",
      "                 Methanol t/h              3.4618       0.3835       0.3402       0.0433\r\n",
      "Mass Composition                     \r\n",
      "                  Acetone kg/kg            0.5587       0.9953       0.9949       0.9972\r\n",
      "                 Methanol kg/kg            0.4413       0.0047       0.0051       0.0028\r\n",
      "\r\n",
      "\r\n",
      "\r\n",
      "\r\n",
      "Design Specifications\r\n",
      "\r\n",
      "Name            Model                          Class           Group                       Residual Equation\r\n",
      "\r\n",
      "\n"
     ]
    }
   ],
   "source": [
    "reporter.Report(flowsheet, 6, False)\n",
    "print (logger.Flush())"
   ]
  },
  {
   "cell_type": "markdown",
   "metadata": {},
   "source": [
    "# Overall Mass Balance"
   ]
  },
  {
   "cell_type": "markdown",
   "metadata": {},
   "source": [
    "For reporting purposes, we create a temporary flowsheet that collects the main process streams. This flowsheet will not be solved, but is used by the reporter object."
   ]
  },
  {
   "cell_type": "code",
   "execution_count": 22,
   "metadata": {
    "ExecuteTime": {
     "end_time": "2019-12-03T20:20:14.575663Z",
     "start_time": "2019-12-03T20:20:14.555096Z"
    }
   },
   "outputs": [
    {
     "name": "stdout",
     "output_type": "stream",
     "text": [
      "\r\n",
      "Report for flowsheet Summary\r\n",
      "================================================\r\n",
      "\r\n",
      "Material Streams\r\n",
      "\r\n",
      "System                    Test2      \r\n",
      "\r\n",
      "Property                  Unit               Feed      Recycle      Acetone     Methanol\r\n",
      "\r\n",
      "Temperature               °C              43.0000      57.0129     142.7177      64.0940\r\n",
      "Pressure                  bar              1.0000       1.0000      10.0000       1.0000\r\n",
      "Vapor Fraction            mol/mol          0.0000       0.3319       0.0000       0.0000\r\n",
      "Specific Enthalpy         kJ/kmol     -32510.3979  -20552.0239  -13217.1897  -33642.1155\r\n",
      "Phase                                      Liquid  LiquidVapor  LiquidVapor  LiquidVapor\r\n",
      "\r\n",
      "Total Molar Flow          kmol/h         540.0000     183.4890     270.0000     270.0000\r\n",
      "                  Acetone kmol/h         270.0000      75.4489     268.6500       1.3500\r\n",
      "                 Methanol kmol/h         270.0000     108.0401       1.3500     268.6500\r\n",
      "Molar Composition                    \r\n",
      "                  Acetone mol/mol          0.5000       0.4112       0.9950       0.0050\r\n",
      "                 Methanol mol/mol          0.5000       0.5888       0.0050       0.9950\r\n",
      "\r\n",
      "Total Mass Flow           t/h             24.3327       7.8438      15.6462       8.6865\r\n",
      "                  Acetone t/h             15.6814       4.3820      15.6030       0.0784\r\n",
      "                 Methanol t/h              8.6513       3.4618       0.0433       8.6080\r\n",
      "Mass Composition                     \r\n",
      "                  Acetone kg/kg            0.6445       0.5587       0.9972       0.0090\r\n",
      "                 Methanol kg/kg            0.3555       0.4413       0.0028       0.9910\r\n",
      "\r\n",
      "\r\n",
      "\r\n",
      "\r\n",
      "Design Specifications\r\n",
      "\r\n",
      "Name            Model                          Class           Group                       Residual Equation\r\n",
      "\r\n",
      "\n"
     ]
    }
   ],
   "source": [
    "summary= Flowsheet(\"Summary\").AddMaterialStreams(Feed, Recycle, Acetone, Methanol)\n",
    "\n",
    "reporter.Report(summary, 4, False)\n",
    "print (logger.Flush())            "
   ]
  },
  {
   "cell_type": "markdown",
   "metadata": {},
   "source": [
    "# Temperature Profiles"
   ]
  },
  {
   "cell_type": "code",
   "execution_count": 23,
   "metadata": {
    "ExecuteTime": {
     "end_time": "2019-12-03T20:20:14.759976Z",
     "start_time": "2019-12-03T20:20:14.580199Z"
    }
   },
   "outputs": [
    {
     "data": {
      "image/png": "[encoded data removed]",
      "text/plain": [
       "<Figure size 1152x576 with 1 Axes>"
      ]
     },
     "metadata": {
      "needs_background": "light"
     },
     "output_type": "display_data"
    }
   ],
   "source": [
    "tprof=C1.GetProfile(\"T\")\n",
    "stages= range(1, C1.NumberOfTrays+1)\n",
    "df_temp= pd.DataFrame(tprof, index=stages, columns=[\"T\"])\n",
    "plt.plot( df_temp['T'], stages,  linestyle='-', marker='o')\n",
    "plt.gca().invert_yaxis()\n",
    "plt.xlabel(\"Temperature [\"+str(sys.VariableFactory.Output.UnitDictionary[PhysicalDimension.Temperature])+\"]\");\n",
    "plt.ylabel(\"Stage\");\n",
    "plt.title(\"Temperature Profile C1\");\n"
   ]
  },
  {
   "cell_type": "code",
   "execution_count": 24,
   "metadata": {
    "ExecuteTime": {
     "end_time": "2019-12-03T20:20:14.959899Z",
     "start_time": "2019-12-03T20:20:14.759976Z"
    }
   },
   "outputs": [
    {
     "data": {
      "image/png": "[encoded data removed]",
      "text/plain": [
       "<Figure size 1152x576 with 1 Axes>"
      ]
     },
     "metadata": {
      "needs_background": "light"
     },
     "output_type": "display_data"
    }
   ],
   "source": [
    "tprof=C2.GetProfile(\"T\")\n",
    "stages= range(1, C2.NumberOfTrays+1)\n",
    "df_temp= pd.DataFrame(tprof, index=stages, columns=[\"T\"])\n",
    "plt.plot( df_temp['T'], stages,  linestyle='-', marker='o')\n",
    "plt.gca().invert_yaxis()\n",
    "plt.xlabel(\"Temperature [\"+str(sys.VariableFactory.Output.UnitDictionary[PhysicalDimension.Temperature])+\"]\");\n",
    "plt.ylabel(\"Stage\");\n",
    "plt.title(\"Temperature Profile C2\");"
   ]
  },
  {
   "cell_type": "code",
   "execution_count": null,
   "metadata": {},
   "outputs": [],
   "source": []
  }
 ],
 "metadata": {
  "kernelspec": {
   "display_name": "Python 3",
   "language": "python",
   "name": "python3"
  },
  "language_info": {
   "codemirror_mode": {
    "name": "ipython",
    "version": 3
   },
   "file_extension": ".py",
   "mimetype": "text/x-python",
   "name": "python",
   "nbconvert_exporter": "python",
   "pygments_lexer": "ipython3",
   "version": "3.7.4"
  },
  "toc": {
   "base_numbering": 1,
   "nav_menu": {},
   "number_sections": true,
   "sideBar": true,
   "skip_h1_title": false,
   "title_cell": "Table of Contents",
   "title_sidebar": "Contents",
   "toc_cell": false,
   "toc_position": {},
   "toc_section_display": true,
   "toc_window_display": false
  },
  "varInspector": {
   "cols": {
    "lenName": 16,
    "lenType": 16,
    "lenVar": 40
   },
   "kernels_config": {
    "python": {
     "delete_cmd_postfix": "",
     "delete_cmd_prefix": "del ",
     "library": "var_list.py",
     "varRefreshCmd": "print(var_dic_list())"
    },
    "r": {
     "delete_cmd_postfix": ") ",
     "delete_cmd_prefix": "rm(",
     "library": "var_list.r",
     "varRefreshCmd": "cat(var_dic_list()) "
    }
   },
   "types_to_exclude": [
    "module",
    "function",
    "builtin_function_or_method",
    "instance",
    "_Feature"
   ],
   "window_display": false
  }
 },
 "nbformat": 4,
 "nbformat_minor": 2
}
