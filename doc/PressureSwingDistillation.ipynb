{
 "cells": [
  {
   "cell_type": "markdown",
   "metadata": {},
   "source": [
    "# Introduction\n",
    "<div style=\"width:100%;height:6px;background-color:Black;\"></div>"
   ]
  },
  {
   "cell_type": "markdown",
   "metadata": {},
   "source": [
    "### Pressure Swing Distillation\n",
    "\n",
    "Separation of the Methanol and Acetone minimum temperature azeotrope by using the pressure sensitivity of the azeotropic composition of this mixture by operating two columns at different pressures, adapted from [Luyben et al. Ind.Eng.Chem.Res. (2008) 47 pp. 2696-2707.](http://pubs.acs.org/doi/pdf/10.1021/ie701695u).\n",
    "\n",
    "The number of stages in this flowsheet differs from the specifications used in the ChemSep example.\n",
    "\n",
    "[Link to the flowsheet drawing](http://www.chemsep.org/downloads/data/Pressure_Swing_MA_iecr47p2696.png)"
   ]
  },
  {
   "cell_type": "markdown",
   "metadata": {},
   "source": [
    "# .NET Initialization\n",
    "<div style=\"width:100%;height:6px;background-color:Black;\"></div>"
   ]
  },
  {
   "cell_type": "code",
   "execution_count": 1,
   "metadata": {
    "ExecuteTime": {
     "end_time": "2020-01-03T10:18:46.628448Z",
     "start_time": "2020-01-03T10:18:46.422001Z"
    }
   },
   "outputs": [],
   "source": [
    "import clr\n",
    "clr.AddReference(r\"..\\bin\\MiniSim.Core\")\n",
    "\n",
    "import MiniSim.Core.Expressions as expr\n",
    "from  MiniSim.Core.Flowsheeting import MaterialStream, Flowsheet\n",
    "import MiniSim.Core.Numerics as num\n",
    "from MiniSim.Core.UnitsOfMeasure import Unit, SI, METRIC, PhysicalDimension\n",
    "from MiniSim.Core.ModelLibrary import Flash, Heater, Mixer, Splitter, EquilibriumStageSection\n",
    "import MiniSim.Core.PropertyDatabase as chemsep\n",
    "from MiniSim.Core.Reporting import Generator, StringBuilderLogger\n",
    "from MiniSim.Core.Thermodynamics import ThermodynamicSystem"
   ]
  },
  {
   "cell_type": "code",
   "execution_count": 2,
   "metadata": {
    "ExecuteTime": {
     "end_time": "2020-01-03T10:18:46.877808Z",
     "start_time": "2020-01-03T10:18:46.629445Z"
    }
   },
   "outputs": [],
   "source": [
    "%matplotlib inline"
   ]
  },
  {
   "cell_type": "code",
   "execution_count": 3,
   "metadata": {
    "ExecuteTime": {
     "end_time": "2020-01-03T10:18:47.157100Z",
     "start_time": "2020-01-03T10:18:46.879800Z"
    }
   },
   "outputs": [],
   "source": [
    "import numpy as np\n",
    "import pandas as pd\n",
    "import matplotlib.pyplot as plt\n",
    "\n",
    "plt.rcParams[\"figure.figsize\"] = (16,8)\n",
    "plt.rcParams['grid.color'] = 'k'"
   ]
  },
  {
   "cell_type": "markdown",
   "metadata": {},
   "source": [
    "# General Objects Instantiation\n",
    "<div style=\"width:100%;height:6px;background-color:Black;\"></div>"
   ]
  },
  {
   "cell_type": "code",
   "execution_count": 4,
   "metadata": {
    "ExecuteTime": {
     "end_time": "2020-01-03T10:18:47.165081Z",
     "start_time": "2020-01-03T10:18:47.158100Z"
    }
   },
   "outputs": [],
   "source": [
    "Database = chemsep.ChemSepAdapter()\n",
    "logger = StringBuilderLogger();\n",
    "reporter = Generator(logger)"
   ]
  },
  {
   "cell_type": "markdown",
   "metadata": {},
   "source": [
    "# Set up Thermodynamics"
   ]
  },
  {
   "cell_type": "code",
   "execution_count": 5,
   "metadata": {
    "ExecuteTime": {
     "end_time": "2020-01-03T10:18:47.284793Z",
     "start_time": "2020-01-03T10:18:47.166078Z"
    }
   },
   "outputs": [],
   "source": [
    "sys= ThermodynamicSystem(\"Test2\",\"NRTL\", \"default\")\n",
    "\n",
    "sys.AddComponent(Database.FindComponent(\"Acetone\"))\n",
    "sys.AddComponent(Database.FindComponent(\"Methanol\"))\n",
    "Database.FillBIPs(sys)\n",
    "\n",
    "kmolh=Unit.Make([SI.kmol],[SI.h])\n",
    "tonh=Unit.Make([METRIC.ton],[SI.h])\n",
    "\n",
    "sys.VariableFactory.SetOutputDimension(PhysicalDimension.HeatFlow, SI.MW)\n",
    "sys.VariableFactory.SetOutputDimension(PhysicalDimension.Pressure, METRIC.bar)\n",
    "sys.VariableFactory.SetOutputDimension(PhysicalDimension.MassFlow, tonh)"
   ]
  },
  {
   "cell_type": "markdown",
   "metadata": {},
   "source": [
    "# Analysis of the Thermo System"
   ]
  },
  {
   "cell_type": "code",
   "execution_count": 6,
   "metadata": {
    "ExecuteTime": {
     "end_time": "2020-01-03T10:18:47.298755Z",
     "start_time": "2020-01-03T10:18:47.285765Z"
    }
   },
   "outputs": [],
   "source": [
    "def thermoAnalysis(psys):\n",
    "    numComps=len(sys.Components)\n",
    "    names=sys.GetComponentIds()\n",
    "\n",
    "    numSteps=20    \n",
    "    mixture= MaterialStream(\"Mix\", sys)\n",
    "    mixture.Specify(\"VF\",0.0)\n",
    "    mixture.Specify(\"P\",psys, METRIC.mbar)\n",
    "    for c in names:\n",
    "        mixture.Specify(\"n[\"+c+\"]\",1.0)\n",
    "    mixture.InitializeFromMolarFlows()\n",
    "    mixture.FlashPZ()\n",
    "\n",
    "    test= Flowsheet(\"test\")\n",
    "    test.AddMaterialStream(mixture)\n",
    "\n",
    "    solver= num.DecompositionSolver(logger)\n",
    "    result=solver.Solve(test)\n",
    "\n",
    "    fig,axs=plt.subplots(numComps,numComps,figsize=(8,8))\n",
    "    for i in range(numComps):\n",
    "        for j in range(numComps):       \n",
    "            if j!=i:\n",
    "                xvec=[]\n",
    "                yvec=[]\n",
    "                for c in range(numSteps):\n",
    "                    for k in range(numComps):                    \n",
    "                        mixture.Specify(\"n[\"+names[k]+\"]\",0.0)\n",
    "                    mixture.Specify(\"n[\"+names[i]+\"]\",c/(numSteps-1))\n",
    "                    mixture.Specify(\"n[\"+names[j]+\"]\",1.0-c/(numSteps-1))\n",
    "                    mixture.InitializeFromMolarFlows()\n",
    "                    mixture.FlashPZ()\n",
    "                    solver.Solve(test)                               \n",
    "                    xvec.append(mixture.GetVariable('xL['+names[j]+']').Val())               \n",
    "                    yvec.append(mixture.GetVariable('xV['+names[j]+']').Val())               \n",
    "                axs[i,j].plot(xvec, yvec)\n",
    "                axs[i,j].plot(xvec, xvec)              \n",
    "                axs[i,j].set_title(names[j] +' in '+names[i])\n",
    "                axs[i,j].set_xlabel('$x_{'+names[j]+'}$')       \n",
    "                axs[i,j].set_ylabel('$y_{'+names[j]+'}$')\n",
    "                axs[i, j].set_aspect('equal', 'box')\n",
    "            else:\n",
    "                axs[i, j].axis('off')        \n",
    "\n",
    "    plt.tight_layout()\n",
    "    logger.Flush()\n",
    "    plt.suptitle('(x,y)-Diagram at '+str(round(psys,2))+' mbar', y=1.05);"
   ]
  },
  {
   "cell_type": "code",
   "execution_count": 7,
   "metadata": {
    "ExecuteTime": {
     "end_time": "2020-01-03T10:18:47.950087Z",
     "start_time": "2020-01-03T10:18:47.300719Z"
    }
   },
   "outputs": [
    {
     "data": {
      "image/png": "[encoded data removed]",
      "text/plain": [
       "<Figure size 576x576 with 4 Axes>"
      ]
     },
     "metadata": {
      "needs_background": "light"
     },
     "output_type": "display_data"
    }
   ],
   "source": [
    "thermoAnalysis(1000)"
   ]
  },
  {
   "cell_type": "code",
   "execution_count": 8,
   "metadata": {
    "ExecuteTime": {
     "end_time": "2020-01-03T10:18:48.306722Z",
     "start_time": "2020-01-03T10:18:47.952081Z"
    }
   },
   "outputs": [
    {
     "data": {
      "image/png": "[encoded data removed]",
      "text/plain": [
       "<Figure size 576x576 with 4 Axes>"
      ]
     },
     "metadata": {
      "needs_background": "light"
     },
     "output_type": "display_data"
    }
   ],
   "source": [
    "thermoAnalysis(10000)"
   ]
  },
  {
   "cell_type": "markdown",
   "metadata": {},
   "source": [
    "# Low pressure column"
   ]
  },
  {
   "cell_type": "code",
   "execution_count": 9,
   "metadata": {
    "ExecuteTime": {
     "end_time": "2020-01-03T10:18:48.322343Z",
     "start_time": "2020-01-03T10:18:48.306722Z"
    }
   },
   "outputs": [],
   "source": [
    "Feed = (MaterialStream(\"Feed\", sys)\n",
    "    .Specify(\"T\",43, METRIC.C)\n",
    "    .Specify(\"P\",1, METRIC.bar)\n",
    "    .Specify(\"n[Acetone]\", 270, kmolh)\n",
    "    .Specify(\"n[Methanol]\", 270, kmolh)\n",
    "    .InitializeFromMolarFlows()\n",
    "    .FlashPT())\n",
    "\n",
    "Recycle = (MaterialStream(\"Recycle\", sys)\n",
    "    .Specify(\"T\",54, METRIC.C)\n",
    "    .Specify(\"P\",10, METRIC.bar)\n",
    "    .Specify(\"n[Acetone]\",10, kmolh)\n",
    "    .Specify(\"n[Methanol]\", 170, kmolh)\n",
    "    .InitializeFromMolarFlows()\n",
    "    .FlashPZ())\n",
    "\n",
    "S01 = MaterialStream(\"S01\", sys)\n",
    "S02 = MaterialStream(\"S02\", sys)\n",
    "S03 =(MaterialStream(\"S03\", sys)\n",
    "    .Init(\"T\", 51, METRIC.C)\n",
    "    .Init(\"P\", 1, METRIC.bar)\n",
    "    .Init(\"n[Acetone]\",50, kmolh)\n",
    "    .Init(\"n[Methanol]\", 50, kmolh))\n",
    "\n",
    "S04 = MaterialStream(\"S04\", sys)\n",
    "S05 = (MaterialStream(\"S05\", sys)\n",
    "    .Init(\"T\", 61, METRIC.C)\n",
    "    .Init(\"P\", 1, METRIC.bar)\n",
    "    .Init(\"n[Acetone]\",2, kmolh)\n",
    "    .Init(\"n[Methanol]\", 100, kmolh))\n",
    "\n",
    "Methanol = MaterialStream(\"Methanol\", sys)\n",
    "D1 = MaterialStream(\"D1\", sys)"
   ]
  },
  {
   "cell_type": "code",
   "execution_count": 10,
   "metadata": {
    "ExecuteTime": {
     "end_time": "2020-01-03T10:18:48.463042Z",
     "start_time": "2020-01-03T10:18:48.322343Z"
    }
   },
   "outputs": [],
   "source": [
    "C1 = (EquilibriumStageSection(\"C1\",sys,52)\n",
    "        .Connect(\"VIn\", S05)\n",
    "        .Connect(\"LIn\", S03)\n",
    "        .Connect(\"VOut\", S01)\n",
    "        .Connect(\"LOut\", S04)\n",
    "        .ConnectFeed(Feed,37)\n",
    "        .ConnectFeed(Recycle,41)\n",
    "        .MakeAdiabatic()\n",
    "        .MakeIsobaric()\n",
    "        .FixStageEfficiency(1.0)\n",
    "        .Initialize(2.3,0.25,logger))\n",
    "\n",
    "REB1 =(Flash(\"REB1\",sys)\n",
    "        .Connect(\"In\", S04)\n",
    "        .Connect(\"Vap\", S05)\n",
    "        .Connect(\"Liq\", Methanol)\n",
    "        .Specify(\"P\", 1, METRIC.bar)\n",
    "        .Specify(\"VF\",0.7)\n",
    "        .Initialize())\n",
    "\n",
    "COND1 = (Heater(\"COND1\",sys)\n",
    "        .Connect(\"In\", S01)\n",
    "        .Connect(\"Out\", S02)\n",
    "        .Specify(\"P\",1, METRIC.bar)\n",
    "        .Specify(\"VF\",0)\n",
    "        .Initialize())\n",
    "\n",
    "RefluxRatio1=2.36\n",
    "REFSPL1 = (Splitter(\"REFSPL1\",sys)\n",
    "        .Connect(\"In\", S02)\n",
    "        .Connect(\"Out1\", S03)\n",
    "        .Connect(\"Out2\", D1)\n",
    "        .Specify(\"DP\",0, METRIC.bar)\n",
    "        .Specify(\"K\",RefluxRatio1/(1.0+RefluxRatio1))\n",
    "        .Initialize())\n",
    "\n",
    "C1.Initialize(1.0,0.25,logger)\n",
    "logger.Flush();"
   ]
  },
  {
   "cell_type": "code",
   "execution_count": 11,
   "metadata": {
    "ExecuteTime": {
     "end_time": "2020-01-03T10:18:48.478660Z",
     "start_time": "2020-01-03T10:18:48.463042Z"
    }
   },
   "outputs": [],
   "source": [
    "flowsheet= (Flowsheet(\"Flow\")\n",
    "            .AddMaterialStreams(Feed, Recycle, S01,S02,S03,D1,S04,S05, Methanol)\n",
    "            .AddUnits(C1, REB1, COND1, REFSPL1))"
   ]
  },
  {
   "cell_type": "code",
   "execution_count": 12,
   "metadata": {
    "ExecuteTime": {
     "end_time": "2020-01-03T10:18:48.915955Z",
     "start_time": "2020-01-03T10:18:48.478660Z"
    }
   },
   "outputs": [
    {
     "name": "stdout",
     "output_type": "stream",
     "text": [
      "Decomposition Result: V=846, E=846, Blocks=238, Singletons=230\r\n",
      "Block Statistics:\r\n",
      "   # Var # Blocks % Blocks\r\n",
      "       1      230  96,64 %\r\n",
      "       5        4   1,68 %\r\n",
      "       6        3   1,26 %\r\n",
      "     578        1   0,42 %\r\n",
      "Problem Flow was successfully solved (0,347 seconds)\r\n",
      "\n"
     ]
    }
   ],
   "source": [
    "solver= num.DecompositionSolver(logger)\n",
    "\n",
    "solver.Solve(flowsheet)\n",
    "print (logger.Flush())"
   ]
  },
  {
   "cell_type": "code",
   "execution_count": 13,
   "metadata": {
    "ExecuteTime": {
     "end_time": "2020-01-03T10:18:48.947228Z",
     "start_time": "2020-01-03T10:18:48.915955Z"
    }
   },
   "outputs": [
    {
     "name": "stdout",
     "output_type": "stream",
     "text": [
      "\r\n",
      "Report for flowsheet Flow\r\n",
      "================================================\r\n",
      "\r\n",
      "Material Streams\r\n",
      "\r\n",
      "System                    Test2      \r\n",
      "\r\n",
      "Property                  Unit               Feed      Recycle          S01          S02          S03\r\n",
      "\r\n",
      "Temperature               °C              43.0000     136.0140      55.0442      55.0345      55.0345\r\n",
      "Pressure                  bar              1.0000      10.0000       1.0000       1.0000       1.0000\r\n",
      "Vapor Fraction            mol/mol          0.0000       0.0000       1.0000       0.0000       0.0000\r\n",
      "Specific Enthalpy         kJ/kmol     -32510.3979  -23755.2480    2085.9629  -29148.4951  -29148.4951\r\n",
      "Phase                                      Liquid  LiquidVapor        Vapor  BubblePoint  LiquidVapor\r\n",
      "Density                   kmol/cum        17.0475      19.8074       0.0366      14.5417      14.5417\r\n",
      "Mass Density              kg/cum         768.1702     663.3175       1.8978     753.0426     753.0426\r\n",
      "Volume Flow               cum/h           31.6761       9.0875   29135.9738      73.4260      51.5730\r\n",
      "Molar Weight              kg/kmol         45.0605      33.4884      51.7851      51.7851      51.7851\r\n",
      "\r\n",
      "Total Molar Flow          kmol/h         540.0000     180.0000    1067.7376    1067.7376     749.9585\r\n",
      "                  Acetone kmol/h         270.0000      10.0000     809.6313     809.6313     568.6696\r\n",
      "                 Methanol kmol/h         270.0000     170.0000     258.1063     258.1063     181.2890\r\n",
      "Molar Composition                    \r\n",
      "                  Acetone mol/mol          0.5000       0.0556       0.7583       0.7583       0.7583\r\n",
      "                 Methanol mol/mol          0.5000       0.9444       0.2417       0.2417       0.2417\r\n",
      "\r\n",
      "Total Mass Flow           t/h             24.3327       6.0279      55.2929      55.2929      38.8367\r\n",
      "                  Acetone t/h             15.6814       0.5808      47.0227      47.0227      33.0278\r\n",
      "                 Methanol t/h              8.6513       5.4471       8.2702       8.2702       5.8088\r\n",
      "Mass Composition                     \r\n",
      "                  Acetone kg/kg            0.6445       0.0964       0.8504       0.8504       0.8504\r\n",
      "                 Methanol kg/kg            0.3555       0.9036       0.1496       0.1496       0.1496\r\n",
      "\r\n",
      "\r\n",
      "\r\n",
      "Property                  Unit                 D1          S04          S05     Methanol\r\n",
      "\r\n",
      "Temperature               °C              55.0345      59.9555      61.3894      61.3894\r\n",
      "Pressure                  bar              1.0000       1.0000       1.0000       1.0000\r\n",
      "Vapor Fraction            mol/mol          0.0000       0.0000       1.0000       0.0000\r\n",
      "Specific Enthalpy         kJ/kmol     -29148.4951  -32935.2671    1876.8663  -33256.3550\r\n",
      "Phase                                 LiquidVapor  LiquidVapor  LiquidVapor  LiquidVapor\r\n",
      "Density                   kmol/cum        14.5417      20.7511       0.0360      21.5825\r\n",
      "Mass Density              kg/cum         753.0426     752.5849       1.3300     746.0845\r\n",
      "Volume Flow               cum/h           21.8530      64.6102   26104.9489      18.6364\r\n",
      "Molar Weight              kg/kmol         51.7851      36.2671      36.9949      34.5690\r\n",
      "\r\n",
      "Total Molar Flow          kmol/h         317.7790    1340.7365     938.5156     402.2210\r\n",
      "                  Acetone kmol/h         240.9617     217.5723     178.5340      39.0383\r\n",
      "                 Methanol kmol/h          76.8174    1123.1642     759.9815     363.1826\r\n",
      "Molar Composition                    \r\n",
      "                  Acetone mol/mol          0.7583       0.1623       0.1902       0.0971\r\n",
      "                 Methanol mol/mol          0.2417       0.8377       0.8098       0.9029\r\n",
      "\r\n",
      "Total Mass Flow           t/h             16.4562      48.6247      34.7203      13.9044\r\n",
      "                  Acetone t/h             13.9948      12.6364      10.3691       2.2673\r\n",
      "                 Methanol t/h              2.4614      35.9883      24.3512      11.6370\r\n",
      "Mass Composition                     \r\n",
      "                  Acetone kg/kg            0.8504       0.2599       0.2986       0.1631\r\n",
      "                 Methanol kg/kg            0.1496       0.7401       0.7014       0.8369\r\n",
      "\r\n",
      "\r\n",
      "\r\n",
      "\r\n",
      "Design Specifications\r\n",
      "\r\n",
      "Name            Model                          Class           Group                       Residual Equation\r\n",
      "\r\n",
      "\n"
     ]
    }
   ],
   "source": [
    "reporter.Report(flowsheet, 5, False)\n",
    "print (logger.Flush())"
   ]
  },
  {
   "cell_type": "markdown",
   "metadata": {},
   "source": [
    "# Add High pressure column"
   ]
  },
  {
   "cell_type": "code",
   "execution_count": 14,
   "metadata": {
    "ExecuteTime": {
     "end_time": "2020-01-03T10:18:50.368769Z",
     "start_time": "2020-01-03T10:18:48.947228Z"
    }
   },
   "outputs": [],
   "source": [
    "S06 = MaterialStream(\"S06\", sys)\n",
    "S07 = MaterialStream(\"S07\", sys)\n",
    "S08 = (MaterialStream(\"S08\", sys)\n",
    "        .Init(\"T\", 54, METRIC.C)\n",
    "        .Init(\"P\", 10, METRIC.bar)\n",
    "        .Init(\"n[Acetone]\",50, kmolh)\n",
    "        .Init(\"n[Methanol]\", 50, kmolh))\n",
    "\n",
    "S09 = MaterialStream(\"S09\", sys)\n",
    "\n",
    "S10 = (MaterialStream(\"S10\", sys)\n",
    "        .Init(\"T\", 140, METRIC.C)\n",
    "        .Init(\"P\", 10, METRIC.bar)\n",
    "        .Init(\"n[Acetone]\",100, kmolh)\n",
    "        .Init(\"n[Methanol]\", 2, kmolh))\n",
    "\n",
    "Acetone = MaterialStream(\"Acetone\", sys)\n",
    "D2 = MaterialStream(\"D2\", sys)\n",
    "\n",
    "C2 = (EquilibriumStageSection(\"C2\",sys,61)\n",
    "        .Connect(\"VIn\", S10)\n",
    "        .Connect(\"LIn\", S08)\n",
    "        .Connect(\"VOut\", S06)\n",
    "        .Connect(\"LOut\", S09)\n",
    "        .ConnectFeed(D1,41)\n",
    "        .MakeAdiabatic()\n",
    "        .MakeIsobaric()\n",
    "        .FixStageEfficiency(1.0)\n",
    "        .Initialize(3.11,0.1,logger))\n",
    "\n",
    "REB2 = (Flash(\"REB2\",sys)\n",
    "        .Connect(\"In\", S09)\n",
    "        .Connect(\"Vap\", S10)\n",
    "        .Connect(\"Liq\", Acetone)\n",
    "        .Specify(\"P\",10, METRIC.bar)\n",
    "        .Specify(\"VF\",0.7)\n",
    "        .Initialize())\n",
    "\n",
    "COND2 = (Heater(\"COND2\",sys)\n",
    "        .Connect(\"In\", S06)\n",
    "        .Connect(\"Out\", S07)\n",
    "        .Specify(\"P\",10, METRIC.bar)\n",
    "        .Specify(\"VF\",0)\n",
    "        .Initialize())\n",
    "\n",
    "RefluxRatio2=3.11\n",
    "REFSPL2 = (Splitter(\"REFSPL2\",sys)\n",
    "        .Connect(\"In\", S07)\n",
    "        .Connect(\"Out1\", D2)\n",
    "        .Connect(\"Out2\", S08)\n",
    "        .Specify(\"DP\",0, METRIC.bar)\n",
    "        .Specify(\"K\",1-RefluxRatio2/(1.0+RefluxRatio2))\n",
    "        .Initialize())\n",
    "\n",
    "C2.Solve()\n",
    "REB2.Solve()\n",
    "COND2.Solve()\n",
    "REFSPL2.Solve()\n",
    "C2.Initialize(3.11,0.1,logger)\n",
    "logger.Flush();"
   ]
  },
  {
   "cell_type": "code",
   "execution_count": 15,
   "metadata": {
    "ExecuteTime": {
     "end_time": "2020-01-03T10:18:50.384372Z",
     "start_time": "2020-01-03T10:18:50.368769Z"
    }
   },
   "outputs": [],
   "source": [
    "flowsheet.AddMaterialStreams(S06,S07,S08,D2,S09,S10,Acetone)\n",
    "flowsheet.AddUnits(C2, REB2, COND2, REFSPL2);"
   ]
  },
  {
   "cell_type": "code",
   "execution_count": 16,
   "metadata": {
    "ExecuteTime": {
     "end_time": "2020-01-03T10:18:50.793960Z",
     "start_time": "2020-01-03T10:18:50.384372Z"
    }
   },
   "outputs": [
    {
     "name": "stdout",
     "output_type": "stream",
     "text": [
      "Decomposition Result: V=1743, E=1743, Blocks=445, Singletons=431\r\n",
      "Block Statistics:\r\n",
      "   # Var # Blocks % Blocks\r\n",
      "       1      431  96,85 %\r\n",
      "       5        6   1,35 %\r\n",
      "       6        6   1,35 %\r\n",
      "     578        1   0,22 %\r\n",
      "     668        1   0,22 %\r\n",
      "Problem Flow was successfully solved (0,315 seconds)\r\n",
      "\n"
     ]
    }
   ],
   "source": [
    "solver.Solve(flowsheet)\n",
    "print (logger.Flush())"
   ]
  },
  {
   "cell_type": "markdown",
   "metadata": {},
   "source": [
    "# Close Recycle"
   ]
  },
  {
   "cell_type": "markdown",
   "metadata": {},
   "source": [
    "The stream recycle was fixed while we performed the startup calculations. Now we connect the recycle stream with the distillate stream of C2 to close the loop. We use a simple adiabatic heater to close the mass and energy balance."
   ]
  },
  {
   "cell_type": "code",
   "execution_count": 17,
   "metadata": {
    "ExecuteTime": {
     "end_time": "2020-01-03T10:18:50.809577Z",
     "start_time": "2020-01-03T10:18:50.793960Z"
    }
   },
   "outputs": [],
   "source": [
    "Recycle.Unfix()\n",
    "\n",
    "RECY01 = (Heater(\"RECY01\",sys)\n",
    "    .Connect(\"In\", D2)\n",
    "    .Connect(\"Out\", Recycle)\n",
    "    .Specify(\"DP\",9, METRIC.bar)\n",
    "    .Specify(\"Q\",0, SI.kW)\n",
    "    .Initialize()\n",
    "    .Solve())\n",
    "\n",
    "flowsheet.AddUnit(RECY01);"
   ]
  },
  {
   "cell_type": "code",
   "execution_count": 18,
   "metadata": {
    "ExecuteTime": {
     "end_time": "2020-01-03T10:18:51.325052Z",
     "start_time": "2020-01-03T10:18:50.809577Z"
    }
   },
   "outputs": [
    {
     "name": "stdout",
     "output_type": "stream",
     "text": [
      "Decomposition Result: V=1750, E=1750, Blocks=426, Singletons=413\r\n",
      "Block Statistics:\r\n",
      "   # Var # Blocks % Blocks\r\n",
      "       1      413  96,95 %\r\n",
      "       5        5   1,17 %\r\n",
      "       6        7   1,64 %\r\n",
      "    1270        1   0,23 %\r\n",
      "Problem Flow was successfully solved (0,417 seconds)\r\n",
      "\n"
     ]
    }
   ],
   "source": [
    "solver.Solve(flowsheet)\n",
    "print (logger.Flush())"
   ]
  },
  {
   "cell_type": "markdown",
   "metadata": {},
   "source": [
    "# Reach Specifications"
   ]
  },
  {
   "cell_type": "code",
   "execution_count": 19,
   "metadata": {
    "ExecuteTime": {
     "end_time": "2020-01-03T10:18:51.340767Z",
     "start_time": "2020-01-03T10:18:51.325052Z"
    }
   },
   "outputs": [],
   "source": [
    "REB1.Unspecify(\"VF\")\n",
    "REB2.Unspecify(\"VF\")\n",
    "Methanol.GetVariable(\"x[Methanol]\").Fix(0.995)\n",
    "Acetone.GetVariable(\"x[Acetone]\").Fix(0.995)"
   ]
  },
  {
   "cell_type": "code",
   "execution_count": 20,
   "metadata": {
    "ExecuteTime": {
     "end_time": "2020-01-03T10:18:52.449890Z",
     "start_time": "2020-01-03T10:18:51.340767Z"
    }
   },
   "outputs": [
    {
     "name": "stdout",
     "output_type": "stream",
     "text": [
      "Decomposition Result: V=1750, E=1750, Blocks=422, Singletons=409\r\n",
      "Block Statistics:\r\n",
      "   # Var # Blocks % Blocks\r\n",
      "       1      409  96,92 %\r\n",
      "       5        5   1,18 %\r\n",
      "       6        7   1,66 %\r\n",
      "    1274        1   0,24 %\r\n",
      "Problem Flow was successfully solved (1,009 seconds)\r\n",
      "\n"
     ]
    }
   ],
   "source": [
    "solver.Solve(flowsheet)\n",
    "print (logger.Flush())"
   ]
  },
  {
   "cell_type": "code",
   "execution_count": 21,
   "metadata": {
    "ExecuteTime": {
     "end_time": "2020-01-03T10:18:52.465409Z",
     "start_time": "2020-01-03T10:18:52.449890Z"
    }
   },
   "outputs": [
    {
     "name": "stdout",
     "output_type": "stream",
     "text": [
      "\r\n",
      "Report for flowsheet Flow\r\n",
      "================================================\r\n",
      "\r\n",
      "Material Streams\r\n",
      "\r\n",
      "System                    Test2      \r\n",
      "\r\n",
      "Property                  Unit               Feed      Recycle          S01          S02          S03           D1\r\n",
      "\r\n",
      "Temperature               °C              43.0000      57.0129      55.0434      55.0341      55.0340      55.0341\r\n",
      "Pressure                  bar              1.0000       1.0000       1.0000       1.0000       1.0000       1.0000\r\n",
      "Vapor Fraction            mol/mol          0.0000       0.3319       1.0000       0.0000       0.0000       0.0000\r\n",
      "Specific Enthalpy         kJ/kmol     -32510.3979  -20552.0239    2086.4014  -29144.8041  -29144.8041  -29144.8041\r\n",
      "Phase                                      Liquid  LiquidVapor  LiquidVapor  BubblePoint       Liquid  LiquidVapor\r\n",
      "Density                   kmol/cum        17.0475       0.1093       0.0366      14.5379      14.5376      14.5379\r\n",
      "Mass Density              kg/cum         768.1702       4.6726       1.8982     753.0402     753.0265     753.0402\r\n",
      "Volume Flow               cum/h           31.6761    1678.6973   41578.6192     104.8105      73.6182      31.1936\r\n",
      "Molar Weight              kg/kmol         45.0605      42.7481      51.7985      51.7985      51.7985      51.7985\r\n",
      "\r\n",
      "Total Molar Flow          kmol/h         540.0000     183.4890    1523.7231    1523.7231    1070.2341     453.4890\r\n",
      "                  Acetone kmol/h         270.0000      75.4489    1156.1723    1156.1723     812.0734     344.0989\r\n",
      "                 Methanol kmol/h         270.0000     108.0401     367.5508     367.5508     258.1607     109.3901\r\n",
      "Molar Composition                    \r\n",
      "                  Acetone mol/mol          0.5000       0.4112       0.7588       0.7588       0.7588       0.7588\r\n",
      "                 Methanol mol/mol          0.5000       0.5888       0.2412       0.2412       0.2412       0.2412\r\n",
      "\r\n",
      "Total Mass Flow           t/h             24.3327       7.8438      78.9265      78.9265      55.4365      23.4900\r\n",
      "                  Acetone t/h             15.6814       4.3820      67.1495      67.1495      47.1645      19.9850\r\n",
      "                 Methanol t/h              8.6513       3.4618      11.7770      11.7770       8.2719       3.5051\r\n",
      "Mass Composition                     \r\n",
      "                  Acetone kg/kg            0.6445       0.5587       0.8508       0.8508       0.8508       0.8508\r\n",
      "                 Methanol kg/kg            0.3555       0.4413       0.1492       0.1492       0.1492       0.1492\r\n",
      "\r\n",
      "\r\n",
      "\r\n",
      "Property                  Unit                S04          S05     Methanol          S06          S07          S08\r\n",
      "\r\n",
      "Temperature               °C              63.8982      64.0940      64.0940     134.0842     134.0746     134.0746\r\n",
      "Pressure                  bar              1.0000       1.0000       1.0000      10.0000      10.0000      10.0000\r\n",
      "Vapor Fraction            mol/mol          0.0000       1.0000       0.0000       1.0000       0.0000       0.0000\r\n",
      "Specific Enthalpy         kJ/kmol     -33621.1859    1795.4496  -33642.1155    6841.2007  -20552.0239  -20552.0239\r\n",
      "Phase                                      Liquid  LiquidVapor  LiquidVapor  LiquidVapor  BubblePoint       Liquid\r\n",
      "Density                   kmol/cum        23.2286       0.0357      23.3325       0.2953      15.3123      15.3123\r\n",
      "Mass Density              kg/cum         750.7525       1.1537     750.6536      12.6252     654.5731     654.5731\r\n",
      "Volume Flow               cum/h           68.2918   36909.8000      11.5719    2553.4673      49.2505      37.2674\r\n",
      "Molar Weight              kg/kmol         32.3201      32.3505      32.1720      42.7481      42.7481      42.7481\r\n",
      "\r\n",
      "Total Molar Flow          kmol/h        1586.3256    1316.3256     270.0000     754.1398     754.1398     570.6508\r\n",
      "                  Acetone kmol/h          16.9542      15.6042       1.3500     310.0949     310.0949     234.6460\r\n",
      "                 Methanol kmol/h        1569.3714    1300.7214     268.6500     444.0449     444.0449     336.0048\r\n",
      "Molar Composition                    \r\n",
      "                  Acetone mol/mol          0.0107       0.0119       0.0050       0.4112       0.4112       0.4112\r\n",
      "                 Methanol mol/mol          0.9893       0.9881       0.9950       0.5888       0.5888       0.5888\r\n",
      "\r\n",
      "Total Mass Flow           t/h             51.2703      42.5838       8.6865      32.2381      32.2381      24.3943\r\n",
      "                  Acetone t/h              0.9847       0.9063       0.0784      18.0100      18.0100      13.6280\r\n",
      "                 Methanol t/h             50.2856      41.6775       8.6080      14.2280      14.2280      10.7662\r\n",
      "Mass Composition                     \r\n",
      "                  Acetone kg/kg            0.0192       0.0213       0.0090       0.5587       0.5587       0.5587\r\n",
      "                 Methanol kg/kg            0.9808       0.9787       0.9910       0.4413       0.4413       0.4413\r\n",
      "\r\n",
      "\r\n",
      "\r\n",
      "Property                  Unit                 D2          S09          S10      Acetone\r\n",
      "\r\n",
      "Temperature               °C             134.0746     142.5744     142.7177     142.7177\r\n",
      "Pressure                  bar             10.0000      10.0000      10.0000      10.0000\r\n",
      "Vapor Fraction            mol/mol          0.0000       0.0000       1.0000       0.0000\r\n",
      "Specific Enthalpy         kJ/kmol     -20552.0239  -13278.7333    9893.9678  -13217.1897\r\n",
      "Phase                                      Liquid  LiquidVapor        Vapor  LiquidVapor\r\n",
      "Density                   kmol/cum        15.3123      10.8961       0.2892      10.8743\r\n",
      "Mass Density              kg/cum         654.5703     630.4362      16.7271     630.1522\r\n",
      "Volume Flow               cum/h           11.9831     129.8078    3957.0023      24.8293\r\n",
      "Molar Weight              kg/kmol         42.7481      57.8588      57.8376      57.9490\r\n",
      "\r\n",
      "Total Molar Flow          kmol/h         183.4890    1414.4001    1144.4001     270.0000\r\n",
      "                  Acetone kmol/h          75.4489    1402.4324    1133.7824     268.6500\r\n",
      "                 Methanol kmol/h         108.0401      11.9677      10.6177       1.3500\r\n",
      "Molar Composition                    \r\n",
      "                  Acetone mol/mol          0.4112       0.9915       0.9907       0.9950\r\n",
      "                 Methanol mol/mol          0.5888       0.0085       0.0093       0.0050\r\n",
      "\r\n",
      "Total Mass Flow           t/h              7.8438      81.8355      66.1893      15.6462\r\n",
      "                  Acetone t/h              4.3820      81.4521      65.8491      15.6030\r\n",
      "                 Methanol t/h              3.4618       0.3835       0.3402       0.0433\r\n",
      "Mass Composition                     \r\n",
      "                  Acetone kg/kg            0.5587       0.9953       0.9949       0.9972\r\n",
      "                 Methanol kg/kg            0.4413       0.0047       0.0051       0.0028\r\n",
      "\r\n",
      "\r\n",
      "\r\n",
      "\r\n",
      "Design Specifications\r\n",
      "\r\n",
      "Name            Model                          Class           Group                       Residual Equation\r\n",
      "\r\n",
      "\n"
     ]
    }
   ],
   "source": [
    "reporter.Report(flowsheet, 6, False)\n",
    "print (logger.Flush())"
   ]
  },
  {
   "cell_type": "markdown",
   "metadata": {},
   "source": [
    "# Overall Mass Balance"
   ]
  },
  {
   "cell_type": "markdown",
   "metadata": {},
   "source": [
    "For reporting purposes, we create a temporary flowsheet that collects the main process streams. This flowsheet will not be solved, but is used by the reporter object."
   ]
  },
  {
   "cell_type": "code",
   "execution_count": 22,
   "metadata": {
    "ExecuteTime": {
     "end_time": "2020-01-03T10:18:52.481110Z",
     "start_time": "2020-01-03T10:18:52.465409Z"
    }
   },
   "outputs": [
    {
     "name": "stdout",
     "output_type": "stream",
     "text": [
      "\r\n",
      "Report for flowsheet Summary\r\n",
      "================================================\r\n",
      "\r\n",
      "Material Streams\r\n",
      "\r\n",
      "System                    Test2      \r\n",
      "\r\n",
      "Property                  Unit               Feed      Recycle      Acetone     Methanol\r\n",
      "\r\n",
      "Temperature               °C              43.0000      57.0129     142.7177      64.0940\r\n",
      "Pressure                  bar              1.0000       1.0000      10.0000       1.0000\r\n",
      "Vapor Fraction            mol/mol          0.0000       0.3319       0.0000       0.0000\r\n",
      "Specific Enthalpy         kJ/kmol     -32510.3979  -20552.0239  -13217.1897  -33642.1155\r\n",
      "Phase                                      Liquid  LiquidVapor  LiquidVapor  LiquidVapor\r\n",
      "Density                   kmol/cum        17.0475       0.1093      10.8743      23.3325\r\n",
      "Mass Density              kg/cum         768.1702       4.6726     630.1522     750.6536\r\n",
      "Volume Flow               cum/h           31.6761    1678.6973      24.8293      11.5719\r\n",
      "Molar Weight              kg/kmol         45.0605      42.7481      57.9490      32.1720\r\n",
      "\r\n",
      "Total Molar Flow          kmol/h         540.0000     183.4890     270.0000     270.0000\r\n",
      "                  Acetone kmol/h         270.0000      75.4489     268.6500       1.3500\r\n",
      "                 Methanol kmol/h         270.0000     108.0401       1.3500     268.6500\r\n",
      "Molar Composition                    \r\n",
      "                  Acetone mol/mol          0.5000       0.4112       0.9950       0.0050\r\n",
      "                 Methanol mol/mol          0.5000       0.5888       0.0050       0.9950\r\n",
      "\r\n",
      "Total Mass Flow           t/h             24.3327       7.8438      15.6462       8.6865\r\n",
      "                  Acetone t/h             15.6814       4.3820      15.6030       0.0784\r\n",
      "                 Methanol t/h              8.6513       3.4618       0.0433       8.6080\r\n",
      "Mass Composition                     \r\n",
      "                  Acetone kg/kg            0.6445       0.5587       0.9972       0.0090\r\n",
      "                 Methanol kg/kg            0.3555       0.4413       0.0028       0.9910\r\n",
      "\r\n",
      "\r\n",
      "\r\n",
      "\r\n",
      "Design Specifications\r\n",
      "\r\n",
      "Name            Model                          Class           Group                       Residual Equation\r\n",
      "\r\n",
      "\n"
     ]
    }
   ],
   "source": [
    "summary= Flowsheet(\"Summary\").AddMaterialStreams(Feed, Recycle, Acetone, Methanol)\n",
    "\n",
    "reporter.Report(summary, 4, False)\n",
    "print (logger.Flush())            "
   ]
  },
  {
   "cell_type": "markdown",
   "metadata": {},
   "source": [
    "# Temperature Profiles"
   ]
  },
  {
   "cell_type": "code",
   "execution_count": 23,
   "metadata": {
    "ExecuteTime": {
     "end_time": "2020-01-03T10:18:52.650960Z",
     "start_time": "2020-01-03T10:18:52.485538Z"
    }
   },
   "outputs": [
    {
     "data": {
      "image/png": "[encoded data removed]",
      "text/plain": [
       "<Figure size 1152x576 with 1 Axes>"
      ]
     },
     "metadata": {
      "needs_background": "light"
     },
     "output_type": "display_data"
    }
   ],
   "source": [
    "tprof=C1.GetProfile(\"T\")\n",
    "stages= range(1, C1.NumberOfTrays+1)\n",
    "df_temp= pd.DataFrame(tprof, index=stages, columns=[\"T\"])\n",
    "plt.plot( df_temp['T'], stages,  linestyle='-', marker='o')\n",
    "plt.gca().invert_yaxis()\n",
    "plt.xlabel(\"Temperature [\"+str(sys.VariableFactory.Output.UnitDictionary[PhysicalDimension.Temperature])+\"]\");\n",
    "plt.ylabel(\"Stage\");\n",
    "plt.title(\"Temperature Profile C1\");\n"
   ]
  },
  {
   "cell_type": "code",
   "execution_count": 25,
   "metadata": {
    "ExecuteTime": {
     "end_time": "2020-01-03T10:19:19.610891Z",
     "start_time": "2020-01-03T10:19:19.564008Z"
    }
   },
   "outputs": [
    {
     "name": "stdout",
     "output_type": "stream",
     "text": [
      "     Stage          T         TV          P          Q          L          V          F          W         RL        EPS\r\n",
      "                   °C         °C        bar         MW     kmol/h     kmol/h     kmol/h     kmol/h                   [-]\r\n",
      "1              55,043     55,043      1,000      0,000   1068,169   1523,723   1070,234      0,000      0,000      1,000\r\n",
      "2              55,054     55,054      1,000      0,000   1066,258   1521,658      0,000      0,000      0,000      1,000\r\n",
      "3              55,066     55,066      1,000      0,000   1064,473   1519,747      0,000      0,000      0,000      1,000\r\n",
      "4              55,078     55,078      1,000      0,000   1062,792   1517,962      0,000      0,000      0,000      1,000\r\n",
      "5              55,091     55,091      1,000      0,000   1061,197   1516,281      0,000      0,000      0,000      1,000\r\n",
      "6              55,105     55,105      1,000      0,000   1059,673   1514,686      0,000      0,000      0,000      1,000\r\n",
      "7              55,120     55,120      1,000      0,000   1058,209   1513,162      0,000      0,000      0,000      1,000\r\n",
      "8              55,135     55,135      1,000      0,000   1056,793   1511,698      0,000      0,000      0,000      1,000\r\n",
      "9              55,150     55,150      1,000      0,000   1055,418   1510,282      0,000      0,000      0,000      1,000\r\n",
      "10             55,166     55,166      1,000      0,000   1054,076   1508,907      0,000      0,000      0,000      1,000\r\n",
      "11             55,183     55,183      1,000      0,000   1052,761   1507,565      0,000      0,000      0,000      1,000\r\n",
      "12             55,200     55,200      1,000      0,000   1051,467   1506,250      0,000      0,000      0,000      1,000\r\n",
      "13             55,218     55,218      1,000      0,000   1050,189   1504,956      0,000      0,000      0,000      1,000\r\n",
      "14             55,237     55,237      1,000      0,000   1048,923   1503,678      0,000      0,000      0,000      1,000\r\n",
      "15             55,256     55,256      1,000      0,000   1047,665   1502,412      0,000      0,000      0,000      1,000\r\n",
      "16             55,276     55,276      1,000      0,000   1046,412   1501,154      0,000      0,000      0,000      1,000\r\n",
      "17             55,297     55,297      1,000      0,000   1045,160   1499,901      0,000      0,000      0,000      1,000\r\n",
      "18             55,319     55,319      1,000      0,000   1043,906   1498,649      0,000      0,000      0,000      1,000\r\n",
      "19             55,342     55,342      1,000      0,000   1042,649   1497,395      0,000      0,000      0,000      1,000\r\n",
      "20             55,365     55,365      1,000      0,000   1041,386   1496,138      0,000      0,000      0,000      1,000\r\n",
      "21             55,390     55,390      1,000      0,000   1040,115   1494,875      0,000      0,000      0,000      1,000\r\n",
      "22             55,416     55,416      1,000      0,000   1038,835   1493,604      0,000      0,000      0,000      1,000\r\n",
      "23             55,442     55,442      1,000      0,000   1037,545   1492,324      0,000      0,000      0,000      1,000\r\n",
      "24             55,470     55,470      1,000      0,000   1036,243   1491,034      0,000      0,000      0,000      1,000\r\n",
      "25             55,500     55,500      1,000      0,000   1034,930   1489,732      0,000      0,000      0,000      1,000\r\n",
      "26             55,530     55,530      1,000      0,000   1033,605   1488,419      0,000      0,000      0,000      1,000\r\n",
      "27             55,562     55,562      1,000      0,000   1032,269   1487,094      0,000      0,000      0,000      1,000\r\n",
      "28             55,595     55,595      1,000      0,000   1030,922   1485,758      0,000      0,000      0,000      1,000\r\n",
      "29             55,629     55,629      1,000      0,000   1029,566   1484,411      0,000      0,000      0,000      1,000\r\n",
      "30             55,665     55,665      1,000      0,000   1028,202   1483,055      0,000      0,000      0,000      1,000\r\n",
      "31             55,702     55,702      1,000      0,000   1026,834   1481,691      0,000      0,000      0,000      1,000\r\n",
      "32             55,740     55,740      1,000      0,000   1025,464   1480,323      0,000      0,000      0,000      1,000\r\n",
      "33             55,779     55,779      1,000      0,000   1024,094   1478,953      0,000      0,000      0,000      1,000\r\n",
      "34             55,820     55,820      1,000      0,000   1022,730   1477,583      0,000      0,000      0,000      1,000\r\n",
      "35             55,861     55,861      1,000      0,000   1021,376   1476,219      0,000      0,000      0,000      1,000\r\n",
      "36             55,903     55,903      1,000      0,000   1020,035   1474,865      0,000      0,000      0,000      1,000\r\n",
      "37             55,946     55,946      1,000      0,000   1585,550   1473,524    540,000      0,000      0,000      1,000\r\n",
      "38             55,981     55,981      1,000      0,000   1583,899   1499,039      0,000      0,000      0,000      1,000\r\n",
      "39             56,035     56,035      1,000      0,000   1581,429   1497,388      0,000      0,000      0,000      1,000\r\n",
      "40             56,118     56,118      1,000      0,000   1577,764   1494,918      0,000      0,000      0,000      1,000\r\n",
      "41             56,249     56,249      1,000      0,000   1696,974   1491,253    183,489      0,000      0,000      1,000\r\n",
      "42             56,348     56,348      1,000      0,000   1692,838   1426,974      0,000      0,000      0,000      1,000\r\n",
      "43             56,516     56,516      1,000      0,000   1686,241   1422,838      0,000      0,000      0,000      1,000\r\n",
      "44             56,805     56,805      1,000      0,000   1676,102   1416,241      0,000      0,000      0,000      1,000\r\n",
      "45             57,293     57,293      1,000      0,000   1661,560   1406,102      0,000      0,000      0,000      1,000\r\n",
      "46             58,081     58,081      1,000      0,000   1643,116   1391,560      0,000      0,000      0,000      1,000\r\n",
      "47             59,224     59,224      1,000      0,000   1623,759   1373,116      0,000      0,000      0,000      1,000\r\n",
      "48             60,598     60,598      1,000      0,000   1607,708   1353,759      0,000      0,000      0,000      1,000\r\n",
      "49             61,905     61,905      1,000      0,000   1597,067   1337,708      0,000      0,000      0,000      1,000\r\n",
      "50             62,898     62,898      1,000      0,000   1591,047   1327,067      0,000      0,000      0,000      1,000\r\n",
      "51             63,534     63,534      1,000      0,000   1587,910   1321,047      0,000      0,000      0,000      1,000\r\n",
      "52             63,898     63,898      1,000      0,000   1586,326   1317,910   1316,326      0,000      0,000      1,000\r\n",
      "\n"
     ]
    }
   ],
   "source": [
    "reporter.Report(C1,True)\n",
    "print(logger.Flush())"
   ]
  },
  {
   "cell_type": "code",
   "execution_count": 24,
   "metadata": {
    "ExecuteTime": {
     "end_time": "2020-01-03T10:18:52.838383Z",
     "start_time": "2020-01-03T10:18:52.650960Z"
    }
   },
   "outputs": [
    {
     "data": {
      "image/png": "[encoded data removed]",
      "text/plain": [
       "<Figure size 1152x576 with 1 Axes>"
      ]
     },
     "metadata": {
      "needs_background": "light"
     },
     "output_type": "display_data"
    }
   ],
   "source": [
    "tprof=C2.GetProfile(\"T\")\n",
    "stages= range(1, C2.NumberOfTrays+1)\n",
    "df_temp= pd.DataFrame(tprof, index=stages, columns=[\"T\"])\n",
    "plt.plot( df_temp['T'], stages,  linestyle='-', marker='o')\n",
    "plt.gca().invert_yaxis()\n",
    "plt.xlabel(\"Temperature [\"+str(sys.VariableFactory.Output.UnitDictionary[PhysicalDimension.Temperature])+\"]\");\n",
    "plt.ylabel(\"Stage\");\n",
    "plt.title(\"Temperature Profile C2\");"
   ]
  },
  {
   "cell_type": "code",
   "execution_count": 26,
   "metadata": {
    "ExecuteTime": {
     "end_time": "2020-01-03T10:19:29.068683Z",
     "start_time": "2020-01-03T10:19:29.037441Z"
    }
   },
   "outputs": [
    {
     "name": "stdout",
     "output_type": "stream",
     "text": [
      "     Stage          T         TV          P          Q          L          V          F          W         RL        EPS\r\n",
      "                   °C         °C        bar         MW     kmol/h     kmol/h     kmol/h     kmol/h                   [-]\r\n",
      "1             134,084    134,084     10,000      0,000    571,796    754,140    570,651      0,000      0,000      1,000\r\n",
      "2             134,096    134,096     10,000      0,000    572,953    755,285      0,000      0,000      0,000      1,000\r\n",
      "3             134,111    134,111     10,000      0,000    574,128    756,442      0,000      0,000      0,000      1,000\r\n",
      "4             134,129    134,129     10,000      0,000    575,323    757,617      0,000      0,000      0,000      1,000\r\n",
      "5             134,150    134,150     10,000      0,000    576,543    758,812      0,000      0,000      0,000      1,000\r\n",
      "6             134,174    134,174     10,000      0,000    577,791    760,032      0,000      0,000      0,000      1,000\r\n",
      "7             134,202    134,202     10,000      0,000    579,069    761,280      0,000      0,000      0,000      1,000\r\n",
      "8             134,233    134,233     10,000      0,000    580,380    762,558      0,000      0,000      0,000      1,000\r\n",
      "9             134,268    134,268     10,000      0,000    581,726    763,869      0,000      0,000      0,000      1,000\r\n",
      "10            134,307    134,307     10,000      0,000    583,107    765,215      0,000      0,000      0,000      1,000\r\n",
      "11            134,350    134,350     10,000      0,000    584,524    766,596      0,000      0,000      0,000      1,000\r\n",
      "12            134,398    134,398     10,000      0,000    585,976    768,013      0,000      0,000      0,000      1,000\r\n",
      "13            134,450    134,450     10,000      0,000    587,461    769,465      0,000      0,000      0,000      1,000\r\n",
      "14            134,507    134,507     10,000      0,000    588,975    770,950      0,000      0,000      0,000      1,000\r\n",
      "15            134,568    134,568     10,000      0,000    590,515    772,464      0,000      0,000      0,000      1,000\r\n",
      "16            134,634    134,634     10,000      0,000    592,073    774,004      0,000      0,000      0,000      1,000\r\n",
      "17            134,705    134,705     10,000      0,000    593,643    775,562      0,000      0,000      0,000      1,000\r\n",
      "18            134,779    134,779     10,000      0,000    595,216    777,132      0,000      0,000      0,000      1,000\r\n",
      "19            134,856    134,856     10,000      0,000    596,782    778,705      0,000      0,000      0,000      1,000\r\n",
      "20            134,936    134,936     10,000      0,000    598,329    780,271      0,000      0,000      0,000      1,000\r\n",
      "21            135,018    135,018     10,000      0,000    599,848    781,818      0,000      0,000      0,000      1,000\r\n",
      "22            135,101    135,101     10,000      0,000    601,327    783,337      0,000      0,000      0,000      1,000\r\n",
      "23            135,184    135,184     10,000      0,000    602,755    784,816      0,000      0,000      0,000      1,000\r\n",
      "24            135,266    135,266     10,000      0,000    604,122    786,244      0,000      0,000      0,000      1,000\r\n",
      "25            135,346    135,346     10,000      0,000    605,420    787,611      0,000      0,000      0,000      1,000\r\n",
      "26            135,424    135,424     10,000      0,000    606,641    788,909      0,000      0,000      0,000      1,000\r\n",
      "27            135,499    135,499     10,000      0,000    607,781    790,130      0,000      0,000      0,000      1,000\r\n",
      "28            135,569    135,569     10,000      0,000    608,837    791,270      0,000      0,000      0,000      1,000\r\n",
      "29            135,635    135,635     10,000      0,000    609,807    792,326      0,000      0,000      0,000      1,000\r\n",
      "30            135,696    135,696     10,000      0,000    610,691    793,296      0,000      0,000      0,000      1,000\r\n",
      "31            135,753    135,753     10,000      0,000    611,492    794,180      0,000      0,000      0,000      1,000\r\n",
      "32            135,804    135,804     10,000      0,000    612,214    794,981      0,000      0,000      0,000      1,000\r\n",
      "33            135,851    135,851     10,000      0,000    612,859    795,703      0,000      0,000      0,000      1,000\r\n",
      "34            135,893    135,893     10,000      0,000    613,433    796,348      0,000      0,000      0,000      1,000\r\n",
      "35            135,931    135,931     10,000      0,000    613,942    796,922      0,000      0,000      0,000      1,000\r\n",
      "36            135,964    135,964     10,000      0,000    614,391    797,431      0,000      0,000      0,000      1,000\r\n",
      "37            135,994    135,994     10,000      0,000    614,785    797,880      0,000      0,000      0,000      1,000\r\n",
      "38            136,020    136,020     10,000      0,000    615,130    798,274      0,000      0,000      0,000      1,000\r\n",
      "39            136,042    136,042     10,000      0,000    615,431    798,619      0,000      0,000      0,000      1,000\r\n",
      "40            136,062    136,062     10,000      0,000    615,694    798,920      0,000      0,000      0,000      1,000\r\n",
      "41            136,080    136,080     10,000      0,000   1287,101    799,183    453,489      0,000      0,000      1,000\r\n",
      "42            136,098    136,098     10,000      0,000   1287,587   1017,101      0,000      0,000      0,000      1,000\r\n",
      "43            136,123    136,123     10,000      0,000   1288,278   1017,587      0,000      0,000      0,000      1,000\r\n",
      "44            136,159    136,159     10,000      0,000   1289,256   1018,278      0,000      0,000      0,000      1,000\r\n",
      "45            136,211    136,211     10,000      0,000   1290,635   1019,256      0,000      0,000      0,000      1,000\r\n",
      "46            136,285    136,285     10,000      0,000   1292,566   1020,635      0,000      0,000      0,000      1,000\r\n",
      "47            136,389    136,389     10,000      0,000   1295,248   1022,566      0,000      0,000      0,000      1,000\r\n",
      "48            136,535    136,535     10,000      0,000   1298,926   1025,248      0,000      0,000      0,000      1,000\r\n",
      "49            136,738    136,738     10,000      0,000   1303,886   1028,926      0,000      0,000      0,000      1,000\r\n",
      "50            137,017    137,017     10,000      0,000   1310,421   1033,886      0,000      0,000      0,000      1,000\r\n",
      "51            137,390    137,390     10,000      0,000   1318,765   1040,421      0,000      0,000      0,000      1,000\r\n",
      "52            137,870    137,870     10,000      0,000   1328,990   1048,765      0,000      0,000      0,000      1,000\r\n",
      "53            138,460    138,460     10,000      0,000   1340,886   1058,990      0,000      0,000      0,000      1,000\r\n",
      "54            139,135    139,135     10,000      0,000   1353,880   1070,886      0,000      0,000      0,000      1,000\r\n",
      "55            139,851    139,851     10,000      0,000   1367,088   1083,880      0,000      0,000      0,000      1,000\r\n",
      "56            140,546    140,546     10,000      0,000   1379,519   1097,088      0,000      0,000      0,000      1,000\r\n",
      "57            141,166    141,166     10,000      0,000   1390,360   1109,519      0,000      0,000      0,000      1,000\r\n",
      "58            141,678    141,678     10,000      0,000   1399,179   1120,360      0,000      0,000      0,000      1,000\r\n",
      "59            142,075    142,075     10,000      0,000   1405,943   1129,179      0,000      0,000      0,000      1,000\r\n",
      "60            142,367    142,367     10,000      0,000   1410,896   1135,943      0,000      0,000      0,000      1,000\r\n",
      "61            142,574    142,574     10,000      0,000   1414,400   1140,896   1144,400      0,000      0,000      1,000\r\n",
      "\n"
     ]
    }
   ],
   "source": [
    "reporter.Report(C2,True)\n",
    "print(logger.Flush())"
   ]
  },
  {
   "cell_type": "code",
   "execution_count": null,
   "metadata": {},
   "outputs": [],
   "source": []
  }
 ],
 "metadata": {
  "kernelspec": {
   "display_name": "Python 3",
   "language": "python",
   "name": "python3"
  },
  "language_info": {
   "codemirror_mode": {
    "name": "ipython",
    "version": 3
   },
   "file_extension": ".py",
   "mimetype": "text/x-python",
   "name": "python",
   "nbconvert_exporter": "python",
   "pygments_lexer": "ipython3",
   "version": "3.7.6"
  },
  "toc": {
   "base_numbering": 1,
   "nav_menu": {},
   "number_sections": true,
   "sideBar": true,
   "skip_h1_title": false,
   "title_cell": "Table of Contents",
   "title_sidebar": "Contents",
   "toc_cell": false,
   "toc_position": {},
   "toc_section_display": true,
   "toc_window_display": false
  },
  "varInspector": {
   "cols": {
    "lenName": 16,
    "lenType": 16,
    "lenVar": 40
   },
   "kernels_config": {
    "python": {
     "delete_cmd_postfix": "",
     "delete_cmd_prefix": "del ",
     "library": "var_list.py",
     "varRefreshCmd": "print(var_dic_list())"
    },
    "r": {
     "delete_cmd_postfix": ") ",
     "delete_cmd_prefix": "rm(",
     "library": "var_list.r",
     "varRefreshCmd": "cat(var_dic_list()) "
    }
   },
   "types_to_exclude": [
    "module",
    "function",
    "builtin_function_or_method",
    "instance",
    "_Feature"
   ],
   "window_display": false
  }
 },
 "nbformat": 4,
 "nbformat_minor": 2
}
