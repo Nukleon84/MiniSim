{
 "cells": [
  {
   "cell_type": "markdown",
   "metadata": {},
   "source": [
    "# Introduction\n",
    "<div style=\"width:100%;height:6px;background-color:Black;\"></div>"
   ]
  },
  {
   "cell_type": "markdown",
   "metadata": {},
   "source": [
    "Extractive distillation of MethylCyloHexane/Toluene using Phenol adapted from [Tiverios and Van Brunt in Ind.Eng.Chem.Res. (2000) 39, pp. 1614-1623](http://pubs.acs.org/doi/pdf/10.1021/ie990654k)\n",
    "\n",
    "[Link to flowsheet on ChemSep homepage](http://www.chemsep.org/downloads/data/CScasebook_MCHT.png)"
   ]
  },
  {
   "cell_type": "markdown",
   "metadata": {},
   "source": [
    "# .NET Initialization\n",
    "<div style=\"width:100%;height:6px;background-color:Black;\"></div>"
   ]
  },
  {
   "cell_type": "code",
   "execution_count": 1,
   "metadata": {},
   "outputs": [],
   "source": [
    "import clr\n",
    "clr.AddReference(r\"..\\bin\\MiniSim.Core\")\n",
    "\n",
    "import MiniSim.Core.Expressions as expr\n",
    "from  MiniSim.Core.Flowsheeting import MaterialStream, Flowsheet\n",
    "import MiniSim.Core.Numerics as num\n",
    "from MiniSim.Core.UnitsOfMeasure import Unit, SI, METRIC, PhysicalDimension\n",
    "from MiniSim.Core.ModelLibrary import Flash, Heater, Mixer, Splitter, EquilibriumStageSection\n",
    "import MiniSim.Core.PropertyDatabase as chemsep\n",
    "from MiniSim.Core.Reporting import Generator, StringBuilderLogger\n",
    "from MiniSim.Core.Thermodynamics import ThermodynamicSystem"
   ]
  },
  {
   "cell_type": "code",
   "execution_count": 2,
   "metadata": {},
   "outputs": [],
   "source": [
    "%matplotlib inline"
   ]
  },
  {
   "cell_type": "code",
   "execution_count": 3,
   "metadata": {},
   "outputs": [],
   "source": [
    "import numpy as np\n",
    "import pandas as pd\n",
    "import matplotlib.pyplot as plt\n",
    "\n",
    "plt.rcParams[\"figure.figsize\"] = (16,8)\n",
    "plt.rcParams['grid.color'] = 'k'"
   ]
  },
  {
   "cell_type": "markdown",
   "metadata": {},
   "source": [
    "# General Objects Instantiation\n",
    "<div style=\"width:100%;height:6px;background-color:Black;\"></div>"
   ]
  },
  {
   "cell_type": "code",
   "execution_count": 4,
   "metadata": {},
   "outputs": [],
   "source": [
    "Database = chemsep.ChemSepAdapter()\n",
    "logger = StringBuilderLogger();\n",
    "reporter = Generator(logger)"
   ]
  },
  {
   "cell_type": "code",
   "execution_count": 5,
   "metadata": {},
   "outputs": [],
   "source": [
    "def calc(flowsheet, relax, maxIter):\n",
    "    presolver=  num.BasicNewtonSolver(logger)\n",
    "    presolver.MaximumIterations=maxIter\n",
    "    presolver.BrakeFactor=relax\n",
    "    presolver.Solve(flowsheet)\n",
    "    print (logger.Flush())\n",
    "    \n",
    "def decomp(flowsheet):\n",
    "    solver= num.DecompositionSolver(logger)\n",
    "    solver.Solve(flowsheet)\n",
    "    print (logger.Flush())\n",
    "    \n",
    "def thermoAnalysis(psys):\n",
    "    numComps=len(sys.Components)\n",
    "    names=sys.GetComponentIds()\n",
    "\n",
    "    numSteps=20    \n",
    "    mixture= MaterialStream(\"Mix\", sys)\n",
    "    mixture.Specify(\"VF\",0.0)\n",
    "    mixture.Specify(\"P\",psys, METRIC.mbar)\n",
    "    for c in names:\n",
    "        mixture.Specify(\"n[\"+c+\"]\",1.0)\n",
    "    mixture.InitializeFromMolarFlows()\n",
    "    mixture.FlashPZ()\n",
    "\n",
    "    test= Flowsheet(\"test\")\n",
    "    test.AddMaterialStream(mixture)\n",
    "\n",
    "    solver= num.DecompositionSolver(logger)\n",
    "    result=solver.Solve(test)\n",
    "\n",
    "    fig,axs=plt.subplots(numComps,numComps,figsize=(8,8))\n",
    "    for i in range(numComps):\n",
    "        for j in range(numComps):       \n",
    "            if j!=i:\n",
    "                xvec=[]\n",
    "                yvec=[]\n",
    "                for c in range(numSteps):\n",
    "                    for k in range(numComps):                    \n",
    "                        mixture.Specify(\"n[\"+names[k]+\"]\",0.0)\n",
    "                    mixture.Specify(\"n[\"+names[i]+\"]\",c/(numSteps-1))\n",
    "                    mixture.Specify(\"n[\"+names[j]+\"]\",1.0-c/(numSteps-1))\n",
    "                    mixture.InitializeFromMolarFlows()\n",
    "                    mixture.FlashPZ()\n",
    "                    solver.Solve(test)                               \n",
    "                    xvec.append(mixture.GetVariable('xL['+names[j]+']').Val())               \n",
    "                    yvec.append(mixture.GetVariable('xV['+names[j]+']').Val())               \n",
    "                axs[i,j].plot(xvec, yvec)\n",
    "                axs[i,j].plot(xvec, xvec)              \n",
    "                axs[i,j].set_title(names[j] +' in '+names[i])\n",
    "                axs[i,j].set_xlabel('$x_{'+names[j]+'}$')       \n",
    "                axs[i,j].set_ylabel('$y_{'+names[j]+'}$')\n",
    "                axs[i, j].set_aspect('equal', 'box')\n",
    "            else:\n",
    "                axs[i, j].axis('off')        \n",
    "\n",
    "    plt.tight_layout()\n",
    "    logger.Flush()\n",
    "    plt.suptitle('(x,y)-Diagram at '+str(round(psys,2))+' mbar', y=1.05);    "
   ]
  },
  {
   "cell_type": "markdown",
   "metadata": {},
   "source": [
    "# Set up Thermodynamics\n",
    "<div style=\"width:100%;height:6px;background-color:Black;\"></div>"
   ]
  },
  {
   "cell_type": "code",
   "execution_count": 6,
   "metadata": {},
   "outputs": [],
   "source": [
    "sys= ThermodynamicSystem(\"Test2\",\"NRTL\", \"default\")\n",
    "\n",
    "sys.AddComponent(Database.FindComponent(\"Methylcyclohexane\").RenameID(\"MCH\"))\n",
    "sys.AddComponent(Database.FindComponent(\"Toluene\").RenameID(\"TOLUOL\"))\n",
    "sys.AddComponent(Database.FindComponent(\"Phenol\").RenameID(\"PHENOL\"))\n",
    "Database.FillBIPs(sys)\n",
    "NRTL = sys.GetBinaryParameters(\"NRTL\")\n",
    "NRTL.SetParam(\"B\",sys.Components[0], sys.Components[1],-43.2404 )\n",
    "NRTL.SetParam(\"B\",sys.Components[1], sys.Components[0],134.062 )\n",
    "NRTL.SetParamSymmetric(\"C\",sys.Components[0], sys.Components[1],0.3 )\n",
    "\n",
    "kmolh=Unit.Make([SI.kmol],[SI.h])\n",
    "tonh=Unit.Make([METRIC.ton],[SI.h])\n",
    "\n",
    "sys.VariableFactory.SetOutputDimension(PhysicalDimension.HeatFlow, SI.MW)\n",
    "sys.VariableFactory.SetOutputDimension(PhysicalDimension.Pressure, METRIC.bar)\n",
    "sys.VariableFactory.SetOutputDimension(PhysicalDimension.MassFlow, tonh)"
   ]
  },
  {
   "cell_type": "code",
   "execution_count": 7,
   "metadata": {},
   "outputs": [
    {
     "data": {
      "image/png": "[encoded data removed]",
      "text/plain": [
       "<Figure size 576x576 with 9 Axes>"
      ]
     },
     "metadata": {
      "needs_background": "light"
     },
     "output_type": "display_data"
    }
   ],
   "source": [
    "thermoAnalysis(1000)"
   ]
  },
  {
   "cell_type": "markdown",
   "metadata": {},
   "source": [
    "# Azeotropic column\n",
    "<div style=\"width:100%;height:6px;background-color:Black;\"></div>"
   ]
  },
  {
   "cell_type": "code",
   "execution_count": 8,
   "metadata": {},
   "outputs": [],
   "source": [
    "Feed = (MaterialStream(\"Feed\", sys)\n",
    "        .Specify(\"T\",25, METRIC.C)\n",
    "        .Specify(\"P\",1, METRIC.bar)\n",
    "        .Specify(\"n[MCH]\",90, kmolh)\n",
    "        .Specify(\"n[TOLUOL]\", 90, kmolh)\n",
    "        .Specify(\"n[PHENOL]\", 0, kmolh)\n",
    "        .InitializeFromMolarFlows()\n",
    "        .FlashPT())\n",
    "\n",
    "Recycle = (MaterialStream(\"Recycle\", sys)\n",
    "        .Specify(\"T\",151, METRIC.C)\n",
    "        .Specify(\"P\",1, METRIC.bar)\n",
    "        .Specify(\"n[MCH]\",0, kmolh)\n",
    "        .Specify(\"n[TOLUOL]\", 0.1, kmolh)\n",
    "        .Specify(\"n[PHENOL]\", 250, kmolh)\n",
    "        .InitializeFromMolarFlows()\n",
    "        .FlashPT())\n",
    "\n",
    "S01 = MaterialStream(\"S01\", sys)\n",
    "S02 = MaterialStream(\"S02\", sys)\n",
    "S03 = (MaterialStream(\"S03\", sys)\n",
    "        .Init(\"T\", 101, METRIC.C)\n",
    "        .Init(\"P\", 1, METRIC.bar)\n",
    "        .Init(\"n[MCH]\",719, kmolh)\n",
    "        .Init(\"n[TOLUOL]\", 6, kmolh)\n",
    "        .Init(\"n[PHENOL]\", 0.1, kmolh)\n",
    "        .InitializeFromMolarFlows()\n",
    "        .FlashPT())\n",
    "\n",
    "S04 = MaterialStream(\"S04\", sys)\n",
    "S05 = (MaterialStream(\"S05\", sys)\n",
    "        .Init(\"T\", 150, METRIC.C)\n",
    "        .Init(\"P\", 1, METRIC.bar)\n",
    "        .Init(\"n[MCH]\",0, kmolh)\n",
    "        .Init(\"n[TOLUOL]\", 450, kmolh)\n",
    "        .Init(\"n[PHENOL]\", 179, kmolh)\n",
    "        .InitializeFromMolarFlows()\n",
    "        .FlashPT())\n",
    "\n",
    "MCH = MaterialStream(\"MCH\", sys)\n",
    "B1 = MaterialStream(\"B1\", sys)\n",
    "\n",
    "C1 = (EquilibriumStageSection(\"C1\",sys,39)\n",
    "        .Connect(\"VIn\", S05)\n",
    "        .Connect(\"LIn\", S03)\n",
    "        .Connect(\"VOut\", S01)\n",
    "        .Connect(\"LOut\", S04)\n",
    "        .ConnectFeed(Feed,25)\n",
    "        .ConnectFeed(Recycle,10)\n",
    "        .MakeAdiabatic()\n",
    "        .MakeIsobaric()\n",
    "        .FixStageEfficiency(1.0)\n",
    "        .Initialize(4.7,0.7,logger))\n",
    "\n",
    "REB1 = (Flash(\"REB1\",sys)\n",
    "        .Connect(\"In\", S04)\n",
    "        .Connect(\"Vap\", S05)\n",
    "        .Connect(\"Liq\", B1)\n",
    "        .Specify(\"P\", 1, METRIC.bar)\n",
    "        .Specify(\"VF\",0.65)\n",
    "        .Initialize())\n",
    "\n",
    "COND1 = (Heater(\"COND1\",sys)\n",
    "        .Connect(\"In\", S01)\n",
    "        .Connect(\"Out\", S02)\n",
    "        .Specify(\"P\",1, METRIC.bar)\n",
    "        .Specify(\"VF\",0)\\\n",
    "        .Initialize())\n",
    "\n",
    "RefluxRatio1=4.7\n",
    "REFSPL1 = (Splitter(\"REFSPL1\",sys)\\\n",
    "        .Connect(\"In\", S02)\\\n",
    "        .Connect(\"Out1\", MCH)\\\n",
    "        .Connect(\"Out2\", S03)\\\n",
    "        .Specify(\"DP\",0, METRIC.bar)\\\n",
    "        .Specify(\"K\",1-RefluxRatio1/(1.0+RefluxRatio1))\\\n",
    "        .Initialize())\n",
    "\n",
    "flowsheet= (Flowsheet(\"Flow\")\n",
    "        .AddMaterialStreams(Feed, Recycle, S01,S02,S03,B1,S04,S05, MCH)\n",
    "        .AddUnits(C1, REB1, COND1, REFSPL1))"
   ]
  },
  {
   "cell_type": "code",
   "execution_count": 9,
   "metadata": {},
   "outputs": [
    {
     "name": "stdout",
     "output_type": "stream",
     "text": [
      "Decomposition Result: V=117, E=117, Blocks=1, Singletons=0\r\n",
      "Block Statistics:\r\n",
      "   # Var # Blocks % Blocks\r\n",
      "     117        1 100,00 %\r\n",
      "Problem Column Init was successfully solved (0,04 seconds)\r\n",
      "Decomposition Result: V=768, E=768, Blocks=148, Singletons=136\r\n",
      "Block Statistics:\r\n",
      "   # Var # Blocks % Blocks\r\n",
      "       1      136  91,89 %\r\n",
      "       4        4   2,70 %\r\n",
      "       7        4   2,70 %\r\n",
      "       8        3   2,03 %\r\n",
      "     564        1   0,68 %\r\n",
      "Problem NLAES was successfully solved (1,45 seconds)\r\n",
      "\n"
     ]
    }
   ],
   "source": [
    "decomp(flowsheet)"
   ]
  },
  {
   "cell_type": "code",
   "execution_count": 10,
   "metadata": {},
   "outputs": [
    {
     "name": "stdout",
     "output_type": "stream",
     "text": [
      "\r\n",
      "Report for flowsheet Flow\r\n",
      "================================================\r\n",
      "\r\n",
      "Material Streams\r\n",
      "\r\n",
      "System                    Test2      \r\n",
      "\r\n",
      "Property                  Unit               Feed      Recycle          S01          S02          S03\r\n",
      "\r\n",
      "Temperature               °C              25.0000     151.0000     101.6468     101.4339     101.4339\r\n",
      "Pressure                  bar              1.0000       1.0000       1.0000       1.0000       1.0000\r\n",
      "Vapor Fraction            mol/mol          0.0000       0.0000       1.0000       0.0000       0.0000\r\n",
      "Specific Enthalpy         kJ/kmol     -36880.0451  -32748.4198   11111.8634  -20705.0403  -20705.0403\r\n",
      "Phase                                      Liquid       Liquid        Vapor  BubblePoint       Liquid\r\n",
      "\r\n",
      "Total Molar Flow          kmol/h         180.0000     250.1000     690.8486     690.8486     569.6471\r\n",
      "                      MCH kmol/h          90.0000       0.0000     512.9497     512.9497     422.9586\r\n",
      "                   TOLUOL kmol/h          90.0000       0.1000     177.8989     177.8989     146.6886\r\n",
      "                   PHENOL kmol/h           0.0000     250.0000       0.0000       0.0000       0.0000\r\n",
      "Molar Composition                    \r\n",
      "                      MCH mol/mol          0.5000       0.0000       0.7425       0.7425       0.7425\r\n",
      "                   TOLUOL mol/mol          0.5000       0.0004       0.2575       0.2575       0.2575\r\n",
      "                   PHENOL mol/mol          0.0000       0.9996       0.0000       0.0000       0.0000\r\n",
      "\r\n",
      "Total Mass Flow           t/h             17.1292      23.5370      66.7558      66.7558      55.0443\r\n",
      "                      MCH t/h              8.8367       0.0000      50.3645      50.3645      41.5286\r\n",
      "                   TOLUOL t/h              8.2925       0.0092      16.3913      16.3913      13.5157\r\n",
      "                   PHENOL t/h              0.0000      23.5278       0.0000       0.0000       0.0000\r\n",
      "Mass Composition                     \r\n",
      "                      MCH kg/kg            0.5159       0.0000       0.7545       0.7545       0.7545\r\n",
      "                   TOLUOL kg/kg            0.4841       0.0004       0.2455       0.2455       0.2455\r\n",
      "                   PHENOL kg/kg            0.0000       0.9996       0.0000       0.0000       0.0000\r\n",
      "\r\n",
      "\r\n",
      "Property                  Unit                 B1          S04          S05          MCH\r\n",
      "\r\n",
      "Temperature               °C             156.0793     133.3277     156.0793     101.4339\r\n",
      "Pressure                  bar              1.0000       1.0000       1.0000       1.0000\r\n",
      "Vapor Fraction            mol/mol          0.0000       0.0000       1.0000       0.0000\r\n",
      "Specific Enthalpy         kJ/kmol     -28146.6739  -28123.6147   16523.4638  -20705.0403\r\n",
      "Phase                                      Liquid  LiquidVapor  LiquidVapor       Liquid\r\n",
      "\r\n",
      "Total Molar Flow          kmol/h         308.8985     882.5671     573.6686     121.2015\r\n",
      "                      MCH kmol/h           0.0088       0.1267       0.1179      89.9912\r\n",
      "                   TOLUOL kmol/h          58.8897     416.0102     357.1205      31.2103\r\n",
      "                   PHENOL kmol/h         250.0000     466.4303     216.4303       0.0000\r\n",
      "Molar Composition                    \r\n",
      "                      MCH mol/mol          0.0000       0.0001       0.0002       0.7425\r\n",
      "                   TOLUOL mol/mol          0.1906       0.4714       0.6225       0.2575\r\n",
      "                   PHENOL mol/mol          0.8093       0.5285       0.3773       0.0000\r\n",
      "\r\n",
      "Total Mass Flow           t/h             28.9547      82.2393      53.2846      11.7116\r\n",
      "                      MCH t/h              0.0009       0.0124       0.0116       8.8359\r\n",
      "                   TOLUOL t/h              5.4260      38.3305      32.9045       2.8757\r\n",
      "                   PHENOL t/h             23.5278      43.8963      20.3685       0.0000\r\n",
      "Mass Composition                     \r\n",
      "                      MCH kg/kg            0.0000       0.0002       0.0002       0.7545\r\n",
      "                   TOLUOL kg/kg            0.1874       0.4661       0.6175       0.2455\r\n",
      "                   PHENOL kg/kg            0.8126       0.5338       0.3823       0.0000\r\n",
      "\r\n",
      "\r\n",
      "\r\n",
      "Design Specifications\r\n",
      "\r\n",
      "Name            Model                          Class           Group                       Residual Equation\r\n",
      "\r\n",
      "\n"
     ]
    }
   ],
   "source": [
    "reporter.Report(flowsheet,5,False)\n",
    "print(logger.Flush())"
   ]
  },
  {
   "cell_type": "markdown",
   "metadata": {},
   "source": [
    "# Stripping column\n",
    "<div style=\"width:100%;height:6px;background-color:Black;\"></div>"
   ]
  },
  {
   "cell_type": "code",
   "execution_count": 11,
   "metadata": {},
   "outputs": [],
   "source": [
    "S06 = MaterialStream(\"S06\", sys)\n",
    "S07 = MaterialStream(\"S07\", sys)\n",
    "S08 = (MaterialStream(\"S08\", sys)\n",
    "        .Init(\"T\", 110, METRIC.C)\n",
    "        .Init(\"P\", 1, METRIC.bar)\n",
    "        .Init(\"n[MCH]\",1, kmolh)\n",
    "        .Init(\"n[TOLUOL]\", 400, kmolh)\n",
    "        .Init(\"n[PHENOL]\", 10, kmolh)\n",
    "        .InitializeFromMolarFlows()\n",
    "        .FlashPT())\n",
    "\n",
    "S09 = MaterialStream(\"S09\", sys)\n",
    "\n",
    "S10 = (MaterialStream(\"S10\", sys)\n",
    "        .Init(\"T\", 180, METRIC.C)\n",
    "        .Init(\"P\", 1, METRIC.bar)\n",
    "        .Init(\"n[MCH]\",1, kmolh)\n",
    "        .Init(\"n[TOLUOL]\", 1, kmolh)\n",
    "        .Init(\"n[PHENOL]\", 300, kmolh)\n",
    "        .InitializeFromMolarFlows()\n",
    "        .FlashPT())\n",
    "\n",
    "Toluol = MaterialStream(\"Toluol\", sys)\n",
    "B2 = MaterialStream(\"B2\", sys)\n",
    "\n",
    "C2 = (EquilibriumStageSection(\"C2\",sys,19)\n",
    "        .Connect(\"VIn\", S10)\n",
    "        .Connect(\"LIn\", S08)\n",
    "        .Connect(\"VOut\", S06)\n",
    "        .Connect(\"LOut\", S09)\n",
    "        .ConnectFeed(B1,12)\n",
    "        .MakeAdiabatic()\n",
    "        .MakeIsobaric()\n",
    "        .FixStageEfficiency(1.0)\n",
    "        .Initialize(2.9,0.2,logger))\n",
    "\n",
    "REB2 = (Flash(\"REB2\",sys)\n",
    "        .Connect(\"In\", S09)\n",
    "        .Connect(\"Vap\", S10)\n",
    "        .Connect(\"Liq\", B2)\n",
    "        .Specify(\"P\",1, METRIC.bar)\n",
    "        .Specify(\"VF\",0.4)\n",
    "        .Initialize())\n",
    "\n",
    "COND2 = (Heater(\"COND2\",sys)\n",
    "    .Connect(\"In\", S06)\n",
    "    .Connect(\"Out\", S07)\n",
    "    .Specify(\"P\",1, METRIC.bar)\n",
    "    .Specify(\"VF\",0)\n",
    "    .Initialize())\n",
    "\n",
    "RefluxRatio2=2.9\n",
    "REFSPL2 = (Splitter(\"REFSPL2\",sys)\n",
    "    .Connect(\"In\", S07)\n",
    "    .Connect(\"Out1\", Toluol)\n",
    "    .Connect(\"Out2\", S08)\n",
    "    .Specify(\"DP\",0, METRIC.bar)\n",
    "    .Specify(\"K\",0.47)\n",
    "    .Initialize())\n",
    "\n",
    "C2.Initialize(1.9,0.2,logger)\n",
    "REB2.Solve()\n",
    "COND2.Solve()\n",
    "REFSPL2.Solve()\n",
    "logger.Flush()\n",
    "\n",
    "flowsheet.AddMaterialStreams(S06,S07,S08,B2,S09,S10,Toluol).AddUnits(C2, REB2, COND2, REFSPL2);"
   ]
  },
  {
   "cell_type": "code",
   "execution_count": 12,
   "metadata": {},
   "outputs": [
    {
     "name": "stdout",
     "output_type": "stream",
     "text": [
      "Decomposition Result: V=1213, E=1213, Blocks=251, Singletons=231\r\n",
      "Block Statistics:\r\n",
      "   # Var # Blocks % Blocks\r\n",
      "       1      231  92,03 %\r\n",
      "       4        6   2,39 %\r\n",
      "       7        6   2,39 %\r\n",
      "       8        6   2,39 %\r\n",
      "     304        1   0,40 %\r\n",
      "     564        1   0,40 %\r\n",
      "Problem NLAES was successfully solved (0,24 seconds)\r\n",
      "\n"
     ]
    }
   ],
   "source": [
    "decomp(flowsheet)"
   ]
  },
  {
   "cell_type": "markdown",
   "metadata": {},
   "source": [
    "# Reach Design Specifications: Purities\n",
    "<div style=\"width:100%;height:6px;background-color:Black;\"></div>"
   ]
  },
  {
   "cell_type": "code",
   "execution_count": 13,
   "metadata": {},
   "outputs": [
    {
     "name": "stdout",
     "output_type": "stream",
     "text": [
      "Decomposition Result: V=1213, E=1213, Blocks=249, Singletons=229\r\n",
      "Block Statistics:\r\n",
      "   # Var # Blocks % Blocks\r\n",
      "       1      229  91,97 %\r\n",
      "       4        6   2,41 %\r\n",
      "       7        6   2,41 %\r\n",
      "       8        6   2,41 %\r\n",
      "     304        1   0,40 %\r\n",
      "     566        1   0,40 %\r\n",
      "Problem NLAES was successfully solved (0,52 seconds)\r\n",
      "\n"
     ]
    }
   ],
   "source": [
    "REB1.Unspecify(\"VF\")\n",
    "MCH.GetVariable(\"x[MCH]\").Fix(0.99)\n",
    "\n",
    "decomp(flowsheet)"
   ]
  },
  {
   "cell_type": "code",
   "execution_count": 14,
   "metadata": {},
   "outputs": [
    {
     "name": "stdout",
     "output_type": "stream",
     "text": [
      "Decomposition Result: V=1213, E=1213, Blocks=247, Singletons=227\r\n",
      "Block Statistics:\r\n",
      "   # Var # Blocks % Blocks\r\n",
      "       1      227  91,90 %\r\n",
      "       4        6   2,43 %\r\n",
      "       7        6   2,43 %\r\n",
      "       8        6   2,43 %\r\n",
      "     306        1   0,40 %\r\n",
      "     566        1   0,40 %\r\n",
      "Problem NLAES was successfully solved (0,31 seconds)\r\n",
      "\n"
     ]
    }
   ],
   "source": [
    "REB2.Unspecify(\"VF\")\n",
    "Toluol.GetVariable(\"x[TOLUOL]\").Fix(0.99)\n",
    "\n",
    "decomp(flowsheet)"
   ]
  },
  {
   "cell_type": "markdown",
   "metadata": {},
   "source": [
    "# Close Recycle loop\n",
    "<div style=\"width:100%;height:6px;background-color:Black;\"></div>"
   ]
  },
  {
   "cell_type": "code",
   "execution_count": 15,
   "metadata": {},
   "outputs": [],
   "source": [
    "Recycle.Unfix()\n",
    "Makeup = (MaterialStream(\"Makeup\", sys)\n",
    "        .Specify(\"T\",104, METRIC.C)\n",
    "        .Specify(\"P\",1, METRIC.bar)\n",
    "        .Specify(\"n[MCH]\",0, kmolh)\n",
    "        .Specify(\"n[TOLUOL]\", 0, kmolh)\n",
    "        .Init(\"n[PHENOL]\", 0.03, kmolh)\n",
    "        .InitializeFromMolarFlows()\n",
    "        .FlashPT())\n",
    "\n",
    "MIX01 = (Mixer(\"MIX01\",sys)\n",
    "    .Connect(\"In\", B2)\n",
    "    .Connect(\"In\", Makeup)\n",
    "    .Connect(\"Out\", Recycle)\n",
    "    .Specify(\"DP\",0, METRIC.bar)\n",
    "    .Initialize())\n",
    "\n",
    "flowsheet.AddMaterialStream(Makeup).AddUnit(MIX01)\n",
    "Recycle.GetVariable(\"n\").Fix(251/3.6)"
   ]
  },
  {
   "cell_type": "code",
   "execution_count": 16,
   "metadata": {},
   "outputs": [
    {
     "name": "stdout",
     "output_type": "stream",
     "text": [
      "Iter Step Length     Infeasibility   Damping Notes\n",
      "0    0               14,6294         1       \n",
      "1    481309          11,7367         0,2     \n",
      "2    385161          9,40712         0,2     \n",
      "3    308217          7,53406         0,2     \n",
      "4    246641          6,03003         0,2     \n",
      "5    197363          4,82367         0,2     \n",
      "6    157927          3,85696         0,2     \n",
      "7    126369          3,08288         0,2     \n",
      "8    101116          2,46344         0,2     \n",
      "9    80908,3         1,968           0,2     \n",
      "10   64738,6         1,57189         0,2     \n",
      "Maximum number of iterations exceeded!\n",
      "\n",
      "Decomposition Result: V=1238, E=1238, Blocks=238, Singletons=222\n",
      "Block Statistics:\n",
      "   # Var # Blocks % Blocks\n",
      "       1      222  93,28 %\n",
      "       4        5   2,10 %\n",
      "       7        3   1,26 %\n",
      "       8        7   2,94 %\n",
      "     919        1   0,42 %\n",
      "Problem NLAES was successfully solved (0,74 seconds)\n",
      "\n"
     ]
    }
   ],
   "source": [
    "calc(flowsheet,0.2,10)\n",
    "decomp(flowsheet)"
   ]
  },
  {
   "cell_type": "markdown",
   "metadata": {},
   "source": [
    "# Print Results\n",
    "<div style=\"width:100%;height:6px;background-color:Black;\"></div>"
   ]
  },
  {
   "cell_type": "code",
   "execution_count": 17,
   "metadata": {},
   "outputs": [
    {
     "name": "stdout",
     "output_type": "stream",
     "text": [
      "\r\n",
      "Report for flowsheet Flow\r\n",
      "================================================\r\n",
      "\r\n",
      "Material Streams\r\n",
      "\r\n",
      "System                    Test2      \r\n",
      "\r\n",
      "Property                  Unit               Feed      Recycle          S01          S02          S03\r\n",
      "\r\n",
      "Temperature               °C              25.0000     180.4322     100.4252     100.4183     100.4183\r\n",
      "Pressure                  bar              1.0000       1.0000       1.0000       1.0000       1.0000\r\n",
      "Vapor Fraction            mol/mol          0.0000       0.0000       1.0000       0.0000       0.0000\r\n",
      "Specific Enthalpy         kJ/kmol     -36880.0451  -25842.8226   11590.0216  -19609.6324  -19609.6324\r\n",
      "Phase                                      Liquid       Liquid  LiquidVapor  BubblePoint       Liquid\r\n",
      "\r\n",
      "Total Molar Flow          kmol/h         180.0000     251.0000     517.6848     517.6848     426.8629\r\n",
      "                      MCH kmol/h          90.0000       0.0000     512.5079     512.5079     422.5943\r\n",
      "                   TOLUOL kmol/h          90.0000       0.2212       4.8262       4.8262       3.9795\r\n",
      "                   PHENOL kmol/h           0.0000     250.7788       0.3507       0.3507       0.2892\r\n",
      "Molar Composition                    \r\n",
      "                      MCH mol/mol          0.5000       0.0000       0.9900       0.9900       0.9900\r\n",
      "                   TOLUOL mol/mol          0.5000       0.0009       0.0093       0.0093       0.0093\r\n",
      "                   PHENOL mol/mol          0.0000       0.9991       0.0007       0.0007       0.0007\r\n",
      "\r\n",
      "Total Mass Flow           t/h             17.1292      23.6215      50.7988      50.7988      41.8867\r\n",
      "                      MCH t/h              8.8367       0.0000      50.3211      50.3211      41.4929\r\n",
      "                   TOLUOL t/h              8.2925       0.0204       0.4447       0.4447       0.3667\r\n",
      "                   PHENOL t/h              0.0000      23.6011       0.0330       0.0330       0.0272\r\n",
      "Mass Composition                     \r\n",
      "                      MCH kg/kg            0.5159       0.0000       0.9906       0.9906       0.9906\r\n",
      "                   TOLUOL kg/kg            0.4841       0.0009       0.0088       0.0088       0.0088\r\n",
      "                   PHENOL kg/kg            0.0000       0.9991       0.0006       0.0006       0.0006\r\n",
      "\r\n",
      "\r\n",
      "Property                  Unit                 B1          S04          S05          MCH          S06\r\n",
      "\r\n",
      "Temperature               °C             149.0043     130.3620     149.0043     100.4183     113.4791\r\n",
      "Pressure                  bar              1.0000       1.0000       1.0000       1.0000       1.0000\r\n",
      "Vapor Fraction            mol/mol          0.0000       0.0000       1.0000       0.0000       1.0000\r\n",
      "Specific Enthalpy         kJ/kmol     -28449.9546  -27862.6340   15548.4663  -19609.6324   10633.1004\r\n",
      "Phase                                      Liquid  LiquidVapor  LiquidVapor       Liquid  LiquidVapor\r\n",
      "\r\n",
      "Total Molar Flow          kmol/h         340.1781     755.2171     415.0390      90.8219     191.6039\r\n",
      "                      MCH kmol/h           0.0863       0.7063       0.6200      89.9137       0.1837\r\n",
      "                   TOLUOL kmol/h          89.3745     392.1285     302.7540       0.8467     189.6879\r\n",
      "                   PHENOL kmol/h         250.7173     362.3823     111.6650       0.0615       1.7324\r\n",
      "Molar Composition                    \r\n",
      "                      MCH mol/mol          0.0003       0.0009       0.0015       0.9900       0.0010\r\n",
      "                   TOLUOL mol/mol          0.2627       0.5192       0.7295       0.0093       0.9900\r\n",
      "                   PHENOL mol/mol          0.7370       0.4798       0.2690       0.0007       0.0090\r\n",
      "\r\n",
      "Total Mass Flow           t/h             31.8386      70.3037      38.4651       8.9121      17.6586\r\n",
      "                      MCH t/h              0.0085       0.0694       0.0609       8.8283       0.0180\r\n",
      "                   TOLUOL t/h              8.2348      36.1301      27.8953       0.0780      17.4775\r\n",
      "                   PHENOL t/h             23.5953      34.1042      10.5089       0.0058       0.1630\r\n",
      "Mass Composition                     \r\n",
      "                      MCH kg/kg            0.0003       0.0010       0.0016       0.9906       0.0010\r\n",
      "                   TOLUOL kg/kg            0.2586       0.5139       0.7252       0.0088       0.9897\r\n",
      "                   PHENOL kg/kg            0.7411       0.4851       0.2732       0.0006       0.0092\r\n",
      "\r\n",
      "\r\n",
      "Property                  Unit                S07          S08           B2          S09          S10\r\n",
      "\r\n",
      "Temperature               °C             110.2067     110.2067     180.6895     180.4380     180.6895\r\n",
      "Pressure                  bar              1.0000       1.0000       1.0000       1.0000       1.0000\r\n",
      "Vapor Fraction            mol/mol          0.0000       0.0000       0.0000       0.0000       1.0000\r\n",
      "Specific Enthalpy         kJ/kmol     -23213.6798  -23213.6798  -25781.6078  -25813.1582   19789.4409\r\n",
      "Phase                                 BubblePoint  LiquidVapor  LiquidVapor  LiquidVapor        Vapor\r\n",
      "\r\n",
      "Total Molar Flow          kmol/h         191.6039     101.5501     250.1243     417.1378     167.0135\r\n",
      "                      MCH kmol/h           0.1837       0.0973       0.0000       0.0000       0.0000\r\n",
      "                   TOLUOL kmol/h         189.6879     100.5346       0.2212       1.0305       0.8093\r\n",
      "                   PHENOL kmol/h           1.7324       0.9182     249.9031     416.1072     166.2042\r\n",
      "Molar Composition                    \r\n",
      "                      MCH mol/mol          0.0010       0.0010       0.0000       0.0000       0.0000\r\n",
      "                   TOLUOL mol/mol          0.9900       0.9900       0.0009       0.0025       0.0048\r\n",
      "                   PHENOL mol/mol          0.0090       0.0090       0.9991       0.9975       0.9952\r\n",
      "\r\n",
      "Total Mass Flow           t/h             17.6586       9.3591      23.5391      39.2553      15.7163\r\n",
      "                      MCH t/h              0.0180       0.0096       0.0000       0.0000       0.0000\r\n",
      "                   TOLUOL t/h             17.4775       9.2631       0.0204       0.0950       0.0746\r\n",
      "                   PHENOL t/h              0.1630       0.0864      23.5187      39.1604      15.6417\r\n",
      "Mass Composition                     \r\n",
      "                      MCH kg/kg            0.0010       0.0010       0.0000       0.0000       0.0000\r\n",
      "                   TOLUOL kg/kg            0.9897       0.9897       0.0009       0.0024       0.0047\r\n",
      "                   PHENOL kg/kg            0.0092       0.0092       0.9991       0.9976       0.9953\r\n",
      "\r\n",
      "\r\n",
      "Property                  Unit             Toluol       Makeup\r\n",
      "\r\n",
      "Temperature               °C             110.2067     104.0000\r\n",
      "Pressure                  bar              1.0000       1.0000\r\n",
      "Vapor Fraction            mol/mol          0.0000       0.0000\r\n",
      "Specific Enthalpy         kJ/kmol     -23213.6798  -43326.7664\r\n",
      "Phase                                 LiquidVapor       Liquid\r\n",
      "\r\n",
      "Total Molar Flow          kmol/h          90.0538       0.8757\r\n",
      "                      MCH kmol/h           0.0863       0.0000\r\n",
      "                   TOLUOL kmol/h          89.1533       0.0000\r\n",
      "                   PHENOL kmol/h           0.8142       0.8757\r\n",
      "Molar Composition                    \r\n",
      "                      MCH mol/mol          0.0010       0.0000\r\n",
      "                   TOLUOL mol/mol          0.9900       0.0000\r\n",
      "                   PHENOL mol/mol          0.0090       1.0000\r\n",
      "\r\n",
      "Total Mass Flow           t/h              8.2995       0.0824\r\n",
      "                      MCH t/h              0.0085       0.0000\r\n",
      "                   TOLUOL t/h              8.2144       0.0000\r\n",
      "                   PHENOL t/h              0.0766       0.0824\r\n",
      "Mass Composition                     \r\n",
      "                      MCH kg/kg            0.0010       0.0000\r\n",
      "                   TOLUOL kg/kg            0.9897       0.0000\r\n",
      "                   PHENOL kg/kg            0.0092       1.0000\r\n",
      "\r\n",
      "\r\n",
      "\r\n",
      "Design Specifications\r\n",
      "\r\n",
      "Name            Model                          Class           Group                       Residual Equation\r\n",
      "\r\n",
      "\n"
     ]
    }
   ],
   "source": [
    "reporter.Report(flowsheet,5,False)\n",
    "print(logger.Flush())"
   ]
  },
  {
   "cell_type": "markdown",
   "metadata": {},
   "source": [
    "# Column Profiles\n",
    "## Azeotropic Column"
   ]
  },
  {
   "cell_type": "code",
   "execution_count": 18,
   "metadata": {},
   "outputs": [
    {
     "data": {
      "image/png": "[encoded data removed]",
      "text/plain": [
       "<Figure size 1152x576 with 1 Axes>"
      ]
     },
     "metadata": {
      "needs_background": "light"
     },
     "output_type": "display_data"
    }
   ],
   "source": [
    "x={}\n",
    "x[\"MCH\"]=C1.GetProfile(\"x\",\"MCH\")\n",
    "x[\"TOLUOL\"]=C1.GetProfile(\"x\",\"TOLUOL\")\n",
    "x[\"PHENOL\"]=C1.GetProfile(\"x\",\"PHENOL\")\n",
    "\n",
    "stages= range(1, C1.NumberOfTrays+1)\n",
    "df_comp= pd.DataFrame(zip(x[\"MCH\"],x[\"TOLUOL\"],x[\"PHENOL\"] ), \n",
    "                      index=stages, \n",
    "                      columns=sys.GetComponentIds())\n",
    "\n",
    "plt.plot( df_comp[\"MCH\"], stages, linestyle='-', marker='o')\n",
    "plt.plot( df_comp[\"TOLUOL\"], stages, linestyle='-', marker='o')\n",
    "plt.plot( df_comp[\"PHENOL\"], stages, linestyle='-', marker='o')\n",
    "plt.gca().invert_yaxis()\n",
    "plt.legend(sys.GetComponentIds())\n",
    "plt.xlabel(\"Molar Composition [-]\")\n",
    "plt.ylabel(\"Stage\")\n",
    "plt.title(\"Liquid Composition Profile C1\");"
   ]
  },
  {
   "cell_type": "code",
   "execution_count": 19,
   "metadata": {},
   "outputs": [
    {
     "data": {
      "image/png": "[encoded data removed]",
      "text/plain": [
       "<Figure size 1152x576 with 1 Axes>"
      ]
     },
     "metadata": {
      "needs_background": "light"
     },
     "output_type": "display_data"
    }
   ],
   "source": [
    "x={}\n",
    "x[\"MCH\"]=C2.GetProfile(\"x\",\"MCH\")\n",
    "x[\"TOLUOL\"]=C2.GetProfile(\"x\",\"TOLUOL\")\n",
    "x[\"PHENOL\"]=C2.GetProfile(\"x\",\"PHENOL\")\n",
    "\n",
    "stages= range(1, C2.NumberOfTrays+1)\n",
    "df_comp= pd.DataFrame(zip(x[\"MCH\"],x[\"TOLUOL\"],x[\"PHENOL\"] ), \n",
    "                      index=stages, \n",
    "                      columns=sys.GetComponentIds())\n",
    "\n",
    "plt.plot( df_comp[\"MCH\"], stages, linestyle='-', marker='o')\n",
    "plt.plot( df_comp[\"TOLUOL\"], stages, linestyle='-', marker='o')\n",
    "plt.plot( df_comp[\"PHENOL\"], stages, linestyle='-', marker='o')\n",
    "plt.gca().invert_yaxis()\n",
    "plt.legend(sys.GetComponentIds())\n",
    "plt.xlabel(\"Molar Composition [-]\")\n",
    "plt.ylabel(\"Stage\")\n",
    "plt.title(\"Liquid Composition Profile C2\");"
   ]
  },
  {
   "cell_type": "code",
   "execution_count": null,
   "metadata": {},
   "outputs": [],
   "source": []
  }
 ],
 "metadata": {
  "kernelspec": {
   "display_name": "Python 3",
   "language": "python",
   "name": "python3"
  },
  "language_info": {
   "codemirror_mode": {
    "name": "ipython",
    "version": 3
   },
   "file_extension": ".py",
   "mimetype": "text/x-python",
   "name": "python",
   "nbconvert_exporter": "python",
   "pygments_lexer": "ipython3",
   "version": "3.7.4"
  }
 },
 "nbformat": 4,
 "nbformat_minor": 2
}
