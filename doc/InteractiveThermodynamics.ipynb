{
 "cells": [
  {
   "cell_type": "markdown",
   "metadata": {},
   "source": [
    "# .NET Initialization\n",
    "<div style=\"width:100%;height:6px;background-color:Black;\"></div>"
   ]
  },
  {
   "cell_type": "code",
   "execution_count": 47,
   "metadata": {},
   "outputs": [],
   "source": [
    "import clr\n",
    "clr.AddReference(r\"..\\bin\\MiniSim.Core\")\n",
    "\n",
    "import MiniSim.Core.Expressions as expr\n",
    "from  MiniSim.Core.Flowsheeting import MaterialStream, Flowsheet\n",
    "import MiniSim.Core.Numerics as num\n",
    "from MiniSim.Core.UnitsOfMeasure import Unit, SI, METRIC, PhysicalDimension\n",
    "from MiniSim.Core.ModelLibrary import Flash, Heater, Mixer, Splitter, EquilibriumStageSection\n",
    "import MiniSim.Core.PropertyDatabase as chemsep\n",
    "from MiniSim.Core.Reporting import Generator, StringBuilderLogger\n",
    "from MiniSim.Core.Thermodynamics import ThermodynamicSystem\n",
    "\n",
    "from ipywidgets import interact, interactive, fixed, interact_manual,FloatSlider\n",
    "import ipywidgets as widgets\n",
    "\n",
    "import numpy as np\n",
    "import pandas as pd\n",
    "import matplotlib.pyplot as plt\n"
   ]
  },
  {
   "cell_type": "code",
   "execution_count": 48,
   "metadata": {},
   "outputs": [],
   "source": [
    "%matplotlib inline"
   ]
  },
  {
   "cell_type": "code",
   "execution_count": 49,
   "metadata": {},
   "outputs": [],
   "source": [
    "from IPython.display import set_matplotlib_formats\n",
    "set_matplotlib_formats('pdf', 'png')\n",
    "plt.rcParams['savefig.dpi'] = 75\n",
    "\n",
    "plt.rcParams['figure.autolayout'] = False\n",
    "plt.rcParams['figure.figsize'] = 10, 6\n",
    "plt.rcParams['axes.labelsize'] = 18\n",
    "plt.rcParams['axes.titlesize'] = 20\n",
    "plt.rcParams['font.size'] = 16\n",
    "plt.rcParams['lines.linewidth'] = 2.0\n",
    "plt.rcParams['lines.markersize'] = 8\n",
    "plt.rcParams['legend.fontsize'] = 14\n",
    "\n",
    "#plt.rcParams['text.usetex'] = True\n",
    "#plt.rcParams['font.family'] = \"serif\"\n",
    "#plt.rcParams['font.serif'] = \"cm\"\n",
    "plt.rcParams['grid.color'] = 'k'"
   ]
  },
  {
   "cell_type": "markdown",
   "metadata": {},
   "source": [
    "# Set up Thermodynamics\n",
    "<div style=\"width:100%;height:6px;background-color:Black;\"></div>"
   ]
  },
  {
   "cell_type": "code",
   "execution_count": 50,
   "metadata": {},
   "outputs": [],
   "source": [
    "Database = chemsep.ChemSepAdapter()\n",
    "logger = StringBuilderLogger()\n",
    "reporter = Generator(logger)\n",
    "\n",
    "sys= ThermodynamicSystem(\"Test2\",\"NRTL\", \"default\")\n",
    "sys.AddComponent(Database.FindComponent(\"Isobutene\"))\n",
    "sys.AddComponent(Database.FindComponent(\"Methanol\"))\n",
    "sys.AddComponent(Database.FindComponent(\"N-butane\"))\n",
    "sys.AddComponent(Database.FindComponent(\"Acetone\"))\n",
    "sys.AddComponent(Database.FindComponent(\"Chloroform\"))\n",
    "\n",
    "isobutene= sys.Components[0]\n",
    "methanol= sys.Components[1]\n",
    "nbutane= sys.Components[2]\n",
    "acetone= sys.Components[3]\n",
    "chloroform= sys.Components[4]\n",
    "\n",
    "Database.FillBIPs(sys)"
   ]
  },
  {
   "cell_type": "code",
   "execution_count": 51,
   "metadata": {},
   "outputs": [
    {
     "data": {
      "text/html": [
       "<div>\n",
       "<style scoped>\n",
       "    .dataframe tbody tr th:only-of-type {\n",
       "        vertical-align: middle;\n",
       "    }\n",
       "\n",
       "    .dataframe tbody tr th {\n",
       "        vertical-align: top;\n",
       "    }\n",
       "\n",
       "    .dataframe thead th {\n",
       "        text-align: right;\n",
       "    }\n",
       "</style>\n",
       "<table border=\"1\" class=\"dataframe\">\n",
       "  <thead>\n",
       "    <tr style=\"text-align: right;\">\n",
       "      <th></th>\n",
       "      <th>Name</th>\n",
       "      <th>CASNo</th>\n",
       "      <th>MolarWeight</th>\n",
       "    </tr>\n",
       "  </thead>\n",
       "  <tbody>\n",
       "    <tr>\n",
       "      <td>Isobutene</td>\n",
       "      <td>Isobutene</td>\n",
       "      <td>115-11-7</td>\n",
       "      <td>56.10632</td>\n",
       "    </tr>\n",
       "    <tr>\n",
       "      <td>Methanol</td>\n",
       "      <td>Methanol</td>\n",
       "      <td>67-56-1</td>\n",
       "      <td>32.04186</td>\n",
       "    </tr>\n",
       "    <tr>\n",
       "      <td>N-butane</td>\n",
       "      <td>N-butane</td>\n",
       "      <td>106-97-8</td>\n",
       "      <td>58.12220</td>\n",
       "    </tr>\n",
       "    <tr>\n",
       "      <td>Acetone</td>\n",
       "      <td>Acetone</td>\n",
       "      <td>67-64-1</td>\n",
       "      <td>58.07914</td>\n",
       "    </tr>\n",
       "    <tr>\n",
       "      <td>Chloroform</td>\n",
       "      <td>Chloroform</td>\n",
       "      <td>67-66-3</td>\n",
       "      <td>119.37760</td>\n",
       "    </tr>\n",
       "  </tbody>\n",
       "</table>\n",
       "</div>"
      ],
      "text/plain": [
       "                  Name     CASNo  MolarWeight\n",
       "Isobutene    Isobutene  115-11-7     56.10632\n",
       "Methanol      Methanol   67-56-1     32.04186\n",
       "N-butane      N-butane  106-97-8     58.12220\n",
       "Acetone        Acetone   67-64-1     58.07914\n",
       "Chloroform  Chloroform   67-66-3    119.37760"
      ]
     },
     "execution_count": 51,
     "metadata": {},
     "output_type": "execute_result"
    }
   ],
   "source": [
    "names=sys.GetComponentIds()\n",
    "longnames=sys.GetComponentNames()\n",
    "cas= sys.GetComponentCASNumbers()\n",
    "mw= sys.GetComponentMolarWeights()\n",
    "numComps=len(sys.Components)\n",
    "\n",
    "df_data=pd.DataFrame(zip(longnames, cas, mw), index= names, columns= [\"Name\",\"CASNo\",\"MolarWeight\"])\n",
    "df_data"
   ]
  },
  {
   "cell_type": "markdown",
   "metadata": {},
   "source": [
    "# Interactive Plots\n",
    "<div style=\"width:100%;height:6px;background-color:Black;\"></div>"
   ]
  },
  {
   "cell_type": "code",
   "execution_count": 119,
   "metadata": {},
   "outputs": [],
   "source": [
    "solver= num.DecompositionSolver(logger)\n",
    "\n",
    "mixtureBubble= MaterialStream(\"MixB\", sys)\n",
    "mixtureBubble.Specify(\"VF\",0.0)\n",
    "mixtureBubble.Specify(\"P\",1000, METRIC.mbar)\n",
    "for c in names:\n",
    "    mixtureBubble.Specify(\"n[\"+c+\"]\",1.0)\n",
    "mixtureBubble.InitializeFromMolarFlows()\n",
    "mixtureBubble.FlashPZ()\n",
    "\n",
    "mixtureDew= MaterialStream(\"MixB\", sys)\n",
    "mixtureDew.Specify(\"VF\",1.0)\n",
    "mixtureDew.Specify(\"P\",1000, METRIC.mbar)\n",
    "for c in names:\n",
    "    mixtureDew.Specify(\"n[\"+c+\"]\",1.0)\n",
    "mixtureDew.InitializeFromMolarFlows()\n",
    "mixtureDew.FlashPZ()\n",
    "\n",
    "flowTx= Flowsheet(\"plots\")\n",
    "flowTx.AddMaterialStreams(mixtureBubble, mixtureDew);    "
   ]
  },
  {
   "cell_type": "code",
   "execution_count": 112,
   "metadata": {},
   "outputs": [],
   "source": [
    "def updatePlots(psys, tsys, i,j):   \n",
    "    numSteps=21     \n",
    "    fig,ax=plt.subplots(1,1,figsize=(10,10))       \n",
    "    xvec=[]\n",
    "    yvec=[]\n",
    "    yvec2=[]     \n",
    "    mixtureBubble.Specify(\"P\",psys, METRIC.mbar)\n",
    "    mixtureDew.Specify(\"P\",psys, METRIC.mbar)\n",
    "    for c in range(numSteps):\n",
    "        for k in range(numComps):                    \n",
    "            mixtureBubble.Specify(\"n[\"+names[k]+\"]\",0.0)\n",
    "            mixtureDew.Specify(\"n[\"+names[k]+\"]\",0.0)\n",
    "        mixtureBubble.Specify(\"n[\"+i.ID+\"]\",c/(numSteps-1))\n",
    "        mixtureBubble.Specify(\"n[\"+j.ID+\"]\",1.0-c/(numSteps-1))\n",
    "        mixtureBubble.InitializeFromMolarFlows()\n",
    "        mixtureBubble.FlashPZ()\n",
    "        mixtureDew.Specify(\"n[\"+i.ID+\"]\",c/(numSteps-1))\n",
    "        mixtureDew.Specify(\"n[\"+j.ID+\"]\",1.0-c/(numSteps-1))\n",
    "        mixtureDew.InitializeFromMolarFlows()\n",
    "        mixtureDew.FlashPZ()\n",
    "        solver.Solve(flowTx)                               \n",
    "        xvec.append(mixtureBubble.GetVariable('x['+i.ID+']').Val())               \n",
    "        yvec.append(mixtureBubble.GetVariable('T').Val()-273.15)               \n",
    "        yvec2.append(mixtureDew.GetVariable('T').Val()-273.15)               \n",
    "    ax.plot(xvec, yvec)\n",
    "    ax.plot(xvec, yvec2)                    \n",
    "    ax.set_xlabel('$x_{'+i.ID+'}$')       \n",
    "    ax.set_ylabel('T [°C]')            \n",
    "    #ax.set_ylim([25,175])\n",
    "    ax.set_xlim([0,1])\n",
    "    ax.legend([\"Tbub\",\"Tdew\"])  \n",
    "    plt.tight_layout()\n",
    "    plt.title(f'(T,x)-Diagram of {i.ID}/ {j.ID} at {psys:.1f} mbar');\n",
    "    return plt\n"
   ]
  },
  {
   "cell_type": "code",
   "execution_count": 120,
   "metadata": {},
   "outputs": [],
   "source": [
    "tsys=100\n",
    "psys=1000\n",
    "cA=acetone\n",
    "cB=methanol"
   ]
  },
  {
   "cell_type": "code",
   "execution_count": 121,
   "metadata": {},
   "outputs": [],
   "source": [
    "def updatePressure(p=1000):\n",
    "    psys=p\n",
    "    updatePlots(psys, tsys, cA,cB)      "
   ]
  },
  {
   "cell_type": "code",
   "execution_count": 122,
   "metadata": {},
   "outputs": [
    {
     "data": {
      "application/vnd.jupyter.widget-view+json": {
       "model_id": "ae0c0f87392b4567b6b79174b42f7c40",
       "version_major": 2,
       "version_minor": 0
      },
      "text/plain": [
       "interactive(children=(FloatSlider(value=1000.0, continuous_update=False, description='p', max=10000.0, min=500…"
      ]
     },
     "metadata": {},
     "output_type": "display_data"
    }
   ],
   "source": [
    "interact(updatePressure,p=FloatSlider(min=500, max=1e4, value=1000,step=100, continuous_update=False)  );"
   ]
  },
  {
   "cell_type": "code",
   "execution_count": null,
   "metadata": {},
   "outputs": [],
   "source": []
  }
 ],
 "metadata": {
  "kernelspec": {
   "display_name": "Python 3",
   "language": "python",
   "name": "python3"
  },
  "language_info": {
   "codemirror_mode": {
    "name": "ipython",
    "version": 3
   },
   "file_extension": ".py",
   "mimetype": "text/x-python",
   "name": "python",
   "nbconvert_exporter": "python",
   "pygments_lexer": "ipython3",
   "version": "3.7.4"
  }
 },
 "nbformat": 4,
 "nbformat_minor": 2
}
