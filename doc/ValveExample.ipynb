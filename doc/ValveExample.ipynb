{
 "cells": [
  {
   "cell_type": "code",
   "execution_count": 1,
   "metadata": {
    "ExecuteTime": {
     "end_time": "2019-12-22T18:15:07.525704Z",
     "start_time": "2019-12-22T18:15:07.208455Z"
    }
   },
   "outputs": [],
   "source": [
    "%matplotlib inline"
   ]
  },
  {
   "cell_type": "code",
   "execution_count": 2,
   "metadata": {
    "ExecuteTime": {
     "end_time": "2019-12-22T18:15:07.750794Z",
     "start_time": "2019-12-22T18:15:07.527633Z"
    }
   },
   "outputs": [],
   "source": [
    "import clr\n",
    "clr.AddReference(r\"..\\bin\\MiniSim.Core\")\n",
    "clr.AddReference(r\"..\\bin\\MiniSim.FlowsheetDrawing\")\n",
    "\n",
    "import MiniSim.Core.Expressions as expr\n",
    "from  MiniSim.Core.Flowsheeting import MaterialStream, Flowsheet,IconTypes\n",
    "from  MiniSim.Core.Flowsheeting.Documentation import SpreadsheetElement\n",
    "import MiniSim.Core.Numerics as num\n",
    "from MiniSim.Core.UnitsOfMeasure import Unit, SI, METRIC, PhysicalDimension\n",
    "from MiniSim.Core.ModelLibrary import Flash, Heater, Mixer, Splitter, EquilibriumStageSection, BlackBoxReactor,Valve, FlowMode,ValveCharacteristic\n",
    "import MiniSim.Core.PropertyDatabase as chemsep\n",
    "from MiniSim.Core.Reporting import Generator, StringBuilderLogger\n",
    "from MiniSim.Core.Thermodynamics import ThermodynamicSystem\n",
    "from MiniSim.FlowsheetDrawing import FlowsheetDrawer, DrawingOptions"
   ]
  },
  {
   "cell_type": "code",
   "execution_count": 3,
   "metadata": {
    "ExecuteTime": {
     "end_time": "2019-12-22T18:15:08.051247Z",
     "start_time": "2019-12-22T18:15:07.753777Z"
    }
   },
   "outputs": [],
   "source": [
    "import numpy as np\n",
    "import pandas as pd\n",
    "import matplotlib.pyplot as plt\n",
    "from IPython.display import Image as render\n",
    "plt.rcParams[\"figure.figsize\"] = (16,8)\n",
    "plt.rcParams['grid.color'] = 'k'"
   ]
  },
  {
   "cell_type": "code",
   "execution_count": 4,
   "metadata": {
    "ExecuteTime": {
     "end_time": "2019-12-22T18:15:08.063213Z",
     "start_time": "2019-12-22T18:15:08.054211Z"
    }
   },
   "outputs": [],
   "source": [
    "def calc(flowsheet, relax, maxIter):\n",
    "    presolver=  num.BasicNewtonSolver(logger)\n",
    "    presolver.MaximumIterations=maxIter\n",
    "    presolver.BrakeFactor=relax\n",
    "    presolver.Solve(flowsheet)\n",
    "    print (logger.Flush())\n",
    "    \n",
    "def decomp(flowsheet):\n",
    "    solver= num.DecompositionSolver(logger)\n",
    "    status=solver.Solve(flowsheet)\n",
    "    print (logger.Flush())\n",
    "    return status\n",
    "    \n",
    "def convertFlowsheet(flowsheet, options=None):\n",
    "    drawer= FlowsheetDrawer()\n",
    "    if(options!=None):\n",
    "        drawer.Options=options\n",
    "    return bytes(drawer.DrawAsBase64(flowsheet)) \n",
    "\n",
    "Database = chemsep.ChemSepAdapter()\n",
    "logger = StringBuilderLogger();\n",
    "reporter = Generator(logger)"
   ]
  },
  {
   "cell_type": "code",
   "execution_count": 5,
   "metadata": {
    "ExecuteTime": {
     "end_time": "2019-12-22T18:15:08.182018Z",
     "start_time": "2019-12-22T18:15:08.065181Z"
    }
   },
   "outputs": [],
   "source": [
    "sys= ThermodynamicSystem(\"Water\",\"Ideal\", \"default\")\n",
    "sys.AddComponent(Database.FindComponent(\"Water\"))\n",
    "kmolh=Unit.Make([SI.kmol],[SI.h])\n",
    "cumh=Unit.Make([SI.cum],[SI.h])\n",
    "kJmol=Unit.Make([SI.kJ],[SI.mol])\n",
    "tonh=Unit.Make([METRIC.ton],[SI.h])"
   ]
  },
  {
   "cell_type": "code",
   "execution_count": 16,
   "metadata": {
    "ExecuteTime": {
     "end_time": "2019-12-22T18:16:31.393895Z",
     "start_time": "2019-12-22T18:16:31.386906Z"
    },
    "run_control": {
     "marked": true
    }
   },
   "outputs": [],
   "source": [
    "S01 = MaterialStream(\"S01\", sys)\\\n",
    "        .Specify(\"T\",50, METRIC.C)\\\n",
    "        .Specify(\"P\",10, METRIC.bar)\\\n",
    "        .Specify(\"n\",100, kmolh)\\\n",
    "        .Specify(\"x[Water]\",1)\\\n",
    "        .InitializeFromMolarFractions()\\\n",
    "        .FlashPT()\n",
    "\n",
    "S02 = MaterialStream(\"S02\", sys)\\\n",
    "\n",
    "VALVE = Valve(\"HEAT02\",sys)\\\n",
    "        .Connect(\"In\", S01) \\\n",
    "        .Connect(\"Out\", S02) \\\n",
    "        .Specify(\"DP\",4, METRIC.bar)\\\n",
    "        .Init(\"KVS\",25)\\\n",
    "        .Specify(\"Pos\",80)\\\n",
    "        .SetMode(FlowMode.Incompressible)\\\n",
    "        .SetCharacteristicCurve(ValveCharacteristic.Linear)\\\n",
    "        .Initialize()\n"
   ]
  },
  {
   "cell_type": "code",
   "execution_count": 17,
   "metadata": {
    "ExecuteTime": {
     "end_time": "2019-12-22T18:16:31.886976Z",
     "start_time": "2019-12-22T18:16:31.882988Z"
    }
   },
   "outputs": [],
   "source": [
    "flowsheet= Flowsheet(\"Flow\")\\\n",
    "\t\t.AddMaterialStreams(S01, S02)\\\n",
    "\t\t.AddUnit(VALVE)"
   ]
  },
  {
   "cell_type": "code",
   "execution_count": 18,
   "metadata": {
    "ExecuteTime": {
     "end_time": "2019-12-22T18:16:32.304361Z",
     "start_time": "2019-12-22T18:16:32.297379Z"
    }
   },
   "outputs": [
    {
     "name": "stdout",
     "output_type": "stream",
     "text": [
      "Decomposition Result: V=42, E=42, Blocks=38, Singletons=36\r\n",
      "Block Statistics:\r\n",
      "   # Var # Blocks % Blocks\r\n",
      "       1       36  94,74 %\r\n",
      "       2        1   2,63 %\r\n",
      "       4        1   2,63 %\r\n",
      "Problem NLAES was successfully solved (0,00 seconds)\r\n",
      "\n"
     ]
    },
    {
     "data": {
      "text/plain": [
       "True"
      ]
     },
     "execution_count": 18,
     "metadata": {},
     "output_type": "execute_result"
    }
   ],
   "source": [
    "decomp(flowsheet)"
   ]
  },
  {
   "cell_type": "code",
   "execution_count": 19,
   "metadata": {
    "ExecuteTime": {
     "end_time": "2019-12-22T18:16:32.744185Z",
     "start_time": "2019-12-22T18:16:32.740196Z"
    },
    "scrolled": false
   },
   "outputs": [
    {
     "name": "stdout",
     "output_type": "stream",
     "text": [
      "\r\n",
      "Report for unit HEAT02[Valve]\r\n",
      "================================================\r\n",
      "Material Ports\r\n",
      "\r\n",
      "Name            Direction  Multi Num   Streams                  \r\n",
      "In              In         1     1     S01                      \r\n",
      "Out             Out        1     1     S02                      \r\n",
      "\r\n",
      "Variables\r\n",
      "\r\n",
      "Name                  Value Unit       Min        Max        Dimension       Description    \r\n",
      "DP                     4000 mbar       0          1E+07      Pressure        Pressure Drop  \r\n",
      "KVS                 1.14704 cum/h/bar  0          1E+06      Temperature     Nominal valve coefficient\r\n",
      "KV                 0.917634 cum/h/bar  0          1E+06      Temperature     Effective valve coefficient\r\n",
      "Open                     80            0          100        Temperature     Valve opening in %\r\n",
      "Pos                      80            0          100        Temperature     Valve position in %\r\n",
      "P1                    10000 mbar       1          1E+07      Pressure        Pressure in valve inlet\r\n",
      "P2                     6000 mbar       1          1E+07      Pressure        Pressure in valve outlet\r\n",
      "Q                   1.82452 cum/h      0          3.6E+09    VolumeFlow      Volume flow    \r\n",
      "\r\n",
      "\n"
     ]
    }
   ],
   "source": [
    "reporter.Report(VALVE)\n",
    "print(logger.Flush())"
   ]
  },
  {
   "cell_type": "code",
   "execution_count": 20,
   "metadata": {
    "ExecuteTime": {
     "end_time": "2019-12-22T18:16:33.535646Z",
     "start_time": "2019-12-22T18:16:33.530684Z"
    }
   },
   "outputs": [
    {
     "name": "stdout",
     "output_type": "stream",
     "text": [
      "\r\n",
      "Report for flowsheet Flow\r\n",
      "================================================\r\n",
      "\r\n",
      "Material Streams\r\n",
      "\r\n",
      "System                    Water      \r\n",
      "\r\n",
      "Property                  Unit                S01          S02\r\n",
      "\r\n",
      "Temperature               °C              50.0000      50.0000\r\n",
      "Pressure                  mbar         10000.0000    6000.0000\r\n",
      "Vapor Fraction            mol/mol          0.0000       0.0000\r\n",
      "Specific Enthalpy         kJ/kmol     -42099.9349  -42099.9349\r\n",
      "Phase                                      Liquid       Liquid\r\n",
      "Density                   kmol/cum        54.8090      54.8090\r\n",
      "Mass Density              kg/cum         987.4000     987.4000\r\n",
      "Volume Flow               cum/h            1.8245       1.8245\r\n",
      "Molar Weight              kg/kmol         18.0153      18.0153\r\n",
      "\r\n",
      "Total Molar Flow          kmol/h         100.0000     100.0000\r\n",
      "                    Water kmol/h         100.0000     100.0000\r\n",
      "Molar Composition                    \r\n",
      "                    Water mol/mol          1.0000       1.0000\r\n",
      "\r\n",
      "Total Mass Flow           kg/h          1801.5280    1801.5280\r\n",
      "                    Water kg/h          1801.5280    1801.5280\r\n",
      "Mass Composition                     \r\n",
      "                    Water kg/kg            1.0000       1.0000\r\n",
      "\r\n",
      "\r\n",
      "Liquid Molar Flow         kmol/h         100.0000     100.0000\r\n",
      "                    Water kmol/h         100.0000     100.0000\r\n",
      "Liquid Molar Composition             \r\n",
      "                    Water mol/mol          1.0000       1.0000\r\n",
      "Liquid Mass Flow          kg/h          1801.5280    1801.5280\r\n",
      "                    Water kg/h          1801.5280    1801.5280\r\n",
      "Liquid Mass Composition              \r\n",
      "                    Water kg/kg            1.0000       1.0000\r\n",
      "\r\n",
      "\r\n",
      "Vapor Molar Flow          kmol/h           0.0000       0.0000\r\n",
      "                    Water kmol/h           0.0000       0.0000\r\n",
      "Vapor Molar Composition              \r\n",
      "                    Water mol/mol          0.0124       0.0206\r\n",
      "Vapor Mass Flow           kg/h             0.0000       0.0000\r\n",
      "                    Water kg/h             0.0000       0.0000\r\n",
      "Vapor Mass Composition               \r\n",
      "                    Water kg/kg            0.0000       0.0000\r\n",
      "\r\n",
      "\r\n",
      "\r\n",
      "Design Specifications\r\n",
      "\r\n",
      "Name            Model                          Class           Group                       Residual Equation\r\n",
      "\r\n",
      "\n"
     ]
    }
   ],
   "source": [
    "reporter.Report(flowsheet,4, True)\n",
    "print(logger.Flush())"
   ]
  },
  {
   "cell_type": "code",
   "execution_count": null,
   "metadata": {},
   "outputs": [],
   "source": []
  },
  {
   "cell_type": "code",
   "execution_count": null,
   "metadata": {},
   "outputs": [],
   "source": []
  }
 ],
 "metadata": {
  "kernelspec": {
   "display_name": "Python 3",
   "language": "python",
   "name": "python3"
  },
  "language_info": {
   "codemirror_mode": {
    "name": "ipython",
    "version": 3
   },
   "file_extension": ".py",
   "mimetype": "text/x-python",
   "name": "python",
   "nbconvert_exporter": "python",
   "pygments_lexer": "ipython3",
   "version": "3.7.4"
  },
  "toc": {
   "base_numbering": 1,
   "nav_menu": {},
   "number_sections": true,
   "sideBar": true,
   "skip_h1_title": false,
   "title_cell": "Table of Contents",
   "title_sidebar": "Contents",
   "toc_cell": false,
   "toc_position": {},
   "toc_section_display": true,
   "toc_window_display": false
  },
  "varInspector": {
   "cols": {
    "lenName": 16,
    "lenType": 16,
    "lenVar": 40
   },
   "kernels_config": {
    "python": {
     "delete_cmd_postfix": "",
     "delete_cmd_prefix": "del ",
     "library": "var_list.py",
     "varRefreshCmd": "print(var_dic_list())"
    },
    "r": {
     "delete_cmd_postfix": ") ",
     "delete_cmd_prefix": "rm(",
     "library": "var_list.r",
     "varRefreshCmd": "cat(var_dic_list()) "
    }
   },
   "types_to_exclude": [
    "module",
    "function",
    "builtin_function_or_method",
    "instance",
    "_Feature"
   ],
   "window_display": false
  }
 },
 "nbformat": 4,
 "nbformat_minor": 2
}
