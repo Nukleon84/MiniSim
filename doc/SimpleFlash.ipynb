{
 "cells": [
  {
   "cell_type": "markdown",
   "metadata": {},
   "source": [
    "# .NET Initialization\n",
    "<div style=\"width:100%;height:6px;background-color:Black;\"></div>"
   ]
  },
  {
   "cell_type": "markdown",
   "metadata": {},
   "source": [
    "MiniSim is a .net dll and as such we need to import the pythonnet module (clr) and load the .net DLL into the Python kernel. Afterwards we can import the .net namespaces as Python modules."
   ]
  },
  {
   "cell_type": "code",
   "execution_count": 1,
   "metadata": {
    "ExecuteTime": {
     "end_time": "2019-12-03T20:21:18.775876Z",
     "start_time": "2019-12-03T20:21:18.595326Z"
    }
   },
   "outputs": [],
   "source": [
    "import clr\n",
    "clr.AddReference(r\"..\\bin\\MiniSim.Core\")\n",
    "\n",
    "import MiniSim.Core.Expressions as expr\n",
    "import MiniSim.Core.Flowsheeting as fl\n",
    "import MiniSim.Core.Numerics as num\n",
    "from MiniSim.Core.UnitsOfMeasure import Unit, SI, METRIC, PhysicalDimension\n",
    "import MiniSim.Core.ModelLibrary as lib\n",
    "import MiniSim.Core.PropertyDatabase as chemsep\n",
    "from MiniSim.Core.Reporting import Generator, StringBuilderLogger\n",
    "import MiniSim.Core.Thermodynamics as thermo"
   ]
  },
  {
   "cell_type": "code",
   "execution_count": 2,
   "metadata": {
    "ExecuteTime": {
     "end_time": "2019-12-03T20:21:19.043156Z",
     "start_time": "2019-12-03T20:21:18.777869Z"
    }
   },
   "outputs": [],
   "source": [
    "%matplotlib inline"
   ]
  },
  {
   "cell_type": "code",
   "execution_count": 3,
   "metadata": {
    "ExecuteTime": {
     "end_time": "2019-12-03T20:21:19.349341Z",
     "start_time": "2019-12-03T20:21:19.045123Z"
    }
   },
   "outputs": [],
   "source": [
    "import numpy as np\n",
    "import pandas as pd\n",
    "import matplotlib.pyplot as plt\n",
    "\n",
    "plt.rcParams[\"figure.figsize\"] = (16,8)\n",
    "plt.rcParams['grid.color'] = 'k'"
   ]
  },
  {
   "cell_type": "markdown",
   "metadata": {},
   "source": [
    "# General Objects Instantiation\n",
    "<div style=\"width:100%;height:6px;background-color:Black;\"></div>"
   ]
  },
  {
   "cell_type": "code",
   "execution_count": 4,
   "metadata": {
    "ExecuteTime": {
     "end_time": "2019-12-03T20:21:19.443074Z",
     "start_time": "2019-12-03T20:21:19.351320Z"
    }
   },
   "outputs": [
    {
     "data": {
      "text/plain": [
       "['1,2,4-trichlorobenzene',\n",
       " 'M-dichlorobenzene',\n",
       " 'O-dichlorobenzene',\n",
       " 'P-dichlorobenzene',\n",
       " 'Bromobenzene',\n",
       " 'Monochlorobenzene',\n",
       " 'Iodobenzene',\n",
       " 'Nitrobenzene',\n",
       " 'Benzene',\n",
       " 'Ethylbenzene',\n",
       " 'N-propylbenzene',\n",
       " 'N-butylbenzene',\n",
       " '1,2,3-trimethylbenzene',\n",
       " '1,2,4-trimethylbenzene',\n",
       " 'Isobutylbenzene',\n",
       " 'Sec-butylbenzene',\n",
       " 'Tert-butylbenzene',\n",
       " 'O-diethylbenzene',\n",
       " 'M-diethylbenzene',\n",
       " 'P-diethylbenzene',\n",
       " '1,2,3,4-tetramethylbenzene',\n",
       " '1,2,3,5-tetramethylbenzene',\n",
       " '1,2,4,5-tetramethylbenzene',\n",
       " '1-methyl-3-n-propylbenzene',\n",
       " '1-methyl-4-n-propylbenzene',\n",
       " 'P-diisopropylbenzene']"
      ]
     },
     "execution_count": 4,
     "metadata": {},
     "output_type": "execute_result"
    }
   ],
   "source": [
    "Database = chemsep.ChemSepAdapter()\n",
    "logger = StringBuilderLogger();\n",
    "reporter = Generator(logger)\n",
    "\n",
    "Database.ListComponents(\"benzen\")\n"
   ]
  },
  {
   "cell_type": "markdown",
   "metadata": {},
   "source": [
    "# Definition of the Thermo-System\n",
    "<div style=\"width:100%;height:6px;background-color:Black;\"></div>"
   ]
  },
  {
   "cell_type": "markdown",
   "metadata": {},
   "source": [
    "When an instance of the ThermodynamicSystem class is created, we can define the base method (NRTL. UNIQUAC or SRK). This will set the internal states accordingly. Alternatively the equilibrium approach could be chosen explicitly with the respective data classes. \n",
    "\n",
    "We then add three compontents from the ChemSep Database, Benzene, Toluene and P-Xylene. Use the ListComponents(string) method to find suitable components, and then use the exact spelling to select it from the databank."
   ]
  },
  {
   "cell_type": "code",
   "execution_count": 5,
   "metadata": {
    "ExecuteTime": {
     "end_time": "2019-12-03T20:21:19.483473Z",
     "start_time": "2019-12-03T20:21:19.445069Z"
    }
   },
   "outputs": [],
   "source": [
    "sys= thermo.ThermodynamicSystem(\"Test2\",\"NRTL\", \"default\")\n",
    "sys.AddComponent(Database.FindComponent(\"Benzene\"))\n",
    "sys.AddComponent(Database.FindComponent(\"Toluene\"))\n",
    "sys.AddComponent(Database.FindComponent(\"P-xylene\"))\n",
    "Database.FillBIPs(sys)\n",
    "\n",
    "sys.VariableFactory.SetOutputDimension(PhysicalDimension.Pressure, METRIC.mbar)"
   ]
  },
  {
   "cell_type": "markdown",
   "metadata": {},
   "source": [
    "# Flowsheet Definition\n",
    "<div style=\"width:100%;height:6px;background-color:Black;\"></div>"
   ]
  },
  {
   "cell_type": "markdown",
   "metadata": {},
   "source": [
    "First we create the feed stream S01. For this stream, we specify the temperature and pressure, as well as the total molar flow and the molar composition. \n",
    "\n",
    "If ALL molar fractions are specified, the summation closure equation is not added to the equation system. In that case, the composition must add up to exactly one. In this example, we initialize the molar fraction of P-xylene, which means that it is still a free variable, and as such the closure will be added to the equation system.\n",
    "\n",
    "We need to define our own unit of measure for the molar flow, but because Pythonnet does not support .net operator overlading, we have to use a helper function that creates an aggregate unit: kmol/h"
   ]
  },
  {
   "cell_type": "code",
   "execution_count": 6,
   "metadata": {
    "ExecuteTime": {
     "end_time": "2019-12-03T20:21:19.492417Z",
     "start_time": "2019-12-03T20:21:19.484438Z"
    }
   },
   "outputs": [
    {
     "name": "stdout",
     "output_type": "stream",
     "text": [
      "kmol/h\n"
     ]
    }
   ],
   "source": [
    "kmolh=Unit.Make([SI.kmol],[SI.h])\n",
    "print(kmolh)"
   ]
  },
  {
   "cell_type": "code",
   "execution_count": 7,
   "metadata": {
    "ExecuteTime": {
     "end_time": "2019-12-03T20:21:19.558272Z",
     "start_time": "2019-12-03T20:21:19.495410Z"
    }
   },
   "outputs": [],
   "source": [
    "S01 = (fl.MaterialStream(\"S01\", sys)\n",
    "    .Specify(\"T\",50, METRIC.C)\n",
    "    .Specify(\"P\",1, METRIC.bar)\n",
    "    .Specify(\"n\",10.0, kmolh)\n",
    "    .Specify(\"x[Benzene]\",0.5)\n",
    "    .Specify(\"x[Toluene]\",0.1)\n",
    "    .Init(\"x[P-xylene]\",0.4)\n",
    "    .InitializeFromMolarFractions()\n",
    "    .FlashPT())\n",
    "\n",
    "S02 = fl.MaterialStream(\"S02\",sys)\n",
    "S03 = fl.MaterialStream(\"S03\",sys)"
   ]
  },
  {
   "cell_type": "markdown",
   "metadata": {},
   "source": [
    "Once the stream objects are created, we can instantiate the Flash object. We need to connect the In, Vap and Liq port to their respective streams. For a Flash, we need two additional degrees of freedom, chosen from temperature T, pressure P, vapor fraction VF or heat duty Q."
   ]
  },
  {
   "cell_type": "code",
   "execution_count": 8,
   "metadata": {
    "ExecuteTime": {
     "end_time": "2019-12-03T20:21:19.576223Z",
     "start_time": "2019-12-03T20:21:19.560235Z"
    }
   },
   "outputs": [],
   "source": [
    "flash = (lib.Flash(\"Flash\",sys)\n",
    "    .Connect(\"In\", S01)\n",
    "    .Connect(\"Vap\", S02)\n",
    "    .Connect(\"Liq\", S03)\n",
    "    .Specify(\"P\", 1, METRIC.bar)\n",
    "    .Specify(\"VF\",0.5)\n",
    "    .Initialize())"
   ]
  },
  {
   "cell_type": "markdown",
   "metadata": {},
   "source": [
    "Now that all the objects are created we can assemble them in a flowsheet."
   ]
  },
  {
   "cell_type": "code",
   "execution_count": 9,
   "metadata": {
    "ExecuteTime": {
     "end_time": "2019-12-03T20:21:19.584171Z",
     "start_time": "2019-12-03T20:21:19.578189Z"
    }
   },
   "outputs": [],
   "source": [
    "flowsheet= (fl.Flowsheet(\"Flow\")\n",
    "    .AddMaterialStreams(S01,S02,S03)\n",
    "    .AddUnit(flash))"
   ]
  },
  {
   "cell_type": "markdown",
   "metadata": {},
   "source": [
    "# Problem Solving using Newton-Raphson\n",
    "<div style=\"width:100%;height:6px;background-color:Black;\"></div>"
   ]
  },
  {
   "cell_type": "markdown",
   "metadata": {},
   "source": [
    "First, we create an instance of the solver class, which requires an instance of any ILogger-implementing class. Then we call the Solve method and pass either a flowsheet or an equation system. The equation system is solved using the Newton-Raphson method.\n",
    "Finally we use the Reporter object to write a textual summary of the flowsheet."
   ]
  },
  {
   "cell_type": "code",
   "execution_count": 10,
   "metadata": {
    "ExecuteTime": {
     "end_time": "2019-12-03T20:21:19.707864Z",
     "start_time": "2019-12-03T20:21:19.586167Z"
    },
    "scrolled": false
   },
   "outputs": [
    {
     "name": "stdout",
     "output_type": "stream",
     "text": [
      "Iter Step Length     Infeasibility   Damping Notes\r\n",
      "0    0               7816,8          1       \r\n",
      "1    25253,7         2038,62         0,739200282809472 \r\n",
      "2    5078,88         0,0920979       1       \r\n",
      "3    678,222         0,00135012      1       \r\n",
      "4    7,01157         2,38145E-05     1       \r\n",
      "5    0,0425876       8,6519E-09      1       \r\n",
      "Problem NLAES was solved. Constraint violation is below tolerance (5 iter, 53,42 ms, NV = 98, NZ = 347, NZ% = 3,61%)\r\n",
      "\r\n",
      "Report for flowsheet Flow\r\n",
      "================================================\r\n",
      "\r\n",
      "Material Streams\r\n",
      "\r\n",
      "System                    Test2      \r\n",
      "\r\n",
      "Property                  Unit                S01          S02          S03\r\n",
      "\r\n",
      "Temperature               °C              50.0000     106.4570     106.4570\r\n",
      "Pressure                  mbar          1000.0000    1000.0000    1000.0000\r\n",
      "Vapor Fraction            mol/mol          0.0000       1.0000       0.0000\r\n",
      "Specific Enthalpy         kJ/kmol     -33624.2220    8757.1804  -24413.0090\r\n",
      "Phase                                      Liquid        Vapor  LiquidVapor\r\n",
      "\r\n",
      "Total Molar Flow          kmol/h          10.0000       5.0000       5.0000\r\n",
      "                  Benzene kmol/h           5.0000       3.3866       1.6134\r\n",
      "                  Toluene kmol/h           1.0000       0.4693       0.5307\r\n",
      "                 P-xylene kmol/h           4.0000       1.1441       2.8559\r\n",
      "Molar Composition                    \r\n",
      "                  Benzene mol/mol          0.5000       0.6773       0.3227\r\n",
      "                  Toluene mol/mol          0.1000       0.0939       0.1061\r\n",
      "                 P-xylene mol/mol          0.4000       0.2288       0.5712\r\n",
      "\r\n",
      "Total Mass Flow           kg/h           907.3576     429.2368     478.1208\r\n",
      "                  Benzene kg/h           390.5592     264.5364     126.0228\r\n",
      "                  Toluene kg/h            92.1384      43.2383      48.9001\r\n",
      "                 P-xylene kg/h           424.6600     121.4622     303.1978\r\n",
      "Mass Composition                     \r\n",
      "                  Benzene kg/kg            0.4304       0.6163       0.2636\r\n",
      "                  Toluene kg/kg            0.1015       0.1007       0.1023\r\n",
      "                 P-xylene kg/kg            0.4680       0.2830       0.6341\r\n",
      "\r\n",
      "\r\n",
      "\r\n",
      "\r\n",
      "Design Specifications\r\n",
      "\r\n",
      "Name            Model                          Class           Group                       Residual Equation\r\n",
      "\r\n",
      "\n"
     ]
    }
   ],
   "source": [
    "presolver=  num.BasicNewtonSolver(logger)\n",
    "presolver.Solve(flowsheet)\n",
    "\n",
    "reporter.Report(flowsheet, 4, False)\n",
    "print(logger.Flush())"
   ]
  },
  {
   "cell_type": "markdown",
   "metadata": {},
   "source": [
    "# Equation Analyis"
   ]
  },
  {
   "cell_type": "markdown",
   "metadata": {},
   "source": [
    "When we want to view the actual equations used in the model, we have to create an EquationSystem explicitly."
   ]
  },
  {
   "cell_type": "code",
   "execution_count": 11,
   "metadata": {
    "ExecuteTime": {
     "end_time": "2019-12-03T20:21:19.723818Z",
     "start_time": "2019-12-03T20:21:19.708838Z"
    }
   },
   "outputs": [
    {
     "data": {
      "text/markdown": [
       "|Model|Class|Group|Equation<img width=500/>|Residual|\n",
       "|:----|:----|:----|:------|---|\n",
       "|S01|MaterialStream|Closure for Bulk Composition|  $(n_{Benzene} + n_{Toluene} + n_{P-xylene}) - n = 0$|0.0\n",
       "|S01|MaterialStream||  $n_{Benzene} - x_{Benzene} * n = 0$|0.0\n",
       "|S01|MaterialStream||  $n_{Toluene} - x_{Toluene} * n = 0$|0.0\n",
       "|S01|MaterialStream||  $n_{P-xylene} - x_{P-xylene} * n = 0$|0.0\n",
       "|S01|MaterialStream||  $nL_{Benzene} - xL_{Benzene} * nL = 0$|0.0\n",
       "|S01|MaterialStream||  $nL_{Toluene} - xL_{Toluene} * nL = 0$|0.0\n",
       "|S01|MaterialStream||  $nL_{P-xylene} - xL_{P-xylene} * nL = 0$|0.0\n",
       "|S01|MaterialStream||  $nV_{Benzene} - xV_{Benzene} * nV = 0$|0.0\n",
       "|S01|MaterialStream||  $nV_{Toluene} - xV_{Toluene} * nV = 0$|0.0\n",
       "|S01|MaterialStream||  $nV_{P-xylene} - xV_{P-xylene} * nV = 0$|0.0\n",
       "|S01|MaterialStream|Mole Balance|  $VF * n - nV = 0$|0.0\n",
       "|S01|MaterialStream|Total Mass Balance|  $n - nL - nV = 0$|0.0\n",
       "|S01|MaterialStream|Enthalpy Balance|  $\\frac{(VF * hV + (1 - VF) * hL)}{1000} - \\frac{h}{1000} = 0$|0.0\n",
       "|S01|MaterialStream|Equilibrium|  $FlashZ((xL_{Benzene} + xL_{Toluene} + xL_{P-xylene}) - (xV_{Benzene} + xV_{Toluene} + xV_{P-xylene}),(xV_{Benzene} + xV_{Toluene} + xV_{P-xylene}) - 1,(xL_{Benzene} + xL_{Toluene} + xL_{P-xylene}) - 1) = 0$|0.0\n",
       "|S01|MaterialStream|Component-Balance|  $1 - VF * xL_{Benzene} + VF * xV_{Benzene} - x_{Benzene} = 0$|0.0\n",
       "|S01|MaterialStream|Equilibrium|  $K_{Benzene} * xL_{Benzene} - xV_{Benzene} = 0$|0.0\n",
       "|S01|MaterialStream|Component-Balance|  $1 - VF * xL_{Toluene} + VF * xV_{Toluene} - x_{Toluene} = 0$|0.0\n",
       "|S01|MaterialStream|Equilibrium|  $K_{Toluene} * xL_{Toluene} - xV_{Toluene} = 0$|0.0\n",
       "|S01|MaterialStream|Component-Balance|  $1 - VF * xL_{P-xylene} + VF * xV_{P-xylene} - x_{P-xylene} = 0$|0.0\n",
       "|S01|MaterialStream|Equilibrium|  $K_{P-xylene} * xL_{P-xylene} - xV_{P-xylene} = 0$|0.0\n",
       "|S02|MaterialStream|Closure for Bulk Composition|  $(n_{Benzene} + n_{Toluene} + n_{P-xylene}) - n = 0$|2.220446049250313e-16\n",
       "|S02|MaterialStream||  $n_{Benzene} - x_{Benzene} * n = 0$|0.0\n",
       "|S02|MaterialStream||  $n_{Toluene} - x_{Toluene} * n = 0$|0.0\n",
       "|S02|MaterialStream||  $n_{P-xylene} - x_{P-xylene} * n = 0$|0.0\n",
       "|S02|MaterialStream||  $nL_{Benzene} - xL_{Benzene} * nL = 0$|0.0\n",
       "|S02|MaterialStream||  $nL_{Toluene} - xL_{Toluene} * nL = 0$|0.0\n",
       "|S02|MaterialStream||  $nL_{P-xylene} - xL_{P-xylene} * nL = 0$|0.0\n",
       "|S02|MaterialStream||  $nV_{Benzene} - xV_{Benzene} * nV = 0$|-1.1102230246251565e-16\n",
       "|S02|MaterialStream||  $nV_{Toluene} - xV_{Toluene} * nV = 0$|0.0\n",
       "|S02|MaterialStream||  $nV_{P-xylene} - xV_{P-xylene} * nV = 0$|-5.551115123125783e-17\n",
       "|S02|MaterialStream|Mole Balance|  $VF * n - nV = 0$|-3.622686595150526e-10\n",
       "|S02|MaterialStream|Total Mass Balance|  $n - nL - nV = 0$|-3.622686595150526e-10\n",
       "|S02|MaterialStream|Enthalpy Balance|  $\\frac{(VF * hV + (1 - VF) * hL)}{1000} - \\frac{h}{1000} = 0$|-8.651898752987108e-09\n",
       "|S02|MaterialStream|Equilibrium|  $FlashZ((xL_{Benzene} + xL_{Toluene} + xL_{P-xylene}) - (xV_{Benzene} + xV_{Toluene} + xV_{P-xylene}),(xV_{Benzene} + xV_{Toluene} + xV_{P-xylene}) - 1,(xL_{Benzene} + xL_{Toluene} + xL_{P-xylene}) - 1) = 0$|0.0\n",
       "|S02|MaterialStream|Component-Balance|  $1 - VF * xL_{Benzene} + VF * xV_{Benzene} - x_{Benzene} = 0$|-9.250578081321237e-11\n",
       "|S02|MaterialStream|Equilibrium|  $K_{Benzene} * xL_{Benzene} - xV_{Benzene} = 0$|-3.774758283725532e-15\n",
       "|S02|MaterialStream|Component-Balance|  $1 - VF * xL_{Toluene} + VF * xV_{Toluene} - x_{Toluene} = 0$|3.2056302057270614e-12\n",
       "|S02|MaterialStream|Equilibrium|  $K_{Toluene} * xL_{Toluene} - xV_{Toluene} = 0$|1.8318679906315083e-15\n",
       "|S02|MaterialStream|Component-Balance|  $1 - VF * xL_{P-xylene} + VF * xV_{P-xylene} - x_{P-xylene} = 0$|8.930006734075846e-11\n",
       "|S02|MaterialStream|Equilibrium|  $K_{P-xylene} * xL_{P-xylene} - xV_{P-xylene} = 0$|-3.885780586188048e-16\n",
       "|S03|MaterialStream|Closure for Bulk Composition|  $(n_{Benzene} + n_{Toluene} + n_{P-xylene}) - n = 0$|0.0\n",
       "|S03|MaterialStream||  $n_{Benzene} - x_{Benzene} * n = 0$|-5.551115123125783e-17\n",
       "|S03|MaterialStream||  $n_{Toluene} - x_{Toluene} * n = 0$|2.7755575615628914e-17\n",
       "|S03|MaterialStream||  $n_{P-xylene} - x_{P-xylene} * n = 0$|0.0\n",
       "|S03|MaterialStream||  $nL_{Benzene} - xL_{Benzene} * nL = 0$|-5.551115123125783e-17\n",
       "|S03|MaterialStream||  $nL_{Toluene} - xL_{Toluene} * nL = 0$|0.0\n",
       "|S03|MaterialStream||  $nL_{P-xylene} - xL_{P-xylene} * nL = 0$|-1.1102230246251565e-16\n",
       "|S03|MaterialStream||  $nV_{Benzene} - xV_{Benzene} * nV = 0$|9.75722606397663e-25\n",
       "|S03|MaterialStream||  $nV_{Toluene} - xV_{Toluene} * nV = 0$|3.0118762247374504e-25\n",
       "|S03|MaterialStream||  $nV_{P-xylene} - xV_{P-xylene} * nV = 0$|-1.2769102254047342e-24\n",
       "|S03|MaterialStream|Mole Balance|  $VF * n - nV = 0$|1.3240816808652208e-23\n",
       "|S03|MaterialStream|Total Mass Balance|  $n - nL - nV = 0$|-3.4754052987492554e-17\n",
       "|S03|MaterialStream|Enthalpy Balance|  $\\frac{(VF * hV + (1 - VF) * hL)}{1000} - \\frac{h}{1000} = 0$|6.623253057114198e-10\n",
       "|S03|MaterialStream|Equilibrium|  $FlashZ((xL_{Benzene} + xL_{Toluene} + xL_{P-xylene}) - (xV_{Benzene} + xV_{Toluene} + xV_{P-xylene}),(xV_{Benzene} + xV_{Toluene} + xV_{P-xylene}) - 1,(xL_{Benzene} + xL_{Toluene} + xL_{P-xylene}) - 1) = 0$|0.0\n",
       "|S03|MaterialStream|Component-Balance|  $1 - VF * xL_{Benzene} + VF * xV_{Benzene} - x_{Benzene} = 0$|0.0\n",
       "|S03|MaterialStream|Equilibrium|  $K_{Benzene} * xL_{Benzene} - xV_{Benzene} = 0$|-1.3322676295501878e-15\n",
       "|S03|MaterialStream|Component-Balance|  $1 - VF * xL_{Toluene} + VF * xV_{Toluene} - x_{Toluene} = 0$|0.0\n",
       "|S03|MaterialStream|Equilibrium|  $K_{Toluene} * xL_{Toluene} - xV_{Toluene} = 0$|-2.636779683484747e-16\n",
       "|S03|MaterialStream|Component-Balance|  $1 - VF * xL_{P-xylene} + VF * xV_{P-xylene} - x_{P-xylene} = 0$|0.0\n",
       "|S03|MaterialStream|Equilibrium|  $K_{P-xylene} * xL_{P-xylene} - xV_{P-xylene} = 0$|9.71445146547012e-16\n",
       "|VLEQ|MaterialStream|Closure for Bulk Composition|  $(n_{Benzene} + n_{Toluene} + n_{P-xylene}) - n = 0$|0.0\n",
       "|VLEQ|MaterialStream||  $n_{Benzene} - x_{Benzene} * n = 0$|0.0\n",
       "|VLEQ|MaterialStream||  $n_{Toluene} - x_{Toluene} * n = 0$|0.0\n",
       "|VLEQ|MaterialStream||  $n_{P-xylene} - x_{P-xylene} * n = 0$|0.0\n",
       "|VLEQ|MaterialStream||  $nL_{Benzene} - xL_{Benzene} * nL = 0$|-5.551115123125783e-17\n",
       "|VLEQ|MaterialStream||  $nL_{Toluene} - xL_{Toluene} * nL = 0$|2.7755575615628914e-17\n",
       "|VLEQ|MaterialStream||  $nL_{P-xylene} - xL_{P-xylene} * nL = 0$|0.0\n",
       "|VLEQ|MaterialStream||  $nV_{Benzene} - xV_{Benzene} * nV = 0$|0.0\n",
       "|VLEQ|MaterialStream||  $nV_{Toluene} - xV_{Toluene} * nV = 0$|-2.7755575615628914e-17\n",
       "|VLEQ|MaterialStream||  $nV_{P-xylene} - xV_{P-xylene} * nV = 0$|5.551115123125783e-17\n",
       "|VLEQ|MaterialStream|Mole Balance|  $VF * n - nV = 0$|0.0\n",
       "|VLEQ|MaterialStream|Total Mass Balance|  $n - nL - nV = 0$|0.0\n",
       "|VLEQ|MaterialStream|Enthalpy Balance|  $\\frac{(VF * hV + (1 - VF) * hL)}{1000} - \\frac{h}{1000} = 0$|3.311591001420311e-10\n",
       "|VLEQ|MaterialStream|Equilibrium|  $FlashZ((xL_{Benzene} + xL_{Toluene} + xL_{P-xylene}) - (xV_{Benzene} + xV_{Toluene} + xV_{P-xylene}),(xV_{Benzene} + xV_{Toluene} + xV_{P-xylene}) - 1,(xL_{Benzene} + xL_{Toluene} + xL_{P-xylene}) - 1) = 0$|-2.220446049250313e-16\n",
       "|VLEQ|MaterialStream|Component-Balance|  $1 - VF * xL_{Benzene} + VF * xV_{Benzene} - x_{Benzene} = 0$|0.0\n",
       "|VLEQ|MaterialStream|Equilibrium|  $K_{Benzene} * xL_{Benzene} - xV_{Benzene} = 0$|-1.3322676295501878e-15\n",
       "|VLEQ|MaterialStream|Component-Balance|  $1 - VF * xL_{Toluene} + VF * xV_{Toluene} - x_{Toluene} = 0$|0.0\n",
       "|VLEQ|MaterialStream|Equilibrium|  $K_{Toluene} * xL_{Toluene} - xV_{Toluene} = 0$|-2.7755575615628914e-16\n",
       "|VLEQ|MaterialStream|Component-Balance|  $1 - VF * xL_{P-xylene} + VF * xV_{P-xylene} - x_{P-xylene} = 0$|0.0\n",
       "|VLEQ|MaterialStream|Equilibrium|  $K_{P-xylene} * xL_{P-xylene} - xV_{P-xylene} = 0$|9.992007221626409e-16\n",
       "|Flash|Flash|Mass Balance|  $n_{Benzene} - n_{Benzene} + n_{Benzene} = 0$|0.0\n",
       "|Flash|Flash|Mass Balance|  $n_{Toluene} - n_{Toluene} + n_{Toluene} = 0$|0.0\n",
       "|Flash|Flash|Mass Balance|  $n_{P-xylene} - n_{P-xylene} + n_{P-xylene} = 0$|0.0\n",
       "|Flash|Flash|Pressure drop|  $\\frac{P}{10000} - \\frac{(P - DP)}{10000} = 0$|0.0\n",
       "|Flash|Flash|Pressure Balance|  $\\frac{P}{10000} - \\frac{(P)}{10000} = 0$|0.0\n",
       "|Flash|Flash|Temperature Balance|  $\\frac{T}{1000} - \\frac{T}{1000} = 0$|0.0\n",
       "|Flash|Flash|Pressure Balance|  $\\frac{P}{10000} - \\frac{(P)}{10000} = 0$|0.0\n",
       "|Flash|Flash|Temperature Balance|  $\\frac{T}{1000} - \\frac{T}{1000} = 0$|0.0\n",
       "|Flash|Flash|Heat Balance|  $h + \\frac{Q}{n} - (h * VF + h * 1 - VF) = 0$|-5.4569682106375694e-12\n",
       "|Flash|Flash|Mass Balance|  $VF - VF = 0$|0.0\n",
       "|Flash|Flash|Pressure Balance|  $\\frac{P}{10000} - \\frac{(P)}{10000} = 0$|0.0\n",
       "|Flash|Flash|Temperature Balance|  $\\frac{T}{1000} - \\frac{T}{1000} = 0$|0.0\n",
       "|Flash|Flash|Equilibrium|  $n_{Benzene} - nL_{Benzene} = 0$|0.0\n",
       "|Flash|Flash|Equilibrium|  $n_{Benzene} - n_{Benzene} = 0$|0.0\n",
       "|Flash|Flash|Equilibrium|  $n_{Toluene} - nL_{Toluene} = 0$|0.0\n",
       "|Flash|Flash|Equilibrium|  $n_{Toluene} - n_{Toluene} = 0$|0.0\n",
       "|Flash|Flash|Equilibrium|  $n_{P-xylene} - nL_{P-xylene} = 0$|0.0\n",
       "|Flash|Flash|Equilibrium|  $n_{P-xylene} - n_{P-xylene} = 0$|0.0\n"
      ],
      "text/plain": [
       "<IPython.core.display.Markdown object>"
      ]
     },
     "metadata": {},
     "output_type": "display_data"
    }
   ],
   "source": [
    "from IPython.display import display, Markdown, Latex\n",
    "eq= num.AlgebraicSystem(\"Review\")\n",
    "flowsheet.CreateEquations(eq)\n",
    "eqtab=\"\"\n",
    "eqtab+=\"|Model|Class|Group|Equation<img width=500/>|Residual|\\n\"\n",
    "eqtab+=\"|:----|:----|:----|:------|---|\\n\"\n",
    "for e in eq.Equations:\n",
    "    eqtab+=\"|\"+e.ModelName+\"|\"+e.ModelClass+\"|\"+e.Group+\"|\"+e.Pretty()+\"|\"+str(e.Residual())+\"\\n\"\n",
    "display(Markdown(eqtab))"
   ]
  },
  {
   "cell_type": "code",
   "execution_count": null,
   "metadata": {},
   "outputs": [],
   "source": []
  }
 ],
 "metadata": {
  "kernelspec": {
   "display_name": "Python 3",
   "language": "python",
   "name": "python3"
  },
  "language_info": {
   "codemirror_mode": {
    "name": "ipython",
    "version": 3
   },
   "file_extension": ".py",
   "mimetype": "text/x-python",
   "name": "python",
   "nbconvert_exporter": "python",
   "pygments_lexer": "ipython3",
   "version": "3.7.4"
  },
  "toc": {
   "base_numbering": 1,
   "nav_menu": {},
   "number_sections": true,
   "sideBar": true,
   "skip_h1_title": false,
   "title_cell": "Table of Contents",
   "title_sidebar": "Contents",
   "toc_cell": false,
   "toc_position": {},
   "toc_section_display": true,
   "toc_window_display": false
  },
  "varInspector": {
   "cols": {
    "lenName": 16,
    "lenType": 16,
    "lenVar": 40
   },
   "kernels_config": {
    "python": {
     "delete_cmd_postfix": "",
     "delete_cmd_prefix": "del ",
     "library": "var_list.py",
     "varRefreshCmd": "print(var_dic_list())"
    },
    "r": {
     "delete_cmd_postfix": ") ",
     "delete_cmd_prefix": "rm(",
     "library": "var_list.r",
     "varRefreshCmd": "cat(var_dic_list()) "
    }
   },
   "types_to_exclude": [
    "module",
    "function",
    "builtin_function_or_method",
    "instance",
    "_Feature"
   ],
   "window_display": false
  }
 },
 "nbformat": 4,
 "nbformat_minor": 2
}
