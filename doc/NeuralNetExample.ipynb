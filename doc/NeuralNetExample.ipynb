{
 "cells": [
  {
   "cell_type": "code",
   "execution_count": 1,
   "metadata": {
    "ExecuteTime": {
     "end_time": "2019-12-30T18:47:08.026309Z",
     "start_time": "2019-12-30T18:47:07.758692Z"
    }
   },
   "outputs": [],
   "source": [
    "import clr\n",
    "clr.AddReference(r\"..\\bin\\MiniSim.Core\")\n",
    "clr.AddReference(r\"..\\bin\\MiniSim.FlowsheetDrawing\")\n",
    "from System import Enum\n",
    "import MiniSim.Core.Expressions as expr\n",
    "from  MiniSim.Core.Flowsheeting import MaterialStream, Flowsheet,IconTypes\n",
    "from  MiniSim.Core.Flowsheeting.Documentation import SpreadsheetElement\n",
    "import MiniSim.Core.Numerics as num\n",
    "from MiniSim.Core.UnitsOfMeasure import Unit, SI, METRIC, PhysicalDimension\n",
    "from MiniSim.Core.ModelLibrary import Flash, Heater, Mixer, Splitter, EquilibriumStageSection, BlackBoxReactor,Valve, FlowMode,ValveCharacteristic, NeuralNet\n",
    "import MiniSim.Core.PropertyDatabase as chemsep\n",
    "from MiniSim.Core.Reporting import Generator, StringBuilderLogger\n",
    "from MiniSim.Core.Thermodynamics import ThermodynamicSystem\n",
    "from MiniSim.FlowsheetDrawing import FlowsheetDrawer, DrawingOptions"
   ]
  },
  {
   "cell_type": "code",
   "execution_count": 2,
   "metadata": {
    "ExecuteTime": {
     "end_time": "2019-12-30T18:47:08.034281Z",
     "start_time": "2019-12-30T18:47:08.028297Z"
    }
   },
   "outputs": [],
   "source": [
    "logger = StringBuilderLogger();"
   ]
  },
  {
   "cell_type": "code",
   "execution_count": 3,
   "metadata": {
    "ExecuteTime": {
     "end_time": "2019-12-30T18:47:08.042259Z",
     "start_time": "2019-12-30T18:47:08.036287Z"
    }
   },
   "outputs": [],
   "source": [
    "def report(a,b,z, solver):\n",
    "    for sys in solver.Subproblems:    \n",
    "        print(f\"Solve equation {sys.Equations[0]} for variable {sys.Variables[0]}\")\n",
    "    \n",
    "    print(f\"a={a.Val()}\")\n",
    "    print(f\"b={b.Val()}\")\n",
    "    print(f\"z={z.Val()}\")\n"
   ]
  },
  {
   "cell_type": "markdown",
   "metadata": {},
   "source": [
    "# Create a new Neural Net\n",
    "\n",
    "In this example we create a very simple neural network with two inputs, a single hidden layer with 1 neuron and a single output. The weights are initialized as 1. The logistic function y=1/(1+exp(-u)) is used as the activation function. The bias is 0 for all neurons."
   ]
  },
  {
   "cell_type": "code",
   "execution_count": 4,
   "metadata": {
    "ExecuteTime": {
     "end_time": "2019-12-30T18:47:08.156979Z",
     "start_time": "2019-12-30T18:47:08.044255Z"
    }
   },
   "outputs": [
    {
     "name": "stdout",
     "output_type": "stream",
     "text": [
      "Decomposition Result: V=6, E=6, Blocks=6, Singletons=6\r\n",
      "Block Statistics:\r\n",
      "   # Var # Blocks % Blocks\r\n",
      "       1        6 100,00 %\r\n",
      "Problem NLAES was successfully solved (0,04 seconds)\r\n",
      "\n",
      "Solve equation EQ000005 >> 0 := U[1] - b = 0 for variable U[1]\n",
      "Solve equation EQ000004 >> 0 := U[0] - a = 0 for variable U[0]\n",
      "Solve equation EQ000001 >> 0 := u[0,0] - ((1 * U[0] + 1 * U[1]) + 0) = 0 for variable u[0,0]\n",
      "Solve equation EQ000002 >> 0 := y[0,0] - 1 / 1 + exp(-(u[0,0])) = 0 for variable y[0,0]\n",
      "Solve equation EQ000003 >> 0 := Y[0] - (1 * y[0,0]) = 0 for variable Y[0]\n",
      "Solve equation EQ000006 >> 0 := Y[0] - z = 0 for variable z\n",
      "a=1.0\n",
      "b=1.0\n",
      "z=0.8807970779778823\n"
     ]
    }
   ],
   "source": [
    "a = expr.Variable(\"a\", 1.0)\n",
    "b = expr.Variable(\"b\", 1.0)\n",
    "z = expr.Variable(\"z\", 1.0)\n",
    "\n",
    "net = NeuralNet(\"NN1\", 2, 1, 1)\n",
    "\n",
    "net.BindInput(0, a) \\\n",
    "    .BindInput(1, b)\\\n",
    "    .BindOutput(0, z)\n",
    "\n",
    "solver =  num.DecompositionSolver(logger)\n",
    "flowsheet = Flowsheet(\"Test: Neural Net\")\n",
    "\n",
    "flowsheet.AddCustomVariable(z)\n",
    "flowsheet.AddUnit(net)\n",
    "\n",
    "status = solver.Solve(flowsheet)\n",
    "print(logger.Flush())\n",
    "report(a,b,z,solver)"
   ]
  },
  {
   "cell_type": "markdown",
   "metadata": {},
   "source": [
    "In the output we see that the system was decomposed into 6 sub problems, each consisting of one variable and one equation. A perfect matching was found. The equations can be solved one after another, and then the result is used for the calculation of the next variable.\n",
    "\n",
    "The neural net responds with an output z=0.881 for the inputs a=1 and b=1."
   ]
  },
  {
   "cell_type": "markdown",
   "metadata": {},
   "source": [
    "# Change Input Values\n",
    "\n",
    "We change the value of the input variable a from 1.0 to 2.0 and observe the output."
   ]
  },
  {
   "cell_type": "code",
   "execution_count": 5,
   "metadata": {
    "ExecuteTime": {
     "end_time": "2019-12-30T18:47:08.164936Z",
     "start_time": "2019-12-30T18:47:08.158949Z"
    }
   },
   "outputs": [
    {
     "name": "stdout",
     "output_type": "stream",
     "text": [
      "Decomposition Result: V=6, E=6, Blocks=6, Singletons=6\r\n",
      "Block Statistics:\r\n",
      "   # Var # Blocks % Blocks\r\n",
      "       1        6 100,00 %\r\n",
      "Problem NLAES was successfully solved (0,00 seconds)\r\n",
      "\n",
      "Solve equation EQ000005 >> 0 := U[1] - b = 0 for variable U[1]\n",
      "Solve equation EQ000004 >> 0 := U[0] - a = 0 for variable U[0]\n",
      "Solve equation EQ000001 >> 0 := u[0,0] - ((1 * U[0] + 1 * U[1]) + 0) = 0 for variable u[0,0]\n",
      "Solve equation EQ000002 >> 0 := y[0,0] - 1 / 1 + exp(-(u[0,0])) = 0 for variable y[0,0]\n",
      "Solve equation EQ000003 >> 0 := Y[0] - (1 * y[0,0]) = 0 for variable Y[0]\n",
      "Solve equation EQ000006 >> 0 := Y[0] - z = 0 for variable z\n",
      "a=2.0\n",
      "b=1.0\n",
      "z=0.9525741268224334\n"
     ]
    }
   ],
   "source": [
    "a.Fix(2.0)\n",
    "status = solver.Solve(flowsheet)\n",
    "print(logger.Flush())\n",
    "report(a,b,z,solver)"
   ]
  },
  {
   "cell_type": "markdown",
   "metadata": {},
   "source": [
    "Increasing the input a from 1.0 to 2.0 raised the output from z=0.881 to z=0.952."
   ]
  },
  {
   "cell_type": "markdown",
   "metadata": {},
   "source": [
    "# Change Input Specifications\n",
    "\n",
    "We remove the output z from the list of calculated variables. We then fix it to an arbitrary value (0.9 in this case). We then unfix the input variable a and add it to the flowsheet as a custom variable."
   ]
  },
  {
   "cell_type": "code",
   "execution_count": 6,
   "metadata": {
    "ExecuteTime": {
     "end_time": "2019-12-30T18:47:08.176084Z",
     "start_time": "2019-12-30T18:47:08.167924Z"
    }
   },
   "outputs": [
    {
     "name": "stdout",
     "output_type": "stream",
     "text": [
      "Decomposition Result: V=6, E=6, Blocks=6, Singletons=6\r\n",
      "Block Statistics:\r\n",
      "   # Var # Blocks % Blocks\r\n",
      "       1        6 100,00 %\r\n",
      "Problem NLAES was successfully solved (0,00 seconds)\r\n",
      "\n",
      "Solve equation EQ000006 >> 0 := Y[0] - z = 0 for variable Y[0]\n",
      "Solve equation EQ000003 >> 0 := Y[0] - (1 * y[0,0]) = 0 for variable y[0,0]\n",
      "Solve equation EQ000002 >> 0 := y[0,0] - 1 / 1 + exp(-(u[0,0])) = 2,23403033849934E-08 for variable u[0,0]\n",
      "Solve equation EQ000005 >> 0 := U[1] - b = 0 for variable U[1]\n",
      "Solve equation EQ000001 >> 0 := u[0,0] - ((1 * U[0] + 1 * U[1]) + 0) = 0 for variable U[0]\n",
      "Solve equation EQ000004 >> 0 := U[0] - a = 0 for variable a\n",
      "a=1.1972243291106524\n",
      "b=1.0\n",
      "z=0.9\n"
     ]
    }
   ],
   "source": [
    "flowsheet.RemoveCustomVariable(z)\n",
    "z.Fix(0.9)\n",
    "a.Unfix()\n",
    "flowsheet.AddCustomVariable(a)\n",
    "status = solver.Solve(flowsheet)\n",
    "print(logger.Flush())\n",
    "report(a,b,z,solver)"
   ]
  },
  {
   "cell_type": "markdown",
   "metadata": {},
   "source": [
    "The calculation order was automatically updated by the Dulmage-Mendelsohn decomposition routine. It still solved all 6 equations sequentially, but now the input U[0] is solved in the last step to get the value of a.\n",
    "\n",
    "To achieve the output value z=0.9, an input a=1.197 is needed."
   ]
  },
  {
   "cell_type": "code",
   "execution_count": null,
   "metadata": {},
   "outputs": [],
   "source": []
  }
 ],
 "metadata": {
  "kernelspec": {
   "display_name": "Python 3",
   "language": "python",
   "name": "python3"
  },
  "language_info": {
   "codemirror_mode": {
    "name": "ipython",
    "version": 3
   },
   "file_extension": ".py",
   "mimetype": "text/x-python",
   "name": "python",
   "nbconvert_exporter": "python",
   "pygments_lexer": "ipython3",
   "version": "3.7.4"
  },
  "toc": {
   "base_numbering": 1,
   "nav_menu": {},
   "number_sections": true,
   "sideBar": true,
   "skip_h1_title": false,
   "title_cell": "Table of Contents",
   "title_sidebar": "Contents",
   "toc_cell": false,
   "toc_position": {},
   "toc_section_display": true,
   "toc_window_display": false
  },
  "varInspector": {
   "cols": {
    "lenName": 16,
    "lenType": 16,
    "lenVar": 40
   },
   "kernels_config": {
    "python": {
     "delete_cmd_postfix": "",
     "delete_cmd_prefix": "del ",
     "library": "var_list.py",
     "varRefreshCmd": "print(var_dic_list())"
    },
    "r": {
     "delete_cmd_postfix": ") ",
     "delete_cmd_prefix": "rm(",
     "library": "var_list.r",
     "varRefreshCmd": "cat(var_dic_list()) "
    }
   },
   "types_to_exclude": [
    "module",
    "function",
    "builtin_function_or_method",
    "instance",
    "_Feature"
   ],
   "window_display": false
  }
 },
 "nbformat": 4,
 "nbformat_minor": 2
}
