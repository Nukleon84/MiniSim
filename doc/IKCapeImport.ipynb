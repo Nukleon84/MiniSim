{
 "cells": [
  {
   "cell_type": "markdown",
   "metadata": {},
   "source": [
    "# .NET Initialization\n",
    "<div style=\"width:100%;height:6px;background-color:Black;\"></div>"
   ]
  },
  {
   "cell_type": "code",
   "execution_count": 10,
   "metadata": {},
   "outputs": [],
   "source": [
    "import clr\n",
    "clr.AddReference(r\"..\\bin\\MiniSim.Core\")\n",
    "\n",
    "import MiniSim.Core.Expressions as expr\n",
    "import MiniSim.Core.Flowsheeting as fl\n",
    "import MiniSim.Core.Numerics as num\n",
    "import MiniSim.Core.UnitsOfMeasure as uom\n",
    "import MiniSim.Core.ModelLibrary as lib\n",
    "import MiniSim.Core.PropertyDatabase as pdb\n",
    "from MiniSim.Core.Reporting import Generator, StringBuilderLogger\n",
    "import MiniSim.Core.Thermodynamics as thermo"
   ]
  },
  {
   "cell_type": "code",
   "execution_count": 11,
   "metadata": {},
   "outputs": [],
   "source": [
    "%matplotlib inline"
   ]
  },
  {
   "cell_type": "code",
   "execution_count": 12,
   "metadata": {},
   "outputs": [],
   "source": [
    "import numpy as np\n",
    "import pandas as pd\n",
    "import matplotlib.pyplot as plt\n",
    "\n",
    "plt.rcParams[\"figure.figsize\"] = (16,8)\n",
    "plt.rcParams['grid.color'] = 'k'"
   ]
  },
  {
   "cell_type": "markdown",
   "metadata": {},
   "source": [
    "# Set up Thermodynamics\n",
    "<div style=\"width:100%;height:6px;background-color:Black;\"></div>"
   ]
  },
  {
   "cell_type": "code",
   "execution_count": 14,
   "metadata": {},
   "outputs": [
    {
     "ename": "AttributeError",
     "evalue": "IKCapeAdapter",
     "output_type": "error",
     "traceback": [
      "\u001b[1;31m---------------------------------------------------------------------------\u001b[0m",
      "\u001b[1;31mAttributeError\u001b[0m                            Traceback (most recent call last)",
      "\u001b[1;32m<ipython-input-14-a3bfe10ef27a>\u001b[0m in \u001b[0;36m<module>\u001b[1;34m\u001b[0m\n\u001b[1;32m----> 1\u001b[1;33m \u001b[0mDatabase\u001b[0m \u001b[1;33m=\u001b[0m \u001b[0mpdb\u001b[0m\u001b[1;33m.\u001b[0m\u001b[0mIKCapeAdapter\u001b[0m\u001b[1;33m(\u001b[0m\u001b[1;33m)\u001b[0m\u001b[1;33m\u001b[0m\u001b[1;33m\u001b[0m\u001b[0m\n\u001b[0m\u001b[0;32m      2\u001b[0m \u001b[0mlogger\u001b[0m \u001b[1;33m=\u001b[0m \u001b[0mStringBuilderLogger\u001b[0m\u001b[1;33m(\u001b[0m\u001b[1;33m)\u001b[0m\u001b[1;33m\u001b[0m\u001b[1;33m\u001b[0m\u001b[0m\n\u001b[0;32m      3\u001b[0m \u001b[0mreporter\u001b[0m \u001b[1;33m=\u001b[0m \u001b[0mGenerator\u001b[0m\u001b[1;33m(\u001b[0m\u001b[0mlogger\u001b[0m\u001b[1;33m)\u001b[0m\u001b[1;33m\u001b[0m\u001b[1;33m\u001b[0m\u001b[0m\n\u001b[0;32m      4\u001b[0m \u001b[1;33m\u001b[0m\u001b[0m\n\u001b[0;32m      5\u001b[0m \u001b[1;32mwith\u001b[0m \u001b[0mopen\u001b[0m \u001b[1;33m(\u001b[0m\u001b[1;34m\"btx.dat\"\u001b[0m\u001b[1;33m,\u001b[0m \u001b[1;34m\"r\"\u001b[0m\u001b[1;33m)\u001b[0m \u001b[1;32mas\u001b[0m \u001b[0mmyfile\u001b[0m\u001b[1;33m:\u001b[0m\u001b[1;33m\u001b[0m\u001b[1;33m\u001b[0m\u001b[0m\n",
      "\u001b[1;31mAttributeError\u001b[0m: IKCapeAdapter"
     ]
    }
   ],
   "source": [
    "Database = pdb.IKCapeAdapter()\n",
    "logger = StringBuilderLogger()\n",
    "reporter = Generator(logger)\n",
    "\n",
    "with open (\"btx.dat\", \"r\") as myfile:\n",
    "    content=myfile.readlines()\n",
    "sys= Database.LoadNeutralFile(content)"
   ]
  },
  {
   "cell_type": "code",
   "execution_count": null,
   "metadata": {},
   "outputs": [],
   "source": [
    "names=sys.GetComponentIds()\n",
    "longnames=sys.GetComponentNames()\n",
    "cas= sys.GetComponentCASNumbers()\n",
    "mw= sys.GetComponentMolarWeights()\n",
    "numComps=len(sys.Components)\n",
    "\n",
    "df_data=pd.DataFrame(zip(longnames, cas, mw), index= names, columns= [\"Name\",\"CASNo\",\"MolarWeight\"])\n",
    "df_data"
   ]
  },
  {
   "cell_type": "markdown",
   "metadata": {},
   "source": [
    "# Pure Component Properties\n",
    "<div style=\"width:100%;height:6px;background-color:Black;\"></div>"
   ]
  },
  {
   "cell_type": "code",
   "execution_count": null,
   "metadata": {},
   "outputs": [],
   "source": [
    "calc= thermo.ThermodynamicCalculator(sys)"
   ]
  },
  {
   "cell_type": "code",
   "execution_count": null,
   "metadata": {},
   "outputs": [],
   "source": [
    "Tmin=0\n",
    "Tmax=400\n",
    "steps=41\n",
    "Tvec= np.linspace(Tmin+273.15,Tmax+273.15,steps)"
   ]
  },
  {
   "cell_type": "markdown",
   "metadata": {},
   "source": [
    "## Vapor Pressure"
   ]
  },
  {
   "cell_type": "code",
   "execution_count": null,
   "metadata": {},
   "outputs": [],
   "source": [
    "value_matrix={}\n",
    "\n",
    "for c in names:\n",
    "    values=[]\n",
    "    for T in Tvec:\n",
    "        y= calc.GetPureComponentProperty(c, \"VP\",T)/100\n",
    "        values.append(y)\n",
    "    value_matrix[c]=values\n",
    "\n",
    "\n",
    "#value_matrix\n",
    "df_vp= pd.DataFrame(value_matrix, index=Tvec-273.15)\n",
    "df_vp.plot()\n",
    "plt.xlabel(\"Temperature [°C]\")\n",
    "plt.ylabel(\"Vapor Pressure [mbar]\");"
   ]
  }
 ],
 "metadata": {
  "kernelspec": {
   "display_name": "Python 3",
   "language": "python",
   "name": "python3"
  },
  "language_info": {
   "codemirror_mode": {
    "name": "ipython",
    "version": 3
   },
   "file_extension": ".py",
   "mimetype": "text/x-python",
   "name": "python",
   "nbconvert_exporter": "python",
   "pygments_lexer": "ipython3",
   "version": "3.7.4"
  }
 },
 "nbformat": 4,
 "nbformat_minor": 2
}
